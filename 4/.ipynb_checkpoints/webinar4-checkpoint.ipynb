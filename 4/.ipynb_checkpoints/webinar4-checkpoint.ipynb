{
 "cells": [
  {
   "cell_type": "markdown",
   "metadata": {
    "id": "u7Zh9eV35B8o"
   },
   "source": [
    "# Вебинар 4. Рекоммендательные системы на основе контента. Поиск похожих товаров и пользователей"
   ]
  },
  {
   "cell_type": "markdown",
   "metadata": {
    "id": "_9Evem6z5B8v"
   },
   "source": [
    "---"
   ]
  },
  {
   "cell_type": "markdown",
   "metadata": {
    "id": "dN3FpHpo5B8w"
   },
   "source": [
    "## Комментарии к домашним заданиям"
   ]
  },
  {
   "cell_type": "markdown",
   "metadata": {
    "id": "gaZddiTS5B8x"
   },
   "source": [
    "### 1. Общие\n",
    "\n",
    "ALS\n",
    "- На вход принимает только *позитивные* взаимодействия\n",
    "- Прогнозирует **не** вероятность, а некоторые числа\n",
    "- В ALS нельзя добавить внешние фичи\n",
    "- ALS не учитывает сезонность / зависимость во времени (но это можно частично поправить - см далее)\n",
    "- Можно использовать для ранжирования (как - см далее + вебинар 5)"
   ]
  },
  {
   "cell_type": "markdown",
   "metadata": {
    "id": "ttZ6eYd25B8y"
   },
   "source": [
    "### 2. Что на самом деле оптимизирует ALS"
   ]
  },
  {
   "cell_type": "markdown",
   "metadata": {
    "id": "w7jvDqcb5B8z"
   },
   "source": [
    "![als_formula.png](als_formula.png)"
   ]
  },
  {
   "cell_type": "markdown",
   "metadata": {
    "id": "VaBCgF4T5B8z"
   },
   "source": [
    "$x_u^T$ - user embeddings  \n",
    "$y_i$ - item embeddings  \n",
    "$p_{ui}$ - 0/1. 1 - если в матрице user-item эдемент > 0 (было взаимодействие)  \n",
    "$c_{ui}$ - Вес ошибки = элемент матрицы user-item  \n",
    "$\\lambda_x$, $\\lambda_y$ - коэффициенты регуляризации  "
   ]
  },
  {
   "cell_type": "markdown",
   "metadata": {
    "id": "ECeAeg0Y5B81"
   },
   "source": [
    "**Что делает ALS**\n",
    "- Максимизирует скалярное произведение (dot product) между векторами user-item для позитивных interactions, минимизирует для негативных"
   ]
  },
  {
   "cell_type": "markdown",
   "metadata": {
    "id": "sfVQy26Z5B81"
   },
   "source": [
    "**Скалярное призведение (dot product) VS косинусная схожесть (cosine similarity)**\n",
    "\n",
    "$$dot(a, b) = a * b$$  \n",
    "  \n",
    "$$cos(a, b) = \\frac{a * b}{||a||*||b||} = \\frac{dot(a, b)}{||a||*||b||}$$"
   ]
  },
  {
   "cell_type": "markdown",
   "metadata": {
    "id": "qFuPZZw35B83"
   },
   "source": [
    "### 3. Как учитывать изменение вкусов потребителей во времени / изменение популярности товара во времени\n",
    "\n",
    "- Летом юзеры любят мороженое, а зимой - нет\n",
    "- Многие фильмы популярны во время проката в кино, затем их популярность снижается\n",
    "\n",
    "*Что делать?*  \n",
    "Ограничить давность взаимодейстий.  \n",
    "Давать последним взаимодействиям больший вес:  \n",
    "\n",
    "$$value_w = \\sum_i value_i * \\frac{1}{1 + \\exp^{ \\alpha*t}}$$"
   ]
  },
  {
   "cell_type": "code",
   "execution_count": 1,
   "metadata": {
    "colab": {
     "base_uri": "https://localhost:8080/"
    },
    "id": "YX72IMVR9G2u",
    "outputId": "3bb154d0-ad50-4ab5-d835-45fc5fdd4bb7"
   },
   "outputs": [
    {
     "name": "stdout",
     "output_type": "stream",
     "text": [
      "Collecting implicit==0.4.8\n",
      "  Using cached implicit-0.4.8.tar.gz (1.1 MB)\n",
      "  Installing build dependencies: started\n",
      "  Installing build dependencies: finished with status 'done'\n",
      "  Getting requirements to build wheel: started\n",
      "  Getting requirements to build wheel: finished with status 'done'\n",
      "  Installing backend dependencies: started\n",
      "  Installing backend dependencies: finished with status 'done'\n",
      "    Preparing wheel metadata: started\n",
      "    Preparing wheel metadata: finished with status 'done'\n",
      "Requirement already satisfied: scipy>=0.16 in c:\\users\\a_bredihin\\anaconda3\\lib\\site-packages (from implicit==0.4.8) (1.5.2)\n",
      "Requirement already satisfied: numpy in c:\\users\\a_bredihin\\anaconda3\\lib\\site-packages (from implicit==0.4.8) (1.19.2)\n",
      "Requirement already satisfied: tqdm>=4.27 in c:\\users\\a_bredihin\\anaconda3\\lib\\site-packages (from implicit==0.4.8) (4.50.2)\n",
      "Building wheels for collected packages: implicit\n",
      "  Building wheel for implicit (PEP 517): started\n",
      "  Building wheel for implicit (PEP 517): finished with status 'error'\n",
      "Failed to build implicit\n"
     ]
    },
    {
     "name": "stderr",
     "output_type": "stream",
     "text": [
      "  ERROR: Command errored out with exit status 1:\n",
      "   command: 'C:\\Users\\a_bredihin\\Anaconda3\\python.exe' 'C:\\Users\\a_bredihin\\Anaconda3\\lib\\site-packages\\pip\\_vendor\\pep517\\_in_process.py' build_wheel 'C:\\Users\\A_BRED~1\\AppData\\Local\\Temp\\tmplg37cq3d'\n",
      "       cwd: C:\\Users\\a_bredihin\\AppData\\Local\\Temp\\pip-install-0i70o1xx\\implicit\n",
      "  Complete output (35 lines):\n",
      "  WARNING:root:The nvcc binary could not be located in your $PATH. Either add it to your path, or set $CUDAHOME to enable CUDA extensions\n",
      "  Failed to find CUDA toolkit. Building without GPU acceleration.\n",
      "  running bdist_wheel\n",
      "  running build\n",
      "  running build_py\n",
      "  creating build\n",
      "  creating build\\lib.win-amd64-3.8\n",
      "  creating build\\lib.win-amd64-3.8\\implicit\n",
      "  copying implicit\\als.py -> build\\lib.win-amd64-3.8\\implicit\n",
      "  copying implicit\\approximate_als.py -> build\\lib.win-amd64-3.8\\implicit\n",
      "  copying implicit\\bpr.py -> build\\lib.win-amd64-3.8\\implicit\n",
      "  copying implicit\\nearest_neighbours.py -> build\\lib.win-amd64-3.8\\implicit\n",
      "  copying implicit\\utils.py -> build\\lib.win-amd64-3.8\\implicit\n",
      "  copying implicit\\__init__.py -> build\\lib.win-amd64-3.8\\implicit\n",
      "  creating build\\lib.win-amd64-3.8\\implicit\\cpu\n",
      "  copying implicit\\cpu\\als.py -> build\\lib.win-amd64-3.8\\implicit\\cpu\n",
      "  copying implicit\\cpu\\__init__.py -> build\\lib.win-amd64-3.8\\implicit\\cpu\n",
      "  creating build\\lib.win-amd64-3.8\\implicit\\datasets\n",
      "  copying implicit\\datasets\\lastfm.py -> build\\lib.win-amd64-3.8\\implicit\\datasets\n",
      "  copying implicit\\datasets\\million_song_dataset.py -> build\\lib.win-amd64-3.8\\implicit\\datasets\n",
      "  copying implicit\\datasets\\movielens.py -> build\\lib.win-amd64-3.8\\implicit\\datasets\n",
      "  copying implicit\\datasets\\reddit.py -> build\\lib.win-amd64-3.8\\implicit\\datasets\n",
      "  copying implicit\\datasets\\sketchfab.py -> build\\lib.win-amd64-3.8\\implicit\\datasets\n",
      "  copying implicit\\datasets\\_download.py -> build\\lib.win-amd64-3.8\\implicit\\datasets\n",
      "  copying implicit\\datasets\\__init__.py -> build\\lib.win-amd64-3.8\\implicit\\datasets\n",
      "  creating build\\lib.win-amd64-3.8\\implicit\\gpu\n",
      "  copying implicit\\gpu\\als.py -> build\\lib.win-amd64-3.8\\implicit\\gpu\n",
      "  copying implicit\\gpu\\bpr.py -> build\\lib.win-amd64-3.8\\implicit\\gpu\n",
      "  copying implicit\\gpu\\matrix_factorization_base.py -> build\\lib.win-amd64-3.8\\implicit\\gpu\n",
      "  copying implicit\\gpu\\__init__.py -> build\\lib.win-amd64-3.8\\implicit\\gpu\n",
      "  running build_ext\n",
      "  building 'implicit._nearest_neighbours' extension\n",
      "  C:\\Users\\a_bredihin\\AppData\\Local\\Temp\\pip-build-env-lnr2ds48\\overlay\\Lib\\site-packages\\setuptools\\dist.py:757: UserWarning: Usage of dash-separated 'description-file' will not be supported in future versions. Please use the underscore name 'description_file' instead\n",
      "    warnings.warn(\n",
      "  error: Microsoft Visual C++ 14.0 or greater is required. Get it with \"Microsoft C++ Build Tools\": https://visualstudio.microsoft.com/visual-cpp-build-tools/\n",
      "  ----------------------------------------\n",
      "  ERROR: Failed building wheel for implicit\n",
      "ERROR: Could not build wheels for implicit which use PEP 517 and cannot be installed directly\n"
     ]
    }
   ],
   "source": [
    "#!pip install implicit==0.4.8"
   ]
  },
  {
   "cell_type": "code",
   "execution_count": 1,
   "metadata": {
    "id": "XAig2l2a5B87"
   },
   "outputs": [],
   "source": [
    "import pandas as pd\n",
    "import numpy as np\n",
    "import matplotlib.pyplot as plt\n",
    "%matplotlib inline\n",
    "\n",
    "# Для работы с матрицами\n",
    "from scipy.sparse import csr_matrix\n",
    "\n",
    "# Матричная факторизация\n",
    "from implicit.als import AlternatingLeastSquares\n",
    "from implicit.nearest_neighbours import ItemItemRecommender  # нужен для одного трюка\n",
    "from implicit.nearest_neighbours import bm25_weight, tfidf_weight\n",
    "\n",
    "# Функции из 1-ого вебинара\n",
    "import os, sys"
   ]
  },
  {
   "cell_type": "code",
   "execution_count": 2,
   "metadata": {
    "pycharm": {
     "name": "#%%\n"
    }
   },
   "outputs": [],
   "source": [
    "import implicit"
   ]
  },
  {
   "cell_type": "code",
   "execution_count": 3,
   "metadata": {
    "pycharm": {
     "name": "#%%\n"
    }
   },
   "outputs": [
    {
     "data": {
      "text/plain": [
       "'0.5.2'"
      ]
     },
     "execution_count": 3,
     "metadata": {},
     "output_type": "execute_result"
    }
   ],
   "source": [
    "implicit.__version__"
   ]
  },
  {
   "cell_type": "code",
   "execution_count": 4,
   "metadata": {
    "id": "cywNNfbh5zM-"
   },
   "outputs": [],
   "source": [
    "def precision_at_k(recommended_list, bought_list, k=5):\n",
    "    \n",
    "    bought_list = np.array(bought_list)\n",
    "    recommended_list = np.array(recommended_list)\n",
    "    \n",
    "    bought_list = bought_list  # Тут нет [:k] !!\n",
    "    try:\n",
    "        recommended_list = recommended_list[:k]\n",
    "    except:\n",
    "        recommended_list = []\n",
    "    \n",
    "    flags = np.isin(bought_list, recommended_list)\n",
    "    \n",
    "    precision = flags.sum() / len(recommended_list)\n",
    "    \n",
    "    \n",
    "    return precision"
   ]
  },
  {
   "cell_type": "code",
   "execution_count": 5,
   "metadata": {
    "id": "hERI1LFs-enc"
   },
   "outputs": [],
   "source": [
    "def prefilter_items(data):\n",
    "    # Уберем самые популярные товары (их и так купят)\n",
    "    #popularity = data_train.groupby('item_id')['user_id'].nunique().reset_index() / data_train['user_id'].nunique()\n",
    "    #popularity.rename(columns={'user_id': 'share_unique_users'}, inplace=True)\n",
    "    \n",
    "    #top_popular = popularity[popularity['share_unique_users'] > 0.5].item_id.tolist()\n",
    "    #data = data[~data['item_id'].isin(top_popular)]\n",
    "    \n",
    "    # Уберем самые НЕ популярные товары (их и так НЕ купят)\n",
    "    top_notpopular = popularity[popularity['share_unique_users'] < 0.01].item_id.tolist()\n",
    "    data = data[~data['item_id'].isin(top_notpopular)]\n",
    "    \n",
    "    # Уберем товары, которые не продавались за последние 12 месяцев\n",
    "    \n",
    "    # Уберем не интересные для рекоммендаций категории (department)\n",
    "    \n",
    "    # Уберем слишком дешевые товары (на них не заработаем). 1 покупка из рассылок стоит 60 руб. \n",
    "    \n",
    "    # Уберем слишком дорогие товары\n",
    "    \n",
    "    # ...\n",
    "    \n",
    "def postfilter_items(user_id, recommednations):\n",
    "    pass"
   ]
  },
  {
   "cell_type": "code",
   "execution_count": 6,
   "metadata": {
    "colab": {
     "base_uri": "https://localhost:8080/",
     "height": 112
    },
    "id": "E39GcKL55B88",
    "outputId": "2043358d-2a3e-4490-8ee8-d8d34b53734f"
   },
   "outputs": [
    {
     "data": {
      "text/html": [
       "<div>\n",
       "<style scoped>\n",
       "    .dataframe tbody tr th:only-of-type {\n",
       "        vertical-align: middle;\n",
       "    }\n",
       "\n",
       "    .dataframe tbody tr th {\n",
       "        vertical-align: top;\n",
       "    }\n",
       "\n",
       "    .dataframe thead th {\n",
       "        text-align: right;\n",
       "    }\n",
       "</style>\n",
       "<table border=\"1\" class=\"dataframe\">\n",
       "  <thead>\n",
       "    <tr style=\"text-align: right;\">\n",
       "      <th></th>\n",
       "      <th>user_id</th>\n",
       "      <th>basket_id</th>\n",
       "      <th>day</th>\n",
       "      <th>item_id</th>\n",
       "      <th>quantity</th>\n",
       "      <th>sales_value</th>\n",
       "      <th>store_id</th>\n",
       "      <th>retail_disc</th>\n",
       "      <th>trans_time</th>\n",
       "      <th>week_no</th>\n",
       "      <th>coupon_disc</th>\n",
       "      <th>coupon_match_disc</th>\n",
       "    </tr>\n",
       "  </thead>\n",
       "  <tbody>\n",
       "    <tr>\n",
       "      <th>0</th>\n",
       "      <td>2375</td>\n",
       "      <td>26984851472</td>\n",
       "      <td>1</td>\n",
       "      <td>1004906</td>\n",
       "      <td>1</td>\n",
       "      <td>1.39</td>\n",
       "      <td>364</td>\n",
       "      <td>-0.6</td>\n",
       "      <td>1631</td>\n",
       "      <td>1</td>\n",
       "      <td>0.0</td>\n",
       "      <td>0.0</td>\n",
       "    </tr>\n",
       "    <tr>\n",
       "      <th>1</th>\n",
       "      <td>2375</td>\n",
       "      <td>26984851472</td>\n",
       "      <td>1</td>\n",
       "      <td>1033142</td>\n",
       "      <td>1</td>\n",
       "      <td>0.82</td>\n",
       "      <td>364</td>\n",
       "      <td>0.0</td>\n",
       "      <td>1631</td>\n",
       "      <td>1</td>\n",
       "      <td>0.0</td>\n",
       "      <td>0.0</td>\n",
       "    </tr>\n",
       "  </tbody>\n",
       "</table>\n",
       "</div>"
      ],
      "text/plain": [
       "   user_id    basket_id  day  item_id  quantity  sales_value  store_id  \\\n",
       "0     2375  26984851472    1  1004906         1         1.39       364   \n",
       "1     2375  26984851472    1  1033142         1         0.82       364   \n",
       "\n",
       "   retail_disc  trans_time  week_no  coupon_disc  coupon_match_disc  \n",
       "0         -0.6        1631        1          0.0                0.0  \n",
       "1          0.0        1631        1          0.0                0.0  "
      ]
     },
     "execution_count": 6,
     "metadata": {},
     "output_type": "execute_result"
    }
   ],
   "source": [
    "data = pd.read_csv('transaction_data.csv')\n",
    "\n",
    "data.columns = [col.lower() for col in data.columns]\n",
    "data.rename(columns={'household_key': 'user_id',\n",
    "                    'product_id': 'item_id'},\n",
    "           inplace=True)\n",
    "\n",
    "\n",
    "test_size_weeks = 3\n",
    "\n",
    "data_train = data[data['week_no'] < data['week_no'].max() - test_size_weeks]\n",
    "data_test = data[data['week_no'] >= data['week_no'].max() - test_size_weeks]\n",
    "\n",
    "data_train.head(2)"
   ]
  },
  {
   "cell_type": "code",
   "execution_count": 7,
   "metadata": {
    "pycharm": {
     "name": "#%%\n"
    }
   },
   "outputs": [
    {
     "data": {
      "text/html": [
       "<div>\n",
       "<style scoped>\n",
       "    .dataframe tbody tr th:only-of-type {\n",
       "        vertical-align: middle;\n",
       "    }\n",
       "\n",
       "    .dataframe tbody tr th {\n",
       "        vertical-align: top;\n",
       "    }\n",
       "\n",
       "    .dataframe thead th {\n",
       "        text-align: right;\n",
       "    }\n",
       "</style>\n",
       "<table border=\"1\" class=\"dataframe\">\n",
       "  <thead>\n",
       "    <tr style=\"text-align: right;\">\n",
       "      <th></th>\n",
       "      <th>item_id</th>\n",
       "      <th>manufacturer</th>\n",
       "      <th>department</th>\n",
       "      <th>brand</th>\n",
       "      <th>commodity_desc</th>\n",
       "      <th>sub_commodity_desc</th>\n",
       "      <th>curr_size_of_product</th>\n",
       "    </tr>\n",
       "  </thead>\n",
       "  <tbody>\n",
       "    <tr>\n",
       "      <th>0</th>\n",
       "      <td>25671</td>\n",
       "      <td>2</td>\n",
       "      <td>GROCERY</td>\n",
       "      <td>National</td>\n",
       "      <td>FRZN ICE</td>\n",
       "      <td>ICE - CRUSHED/CUBED</td>\n",
       "      <td>22 LB</td>\n",
       "    </tr>\n",
       "    <tr>\n",
       "      <th>1</th>\n",
       "      <td>26081</td>\n",
       "      <td>2</td>\n",
       "      <td>MISC. TRANS.</td>\n",
       "      <td>National</td>\n",
       "      <td>NO COMMODITY DESCRIPTION</td>\n",
       "      <td>NO SUBCOMMODITY DESCRIPTION</td>\n",
       "      <td></td>\n",
       "    </tr>\n",
       "  </tbody>\n",
       "</table>\n",
       "</div>"
      ],
      "text/plain": [
       "   item_id  manufacturer    department     brand            commodity_desc  \\\n",
       "0    25671             2       GROCERY  National                  FRZN ICE   \n",
       "1    26081             2  MISC. TRANS.  National  NO COMMODITY DESCRIPTION   \n",
       "\n",
       "            sub_commodity_desc curr_size_of_product  \n",
       "0          ICE - CRUSHED/CUBED                22 LB  \n",
       "1  NO SUBCOMMODITY DESCRIPTION                       "
      ]
     },
     "execution_count": 7,
     "metadata": {},
     "output_type": "execute_result"
    }
   ],
   "source": [
    "item_features = pd.read_csv('product.csv')\n",
    "item_features.columns = [col.lower() for col in item_features.columns]\n",
    "item_features.rename(columns={'product_id': 'item_id'}, inplace=True)\n",
    "\n",
    "item_features.head(2)"
   ]
  },
  {
   "cell_type": "code",
   "execution_count": 8,
   "metadata": {
    "colab": {
     "base_uri": "https://localhost:8080/",
     "height": 200
    },
    "id": "ar2qoBR75B8_",
    "outputId": "93ea88dc-fc5a-4aa3-faef-b91b7dca6cfc"
   },
   "outputs": [
    {
     "data": {
      "text/html": [
       "<div>\n",
       "<style scoped>\n",
       "    .dataframe tbody tr th:only-of-type {\n",
       "        vertical-align: middle;\n",
       "    }\n",
       "\n",
       "    .dataframe tbody tr th {\n",
       "        vertical-align: top;\n",
       "    }\n",
       "\n",
       "    .dataframe thead th {\n",
       "        text-align: right;\n",
       "    }\n",
       "</style>\n",
       "<table border=\"1\" class=\"dataframe\">\n",
       "  <thead>\n",
       "    <tr style=\"text-align: right;\">\n",
       "      <th></th>\n",
       "      <th>user_id</th>\n",
       "      <th>actual</th>\n",
       "    </tr>\n",
       "  </thead>\n",
       "  <tbody>\n",
       "    <tr>\n",
       "      <th>0</th>\n",
       "      <td>1</td>\n",
       "      <td>[879517, 934369, 1115576, 1124029, 5572301, 65...</td>\n",
       "    </tr>\n",
       "    <tr>\n",
       "      <th>1</th>\n",
       "      <td>3</td>\n",
       "      <td>[823704, 834117, 840244, 913785, 917816, 93870...</td>\n",
       "    </tr>\n",
       "  </tbody>\n",
       "</table>\n",
       "</div>"
      ],
      "text/plain": [
       "   user_id                                             actual\n",
       "0        1  [879517, 934369, 1115576, 1124029, 5572301, 65...\n",
       "1        3  [823704, 834117, 840244, 913785, 917816, 93870..."
      ]
     },
     "execution_count": 8,
     "metadata": {},
     "output_type": "execute_result"
    }
   ],
   "source": [
    "result = data_test.groupby('user_id')['item_id'].unique().reset_index()\n",
    "result.columns=['user_id', 'actual']\n",
    "result.head(2)"
   ]
  },
  {
   "cell_type": "code",
   "execution_count": 9,
   "metadata": {
    "id": "94pOnXww-5h5"
   },
   "outputs": [],
   "source": [
    "n_items_before = data_train['item_id'].nunique()"
   ]
  },
  {
   "cell_type": "code",
   "execution_count": 10,
   "metadata": {
    "colab": {
     "base_uri": "https://localhost:8080/"
    },
    "id": "q58o9ja8-gDN",
    "outputId": "71690943-faa3-4935-b59b-a90de5e9c312"
   },
   "outputs": [
    {
     "data": {
      "text/plain": [
       "90386"
      ]
     },
     "execution_count": 10,
     "metadata": {},
     "output_type": "execute_result"
    }
   ],
   "source": [
    "n_items_before"
   ]
  },
  {
   "cell_type": "code",
   "execution_count": 11,
   "metadata": {
    "colab": {
     "base_uri": "https://localhost:8080/"
    },
    "id": "a3YFMYuD-tCC",
    "outputId": "88fc22a0-3f20-42a4-848c-35e698d274da"
   },
   "outputs": [
    {
     "name": "stderr",
     "output_type": "stream",
     "text": [
      "C:\\Users\\a_bredihin\\Anaconda3\\lib\\site-packages\\pandas\\core\\indexing.py:1765: SettingWithCopyWarning: \n",
      "A value is trying to be set on a copy of a slice from a DataFrame.\n",
      "Try using .loc[row_indexer,col_indexer] = value instead\n",
      "\n",
      "See the caveats in the documentation: https://pandas.pydata.org/pandas-docs/stable/user_guide/indexing.html#returning-a-view-versus-a-copy\n",
      "  isetter(loc, value)\n"
     ]
    }
   ],
   "source": [
    "popularity = data_train.groupby('item_id')['quantity'].sum().reset_index()\n",
    "popularity.rename(columns={'quantity': 'n_sold'}, inplace=True)\n",
    "\n",
    "top_5000 = popularity.sort_values('n_sold', ascending=False).head(5000).item_id.tolist()\n",
    "\n",
    "data_train.loc[~data_train['item_id'].isin(top_5000), 'item_id'] = 999999"
   ]
  },
  {
   "cell_type": "code",
   "execution_count": 12,
   "metadata": {
    "colab": {
     "base_uri": "https://localhost:8080/"
    },
    "id": "i2TrLMvr5B8_",
    "outputId": "6072d749-0dea-47b5-eed9-e2bf1fc173de"
   },
   "outputs": [
    {
     "name": "stdout",
     "output_type": "stream",
     "text": [
      "Decreased 85385 items from 90386 to 5001\n"
     ]
    }
   ],
   "source": [
    "n_items_after = data_train['item_id'].nunique()\n",
    "print('Decreased {} items from {} to {}'.format(n_items_before-n_items_after, n_items_before, n_items_after))"
   ]
  },
  {
   "cell_type": "code",
   "execution_count": 13,
   "metadata": {
    "pycharm": {
     "name": "#%%\n"
    }
   },
   "outputs": [
    {
     "data": {
      "text/html": [
       "<div>\n",
       "<style scoped>\n",
       "    .dataframe tbody tr th:only-of-type {\n",
       "        vertical-align: middle;\n",
       "    }\n",
       "\n",
       "    .dataframe tbody tr th {\n",
       "        vertical-align: top;\n",
       "    }\n",
       "\n",
       "    .dataframe thead th {\n",
       "        text-align: right;\n",
       "    }\n",
       "</style>\n",
       "<table border=\"1\" class=\"dataframe\">\n",
       "  <thead>\n",
       "    <tr style=\"text-align: right;\">\n",
       "      <th></th>\n",
       "      <th>user_id</th>\n",
       "      <th>basket_id</th>\n",
       "      <th>day</th>\n",
       "      <th>item_id</th>\n",
       "      <th>quantity</th>\n",
       "      <th>sales_value</th>\n",
       "      <th>store_id</th>\n",
       "      <th>retail_disc</th>\n",
       "      <th>trans_time</th>\n",
       "      <th>week_no</th>\n",
       "      <th>coupon_disc</th>\n",
       "      <th>coupon_match_disc</th>\n",
       "    </tr>\n",
       "  </thead>\n",
       "  <tbody>\n",
       "    <tr>\n",
       "      <th>0</th>\n",
       "      <td>2375</td>\n",
       "      <td>26984851472</td>\n",
       "      <td>1</td>\n",
       "      <td>1004906</td>\n",
       "      <td>1</td>\n",
       "      <td>1.39</td>\n",
       "      <td>364</td>\n",
       "      <td>-0.60</td>\n",
       "      <td>1631</td>\n",
       "      <td>1</td>\n",
       "      <td>0.0</td>\n",
       "      <td>0.0</td>\n",
       "    </tr>\n",
       "    <tr>\n",
       "      <th>1</th>\n",
       "      <td>2375</td>\n",
       "      <td>26984851472</td>\n",
       "      <td>1</td>\n",
       "      <td>1033142</td>\n",
       "      <td>1</td>\n",
       "      <td>0.82</td>\n",
       "      <td>364</td>\n",
       "      <td>0.00</td>\n",
       "      <td>1631</td>\n",
       "      <td>1</td>\n",
       "      <td>0.0</td>\n",
       "      <td>0.0</td>\n",
       "    </tr>\n",
       "    <tr>\n",
       "      <th>2</th>\n",
       "      <td>2375</td>\n",
       "      <td>26984851472</td>\n",
       "      <td>1</td>\n",
       "      <td>1036325</td>\n",
       "      <td>1</td>\n",
       "      <td>0.99</td>\n",
       "      <td>364</td>\n",
       "      <td>-0.30</td>\n",
       "      <td>1631</td>\n",
       "      <td>1</td>\n",
       "      <td>0.0</td>\n",
       "      <td>0.0</td>\n",
       "    </tr>\n",
       "    <tr>\n",
       "      <th>3</th>\n",
       "      <td>2375</td>\n",
       "      <td>26984851472</td>\n",
       "      <td>1</td>\n",
       "      <td>1082185</td>\n",
       "      <td>1</td>\n",
       "      <td>1.21</td>\n",
       "      <td>364</td>\n",
       "      <td>0.00</td>\n",
       "      <td>1631</td>\n",
       "      <td>1</td>\n",
       "      <td>0.0</td>\n",
       "      <td>0.0</td>\n",
       "    </tr>\n",
       "    <tr>\n",
       "      <th>4</th>\n",
       "      <td>2375</td>\n",
       "      <td>26984851472</td>\n",
       "      <td>1</td>\n",
       "      <td>8160430</td>\n",
       "      <td>1</td>\n",
       "      <td>1.50</td>\n",
       "      <td>364</td>\n",
       "      <td>-0.39</td>\n",
       "      <td>1631</td>\n",
       "      <td>1</td>\n",
       "      <td>0.0</td>\n",
       "      <td>0.0</td>\n",
       "    </tr>\n",
       "  </tbody>\n",
       "</table>\n",
       "</div>"
      ],
      "text/plain": [
       "   user_id    basket_id  day  item_id  quantity  sales_value  store_id  \\\n",
       "0     2375  26984851472    1  1004906         1         1.39       364   \n",
       "1     2375  26984851472    1  1033142         1         0.82       364   \n",
       "2     2375  26984851472    1  1036325         1         0.99       364   \n",
       "3     2375  26984851472    1  1082185         1         1.21       364   \n",
       "4     2375  26984851472    1  8160430         1         1.50       364   \n",
       "\n",
       "   retail_disc  trans_time  week_no  coupon_disc  coupon_match_disc  \n",
       "0        -0.60        1631        1          0.0                0.0  \n",
       "1         0.00        1631        1          0.0                0.0  \n",
       "2        -0.30        1631        1          0.0                0.0  \n",
       "3         0.00        1631        1          0.0                0.0  \n",
       "4        -0.39        1631        1          0.0                0.0  "
      ]
     },
     "execution_count": 13,
     "metadata": {},
     "output_type": "execute_result"
    }
   ],
   "source": [
    "data_train.head()"
   ]
  },
  {
   "cell_type": "code",
   "execution_count": 14,
   "metadata": {
    "pycharm": {
     "name": "#%%\n"
    }
   },
   "outputs": [
    {
     "data": {
      "text/plain": [
       "1        1963675\n",
       "2         356538\n",
       "3          64152\n",
       "4          37087\n",
       "0          13813\n",
       "          ...   \n",
       "11800          1\n",
       "13107          1\n",
       "2868           1\n",
       "4919           1\n",
       "6141           1\n",
       "Name: quantity, Length: 11479, dtype: int64"
      ]
     },
     "execution_count": 14,
     "metadata": {},
     "output_type": "execute_result"
    }
   ],
   "source": [
    "data_train['quantity'].value_counts()"
   ]
  },
  {
   "cell_type": "code",
   "execution_count": 15,
   "metadata": {
    "colab": {
     "base_uri": "https://localhost:8080/",
     "height": 268
    },
    "id": "n8-SmPsw5B9A",
    "outputId": "e4099e40-8ae0-4147-d78f-0fd1ad3caf9c"
   },
   "outputs": [
    {
     "data": {
      "text/html": [
       "<div>\n",
       "<style scoped>\n",
       "    .dataframe tbody tr th:only-of-type {\n",
       "        vertical-align: middle;\n",
       "    }\n",
       "\n",
       "    .dataframe tbody tr th {\n",
       "        vertical-align: top;\n",
       "    }\n",
       "\n",
       "    .dataframe thead th {\n",
       "        text-align: right;\n",
       "    }\n",
       "</style>\n",
       "<table border=\"1\" class=\"dataframe\">\n",
       "  <thead>\n",
       "    <tr style=\"text-align: right;\">\n",
       "      <th>item_id</th>\n",
       "      <th>202291</th>\n",
       "      <th>397896</th>\n",
       "      <th>420647</th>\n",
       "      <th>480014</th>\n",
       "      <th>545926</th>\n",
       "      <th>707683</th>\n",
       "      <th>731106</th>\n",
       "      <th>818980</th>\n",
       "      <th>819063</th>\n",
       "      <th>819227</th>\n",
       "      <th>...</th>\n",
       "      <th>15926885</th>\n",
       "      <th>15926886</th>\n",
       "      <th>15926887</th>\n",
       "      <th>15926927</th>\n",
       "      <th>15927033</th>\n",
       "      <th>15927403</th>\n",
       "      <th>15927661</th>\n",
       "      <th>15927850</th>\n",
       "      <th>16809471</th>\n",
       "      <th>17105257</th>\n",
       "    </tr>\n",
       "    <tr>\n",
       "      <th>user_id</th>\n",
       "      <th></th>\n",
       "      <th></th>\n",
       "      <th></th>\n",
       "      <th></th>\n",
       "      <th></th>\n",
       "      <th></th>\n",
       "      <th></th>\n",
       "      <th></th>\n",
       "      <th></th>\n",
       "      <th></th>\n",
       "      <th></th>\n",
       "      <th></th>\n",
       "      <th></th>\n",
       "      <th></th>\n",
       "      <th></th>\n",
       "      <th></th>\n",
       "      <th></th>\n",
       "      <th></th>\n",
       "      <th></th>\n",
       "      <th></th>\n",
       "      <th></th>\n",
       "    </tr>\n",
       "  </thead>\n",
       "  <tbody>\n",
       "    <tr>\n",
       "      <th>1</th>\n",
       "      <td>0.0</td>\n",
       "      <td>0.0</td>\n",
       "      <td>0.0</td>\n",
       "      <td>0.0</td>\n",
       "      <td>0.0</td>\n",
       "      <td>0.0</td>\n",
       "      <td>0.0</td>\n",
       "      <td>0.0</td>\n",
       "      <td>0.0</td>\n",
       "      <td>0.0</td>\n",
       "      <td>...</td>\n",
       "      <td>0.0</td>\n",
       "      <td>0.0</td>\n",
       "      <td>0.0</td>\n",
       "      <td>2.0</td>\n",
       "      <td>0.0</td>\n",
       "      <td>0.0</td>\n",
       "      <td>0.0</td>\n",
       "      <td>0.0</td>\n",
       "      <td>0.0</td>\n",
       "      <td>0.0</td>\n",
       "    </tr>\n",
       "    <tr>\n",
       "      <th>2</th>\n",
       "      <td>0.0</td>\n",
       "      <td>0.0</td>\n",
       "      <td>0.0</td>\n",
       "      <td>0.0</td>\n",
       "      <td>0.0</td>\n",
       "      <td>0.0</td>\n",
       "      <td>0.0</td>\n",
       "      <td>0.0</td>\n",
       "      <td>0.0</td>\n",
       "      <td>0.0</td>\n",
       "      <td>...</td>\n",
       "      <td>0.0</td>\n",
       "      <td>0.0</td>\n",
       "      <td>0.0</td>\n",
       "      <td>1.0</td>\n",
       "      <td>0.0</td>\n",
       "      <td>0.0</td>\n",
       "      <td>0.0</td>\n",
       "      <td>0.0</td>\n",
       "      <td>0.0</td>\n",
       "      <td>0.0</td>\n",
       "    </tr>\n",
       "    <tr>\n",
       "      <th>3</th>\n",
       "      <td>0.0</td>\n",
       "      <td>0.0</td>\n",
       "      <td>0.0</td>\n",
       "      <td>0.0</td>\n",
       "      <td>0.0</td>\n",
       "      <td>0.0</td>\n",
       "      <td>0.0</td>\n",
       "      <td>0.0</td>\n",
       "      <td>0.0</td>\n",
       "      <td>0.0</td>\n",
       "      <td>...</td>\n",
       "      <td>0.0</td>\n",
       "      <td>0.0</td>\n",
       "      <td>0.0</td>\n",
       "      <td>0.0</td>\n",
       "      <td>0.0</td>\n",
       "      <td>0.0</td>\n",
       "      <td>0.0</td>\n",
       "      <td>0.0</td>\n",
       "      <td>0.0</td>\n",
       "      <td>0.0</td>\n",
       "    </tr>\n",
       "  </tbody>\n",
       "</table>\n",
       "<p>3 rows × 5001 columns</p>\n",
       "</div>"
      ],
      "text/plain": [
       "item_id  202291    397896    420647    480014    545926    707683    731106    \\\n",
       "user_id                                                                         \n",
       "1             0.0       0.0       0.0       0.0       0.0       0.0       0.0   \n",
       "2             0.0       0.0       0.0       0.0       0.0       0.0       0.0   \n",
       "3             0.0       0.0       0.0       0.0       0.0       0.0       0.0   \n",
       "\n",
       "item_id  818980    819063    819227    ...  15926885  15926886  15926887  \\\n",
       "user_id                                ...                                 \n",
       "1             0.0       0.0       0.0  ...       0.0       0.0       0.0   \n",
       "2             0.0       0.0       0.0  ...       0.0       0.0       0.0   \n",
       "3             0.0       0.0       0.0  ...       0.0       0.0       0.0   \n",
       "\n",
       "item_id  15926927  15927033  15927403  15927661  15927850  16809471  17105257  \n",
       "user_id                                                                        \n",
       "1             2.0       0.0       0.0       0.0       0.0       0.0       0.0  \n",
       "2             1.0       0.0       0.0       0.0       0.0       0.0       0.0  \n",
       "3             0.0       0.0       0.0       0.0       0.0       0.0       0.0  \n",
       "\n",
       "[3 rows x 5001 columns]"
      ]
     },
     "execution_count": 15,
     "metadata": {},
     "output_type": "execute_result"
    }
   ],
   "source": [
    "user_item_matrix = pd.pivot_table(data_train, \n",
    "                                  index='user_id', columns='item_id', \n",
    "                                  values='quantity', # Можно пробоват другие варианты\n",
    "                                  aggfunc='count', \n",
    "                                  fill_value=0\n",
    "                                 )\n",
    "\n",
    "user_item_matrix = user_item_matrix.astype(float) # необходимый тип матрицы для implicit\n",
    "\n",
    "user_item_matrix.head(3)"
   ]
  },
  {
   "cell_type": "code",
   "execution_count": 16,
   "metadata": {
    "id": "zarf1NBo5B9A"
   },
   "outputs": [],
   "source": [
    "userids = user_item_matrix.index.values\n",
    "itemids = user_item_matrix.columns.values\n",
    "\n",
    "matrix_userids = np.arange(len(userids))\n",
    "matrix_itemids = np.arange(len(itemids))\n",
    "\n",
    "id_to_itemid = dict(zip(matrix_itemids, itemids))\n",
    "id_to_userid = dict(zip(matrix_userids, userids))\n",
    "\n",
    "itemid_to_id = dict(zip(itemids, matrix_itemids))\n",
    "userid_to_id = dict(zip(userids, matrix_userids))"
   ]
  },
  {
   "cell_type": "code",
   "execution_count": 17,
   "metadata": {
    "id": "98yWAANG5B9B"
   },
   "outputs": [],
   "source": [
    "user_item_matrix = bm25_weight(user_item_matrix.T).T  # Применяется к item-user матрице ! "
   ]
  },
  {
   "cell_type": "code",
   "execution_count": 18,
   "metadata": {
    "colab": {
     "base_uri": "https://localhost:8080/"
    },
    "id": "CysScXfO-4wC",
    "outputId": "fb315ae8-f0ac-4c2e-a8c4-ef539767c793"
   },
   "outputs": [
    {
     "data": {
      "text/plain": [
       "<2500x5001 sparse matrix of type '<class 'numpy.float64'>'\n",
       "\twith 709529 stored elements in COOrdinate format>"
      ]
     },
     "execution_count": 18,
     "metadata": {},
     "output_type": "execute_result"
    }
   ],
   "source": [
    "user_item_matrix"
   ]
  },
  {
   "cell_type": "code",
   "execution_count": 19,
   "metadata": {
    "colab": {
     "base_uri": "https://localhost:8080/",
     "height": 101,
     "referenced_widgets": [
      "881de54333ea45608d1cb370bd0f5f4a",
      "50032f59877f479582ff5e88398c2a0d",
      "75288db6b387449f9c35e31637b679f5",
      "913215d5d098468589a462749a37a6c0",
      "fe1d949f40bd40da9ee437128a207a84",
      "4ee68fd8a791446881d3819e31b122c4",
      "d7b920af6c7946e7a5334b4f5c27e14c",
      "02b49ba64dc146708b570e0160b1ead7",
      "ab94c4b01a5941a481b0339e684082b2",
      "86ed2a794c9d495d87d0483cbce0b6be",
      "0653a4b85b0f4d8991486ac1b61f801b"
     ]
    },
    "id": "fL3f09CP5B9B",
    "outputId": "30423df9-9fc2-459e-93e9-5e88fc2e921f"
   },
   "outputs": [
    {
     "name": "stderr",
     "output_type": "stream",
     "text": [
      "C:\\Users\\a_bredihin\\Anaconda3\\lib\\site-packages\\implicit\\utils.py:31: UserWarning: Intel MKL BLAS detected. Its highly recommend to set the environment variable 'export MKL_NUM_THREADS=1' to disable its internal multithreading\n",
      "  warnings.warn(\n"
     ]
    },
    {
     "data": {
      "application/vnd.jupyter.widget-view+json": {
       "model_id": "9de3c671bef346f0a33d12985515d450",
       "version_major": 2,
       "version_minor": 0
      },
      "text/plain": [
       "HBox(children=(HTML(value=''), FloatProgress(value=0.0, max=20.0), HTML(value='')))"
      ]
     },
     "metadata": {},
     "output_type": "display_data"
    },
    {
     "name": "stdout",
     "output_type": "stream",
     "text": [
      "\n",
      "Wall time: 8 s\n"
     ]
    }
   ],
   "source": [
    "%%time\n",
    "\n",
    "model = AlternatingLeastSquares(factors=44,\n",
    "                                regularization=0.001,\n",
    "                                iterations=20,\n",
    "                                calculate_training_loss=True, \n",
    "                                use_gpu=False)\n",
    "\n",
    "model.fit(csr_matrix(user_item_matrix).T.tocsr(),  # На вход item-user matrix\n",
    "          show_progress=True)"
   ]
  },
  {
   "cell_type": "code",
   "execution_count": 20,
   "metadata": {
    "id": "Y9EDuzmK5B9C"
   },
   "outputs": [],
   "source": [
    "def get_recommendations(user, model, N=5):\n",
    "    res = [id_to_itemid[rec[0]] for rec in \n",
    "                    model.recommend(userid=userid_to_id[user], \n",
    "                                    user_items=csr_matrix(user_item_matrix).tocsr()[user],   # на вход user-item matrix\n",
    "                                    N=N, \n",
    "                                    filter_already_liked_items=False, \n",
    "                                    filter_items=[itemid_to_id[999999]],  # !!! \n",
    "                                    recalculate_user=True)]\n",
    "    return res"
   ]
  },
  {
   "cell_type": "code",
   "execution_count": null,
   "metadata": {
    "colab": {
     "base_uri": "https://localhost:8080/"
    },
    "id": "Nu7u1Bxl5B9C",
    "outputId": "4133601e-8f7e-42d7-c702-513d10c6ebab"
   },
   "outputs": [],
   "source": [
    "#kernel died\n",
    "%%time\n",
    "    \n",
    "result['bm25'] = result['user_id'].apply(lambda x: get_recommendations(x, model=model, N=5))"
   ]
  },
  {
   "cell_type": "code",
   "execution_count": 22,
   "metadata": {
    "colab": {
     "base_uri": "https://localhost:8080/"
    },
    "id": "M1bTBy52_ZMg",
    "outputId": "b87679a4-bd3c-452d-9a2d-0c836f19cfeb"
   },
   "outputs": [
    {
     "data": {
      "text/plain": [
       "0.10848819688598695"
      ]
     },
     "execution_count": 22,
     "metadata": {},
     "output_type": "execute_result"
    }
   ],
   "source": [
    "result.apply(lambda row: precision_at_k(row['bm25'], row['actual']), axis=1).mean()"
   ]
  },
  {
   "cell_type": "code",
   "execution_count": 23,
   "metadata": {
    "colab": {
     "base_uri": "https://localhost:8080/",
     "height": 233
    },
    "id": "_vtmvuGn5B9C",
    "outputId": "498d1e3c-cc4d-4c14-e677-a3156e718f35"
   },
   "outputs": [
    {
     "data": {
      "text/html": [
       "<div>\n",
       "<style scoped>\n",
       "    .dataframe tbody tr th:only-of-type {\n",
       "        vertical-align: middle;\n",
       "    }\n",
       "\n",
       "    .dataframe tbody tr th {\n",
       "        vertical-align: top;\n",
       "    }\n",
       "\n",
       "    .dataframe thead th {\n",
       "        text-align: right;\n",
       "    }\n",
       "</style>\n",
       "<table border=\"1\" class=\"dataframe\">\n",
       "  <thead>\n",
       "    <tr style=\"text-align: right;\">\n",
       "      <th></th>\n",
       "      <th>user_id</th>\n",
       "      <th>actual</th>\n",
       "      <th>bm25</th>\n",
       "    </tr>\n",
       "  </thead>\n",
       "  <tbody>\n",
       "    <tr>\n",
       "      <th>0</th>\n",
       "      <td>1</td>\n",
       "      <td>[879517, 934369, 1115576, 1124029, 5572301, 65...</td>\n",
       "      <td>[1051211, 1100972, 900586, 10282046, 1004390]</td>\n",
       "    </tr>\n",
       "    <tr>\n",
       "      <th>1</th>\n",
       "      <td>3</td>\n",
       "      <td>[823704, 834117, 840244, 913785, 917816, 93870...</td>\n",
       "      <td>[913278, 962229, 885697, 941741, 918733]</td>\n",
       "    </tr>\n",
       "  </tbody>\n",
       "</table>\n",
       "</div>"
      ],
      "text/plain": [
       "   user_id                                             actual  \\\n",
       "0        1  [879517, 934369, 1115576, 1124029, 5572301, 65...   \n",
       "1        3  [823704, 834117, 840244, 913785, 917816, 93870...   \n",
       "\n",
       "                                            bm25  \n",
       "0  [1051211, 1100972, 900586, 10282046, 1004390]  \n",
       "1       [913278, 962229, 885697, 941741, 918733]  "
      ]
     },
     "execution_count": 23,
     "metadata": {},
     "output_type": "execute_result"
    }
   ],
   "source": [
    "result.head(2)"
   ]
  },
  {
   "cell_type": "markdown",
   "metadata": {
    "id": "F6gj5u195B9D"
   },
   "source": [
    "----"
   ]
  },
  {
   "cell_type": "markdown",
   "metadata": {
    "id": "3NUy04O75B9D"
   },
   "source": [
    "# Альтернативные способы предсказаний"
   ]
  },
  {
   "cell_type": "markdown",
   "metadata": {
    "id": "neQGj85u5B9D"
   },
   "source": [
    "### Кейс 1. Продажи товаров собственной торговой марки (СТМ)"
   ]
  },
  {
   "cell_type": "markdown",
   "metadata": {
    "id": "TM6PwB3Q5B9D"
   },
   "source": [
    "У многих ритейлеров есть товары СТМ:\n",
    "    - Азбука Вкуса - Просто Азбука\n",
    "    - Ашан - Каждый день\n",
    "    - ВкусВилл - ВкусВилл\n",
    "    - ...\n",
    "    \n",
    "Как правило, у них маржинальность (~прибыль) > обычные товары.   \n",
    "Как сделать так, чтобы юзеры переключились на товары СТМ? - *рекоммендации!*"
   ]
  },
  {
   "cell_type": "markdown",
   "metadata": {
    "id": "y1Rz6yaR5B9E"
   },
   "source": [
    "*Нужно заменить те товары, которые пользователь уже покупает, на товары СТМ*"
   ]
  },
  {
   "cell_type": "code",
   "execution_count": 21,
   "metadata": {
    "colab": {
     "base_uri": "https://localhost:8080/",
     "height": 112
    },
    "id": "MWxt5Hrv5B9E",
    "outputId": "06cdbec0-3f15-4f3c-d492-a6721263199b"
   },
   "outputs": [
    {
     "data": {
      "text/html": [
       "<div>\n",
       "<style scoped>\n",
       "    .dataframe tbody tr th:only-of-type {\n",
       "        vertical-align: middle;\n",
       "    }\n",
       "\n",
       "    .dataframe tbody tr th {\n",
       "        vertical-align: top;\n",
       "    }\n",
       "\n",
       "    .dataframe thead th {\n",
       "        text-align: right;\n",
       "    }\n",
       "</style>\n",
       "<table border=\"1\" class=\"dataframe\">\n",
       "  <thead>\n",
       "    <tr style=\"text-align: right;\">\n",
       "      <th></th>\n",
       "      <th>item_id</th>\n",
       "      <th>manufacturer</th>\n",
       "      <th>department</th>\n",
       "      <th>brand</th>\n",
       "      <th>commodity_desc</th>\n",
       "      <th>sub_commodity_desc</th>\n",
       "      <th>curr_size_of_product</th>\n",
       "    </tr>\n",
       "  </thead>\n",
       "  <tbody>\n",
       "    <tr>\n",
       "      <th>0</th>\n",
       "      <td>25671</td>\n",
       "      <td>2</td>\n",
       "      <td>GROCERY</td>\n",
       "      <td>National</td>\n",
       "      <td>FRZN ICE</td>\n",
       "      <td>ICE - CRUSHED/CUBED</td>\n",
       "      <td>22 LB</td>\n",
       "    </tr>\n",
       "    <tr>\n",
       "      <th>1</th>\n",
       "      <td>26081</td>\n",
       "      <td>2</td>\n",
       "      <td>MISC. TRANS.</td>\n",
       "      <td>National</td>\n",
       "      <td>NO COMMODITY DESCRIPTION</td>\n",
       "      <td>NO SUBCOMMODITY DESCRIPTION</td>\n",
       "      <td></td>\n",
       "    </tr>\n",
       "  </tbody>\n",
       "</table>\n",
       "</div>"
      ],
      "text/plain": [
       "   item_id  manufacturer    department     brand            commodity_desc  \\\n",
       "0    25671             2       GROCERY  National                  FRZN ICE   \n",
       "1    26081             2  MISC. TRANS.  National  NO COMMODITY DESCRIPTION   \n",
       "\n",
       "            sub_commodity_desc curr_size_of_product  \n",
       "0          ICE - CRUSHED/CUBED                22 LB  \n",
       "1  NO SUBCOMMODITY DESCRIPTION                       "
      ]
     },
     "execution_count": 21,
     "metadata": {},
     "output_type": "execute_result"
    }
   ],
   "source": [
    "item_features.head(2)"
   ]
  },
  {
   "cell_type": "code",
   "execution_count": 22,
   "metadata": {
    "colab": {
     "base_uri": "https://localhost:8080/"
    },
    "id": "KMd9Bzcg5B9E",
    "outputId": "f1a75fdd-831d-40f5-9c9b-fb447ce1b3b6"
   },
   "outputs": [
    {
     "data": {
      "text/plain": [
       "1469"
      ]
     },
     "execution_count": 22,
     "metadata": {},
     "output_type": "execute_result"
    }
   ],
   "source": [
    "item_features = item_features[item_features['item_id'].isin(itemid_to_id.keys())]\n",
    "item_features[item_features['brand'] == 'Private'].item_id.nunique()"
   ]
  },
  {
   "cell_type": "code",
   "execution_count": 23,
   "metadata": {
    "colab": {
     "base_uri": "https://localhost:8080/"
    },
    "id": "NEny1tt25B9F",
    "outputId": "c1c430cc-8910-44ec-d2c1-31d7823404bc"
   },
   "outputs": [
    {
     "data": {
      "text/plain": [
       "department\n",
       "GROCERY            1231\n",
       "MEAT-PCKGD           74\n",
       "PRODUCE              32\n",
       "PASTRY               31\n",
       "DELI                 27\n",
       "MISC SALES TRAN      20\n",
       "DRUG GM              16\n",
       "KIOSK-GAS            13\n",
       "SEAFOOD-PCKGD        11\n",
       "MEAT                  8\n",
       "NUTRITION             5\n",
       "FLORAL                1\n",
       "Name: item_id, dtype: int64"
      ]
     },
     "execution_count": 23,
     "metadata": {},
     "output_type": "execute_result"
    }
   ],
   "source": [
    "own_items = item_features[item_features['brand'] == 'Private'].\\\n",
    "    groupby('department')['item_id'].nunique().\\\n",
    "    sort_values(ascending=False)\n",
    "own_items"
   ]
  },
  {
   "cell_type": "code",
   "execution_count": 24,
   "metadata": {
    "id": "Ae1ul_Wz5B9F"
   },
   "outputs": [],
   "source": [
    "categories_with_own_items = own_items.index.tolist()"
   ]
  },
  {
   "cell_type": "code",
   "execution_count": 32,
   "metadata": {
    "pycharm": {
     "name": "#%%\n"
    }
   },
   "outputs": [
    {
     "data": {
      "text/plain": [
       "['GROCERY',\n",
       " 'MEAT-PCKGD',\n",
       " 'PRODUCE',\n",
       " 'PASTRY',\n",
       " 'DELI',\n",
       " 'MISC SALES TRAN',\n",
       " 'DRUG GM',\n",
       " 'KIOSK-GAS',\n",
       " 'SEAFOOD-PCKGD',\n",
       " 'MEAT',\n",
       " 'NUTRITION',\n",
       " 'FLORAL']"
      ]
     },
     "execution_count": 32,
     "metadata": {},
     "output_type": "execute_result"
    }
   ],
   "source": [
    "categories_with_own_items"
   ]
  },
  {
   "cell_type": "code",
   "execution_count": 33,
   "metadata": {
    "id": "eXJBO3gS5B9F"
   },
   "outputs": [],
   "source": [
    "import numpy as np\n",
    "import pandas as pd\n",
    "from matplotlib.pyplot import cm\n",
    "import pickle\n",
    "\n",
    "from scipy.spatial.distance import cdist\n",
    "\n",
    "from sklearn.decomposition import PCA\n",
    "from sklearn.manifold import TSNE\n",
    "\n",
    "import seaborn as sns\n",
    "\n",
    "\n",
    "def reduce_dims(df, dims=2, method='pca'):\n",
    "    \n",
    "    assert method in ['pca', 'tsne'], 'Неверно указан метод'\n",
    "    \n",
    "    if method=='pca':\n",
    "        pca = PCA(n_components=dims)\n",
    "        components = pca.fit_transform(df)\n",
    "    elif method == 'tsne':\n",
    "        tsne = TSNE(n_components=dims, learning_rate=250, random_state=42, n_iter=300, n_iter_without_progress=20)\n",
    "        components = tsne.fit_transform(df)\n",
    "    else:\n",
    "        print('Error')\n",
    "        \n",
    "    colnames = ['component_' + str(i) for i in range(1, dims+1)]\n",
    "    return pd.DataFrame(data = components, columns = colnames) \n",
    "\n",
    "\n",
    "def display_components_in_2D_space(components_df, labels='category', marker='D'):\n",
    "    \n",
    "    groups = components_df.groupby(labels)\n",
    "\n",
    "    # Plot\n",
    "    fig, ax = plt.subplots(figsize=(12,8))\n",
    "    ax.margins(0.05) # Optional, just adds 5% padding to the autoscaling\n",
    "    for name, group in groups:\n",
    "        ax.plot(group.component_1, group.component_2, \n",
    "                marker='o', ms=6,\n",
    "                linestyle='',\n",
    "                alpha=0.7,\n",
    "                label=name)\n",
    "    ax.legend(loc='center left', bbox_to_anchor=(1.02, 0.5))\n",
    "\n",
    "    plt.xlabel('component_1')\n",
    "    plt.ylabel('component_2') \n",
    "    plt.show()"
   ]
  },
  {
   "cell_type": "code",
   "execution_count": 34,
   "metadata": {
    "colab": {
     "base_uri": "https://localhost:8080/"
    },
    "id": "suf9TV215B9G",
    "outputId": "c75bd4e4-4978-44c0-b3a1-316f1c2c4587"
   },
   "outputs": [
    {
     "data": {
      "text/plain": [
       "(2500, 44)"
      ]
     },
     "execution_count": 34,
     "metadata": {},
     "output_type": "execute_result"
    }
   ],
   "source": [
    "model.item_factors.shape"
   ]
  },
  {
   "cell_type": "code",
   "execution_count": 35,
   "metadata": {
    "id": "bQpn2J3T5B9G"
   },
   "outputs": [],
   "source": [
    "category = []\n",
    "\n",
    "for idx in range(model.item_factors.shape[0]):\n",
    "\n",
    "    try:\n",
    "        cat = item_features.loc[item_features['item_id'] == id_to_itemid[idx], 'department'].values[0]\n",
    "        category.append(cat)\n",
    "    except:\n",
    "        category.append('UNKNOWN')"
   ]
  },
  {
   "cell_type": "code",
   "execution_count": 56,
   "metadata": {
    "id": "m1ziY-P2APqR"
   },
   "outputs": [
    {
     "data": {
      "text/plain": [
       "['MISC SALES TRAN',\n",
       " 'KIOSK-GAS',\n",
       " 'MISC SALES TRAN',\n",
       " 'KIOSK-GAS',\n",
       " 'MISC SALES TRAN',\n",
       " 'MISC SALES TRAN',\n",
       " 'KIOSK-GAS',\n",
       " 'GROCERY',\n",
       " 'GROCERY',\n",
       " 'GROCERY',\n",
       " 'MEAT-PCKGD',\n",
       " 'GROCERY',\n",
       " 'MEAT',\n",
       " 'GROCERY',\n",
       " 'GROCERY',\n",
       " 'PRODUCE',\n",
       " 'NUTRITION',\n",
       " 'GROCERY',\n",
       " 'PRODUCE',\n",
       " 'GROCERY',\n",
       " 'GROCERY',\n",
       " 'DELI',\n",
       " 'GROCERY',\n",
       " 'MEAT-PCKGD',\n",
       " 'PRODUCE',\n",
       " 'GROCERY',\n",
       " 'GROCERY',\n",
       " 'GROCERY',\n",
       " 'GROCERY',\n",
       " 'GROCERY',\n",
       " 'GROCERY',\n",
       " 'PRODUCE',\n",
       " 'GROCERY',\n",
       " 'GROCERY',\n",
       " 'GROCERY',\n",
       " 'GROCERY',\n",
       " 'GROCERY',\n",
       " 'GROCERY',\n",
       " 'GROCERY',\n",
       " 'GROCERY',\n",
       " 'PRODUCE',\n",
       " 'GROCERY',\n",
       " 'GROCERY',\n",
       " 'GROCERY',\n",
       " 'PASTRY',\n",
       " 'DRUG GM',\n",
       " 'GROCERY',\n",
       " 'GROCERY',\n",
       " 'GROCERY',\n",
       " 'GROCERY',\n",
       " 'GROCERY',\n",
       " 'GROCERY',\n",
       " 'GROCERY',\n",
       " 'GROCERY',\n",
       " 'GROCERY',\n",
       " 'GROCERY',\n",
       " 'GROCERY',\n",
       " 'GROCERY',\n",
       " 'GROCERY',\n",
       " 'GROCERY',\n",
       " 'GROCERY',\n",
       " 'GROCERY',\n",
       " 'GROCERY',\n",
       " 'GROCERY',\n",
       " 'GROCERY',\n",
       " 'GROCERY',\n",
       " 'GROCERY',\n",
       " 'GROCERY',\n",
       " 'GROCERY',\n",
       " 'MEAT-PCKGD',\n",
       " 'GROCERY',\n",
       " 'GROCERY',\n",
       " 'GROCERY',\n",
       " 'DELI',\n",
       " 'GROCERY',\n",
       " 'MEAT',\n",
       " 'PRODUCE',\n",
       " 'GROCERY',\n",
       " 'GROCERY',\n",
       " 'PASTRY',\n",
       " 'GROCERY',\n",
       " 'PRODUCE',\n",
       " 'GROCERY',\n",
       " 'GROCERY',\n",
       " 'GROCERY',\n",
       " 'GROCERY',\n",
       " 'GROCERY',\n",
       " 'GROCERY',\n",
       " 'GROCERY',\n",
       " 'GROCERY',\n",
       " 'PRODUCE',\n",
       " 'GROCERY',\n",
       " 'GROCERY',\n",
       " 'GROCERY',\n",
       " 'MEAT',\n",
       " 'MEAT-PCKGD',\n",
       " 'GROCERY',\n",
       " 'PRODUCE',\n",
       " 'GROCERY',\n",
       " 'GROCERY',\n",
       " 'GROCERY',\n",
       " 'GROCERY',\n",
       " 'MEAT',\n",
       " 'GROCERY',\n",
       " 'GROCERY',\n",
       " 'MEAT-PCKGD',\n",
       " 'PRODUCE',\n",
       " 'MEAT-PCKGD',\n",
       " 'PASTRY',\n",
       " 'GROCERY',\n",
       " 'NUTRITION',\n",
       " 'GROCERY',\n",
       " 'MEAT-PCKGD',\n",
       " 'GROCERY',\n",
       " 'GROCERY',\n",
       " 'GROCERY',\n",
       " 'GROCERY',\n",
       " 'GROCERY',\n",
       " 'GROCERY',\n",
       " 'GROCERY',\n",
       " 'GROCERY',\n",
       " 'PRODUCE',\n",
       " 'GROCERY',\n",
       " 'GROCERY',\n",
       " 'GROCERY',\n",
       " 'GROCERY',\n",
       " 'MEAT-PCKGD',\n",
       " 'DELI',\n",
       " 'GROCERY',\n",
       " 'GROCERY',\n",
       " 'GROCERY',\n",
       " 'PRODUCE',\n",
       " 'GROCERY',\n",
       " 'GROCERY',\n",
       " 'GROCERY',\n",
       " 'PASTRY',\n",
       " 'MEAT',\n",
       " 'GROCERY',\n",
       " 'GROCERY',\n",
       " 'GROCERY',\n",
       " 'GROCERY',\n",
       " 'GROCERY',\n",
       " 'GROCERY',\n",
       " 'GROCERY',\n",
       " 'GROCERY',\n",
       " 'NUTRITION',\n",
       " 'GROCERY',\n",
       " 'GROCERY',\n",
       " 'GROCERY',\n",
       " 'PRODUCE',\n",
       " 'GROCERY',\n",
       " 'GROCERY',\n",
       " 'GROCERY',\n",
       " 'PRODUCE',\n",
       " 'GROCERY',\n",
       " 'GROCERY',\n",
       " 'GROCERY',\n",
       " 'MEAT-PCKGD',\n",
       " 'GROCERY',\n",
       " 'DRUG GM',\n",
       " 'GROCERY',\n",
       " 'GROCERY',\n",
       " 'GROCERY',\n",
       " 'GROCERY',\n",
       " 'GROCERY',\n",
       " 'MEAT-PCKGD',\n",
       " 'GROCERY',\n",
       " 'SALAD BAR',\n",
       " 'GROCERY',\n",
       " 'GROCERY',\n",
       " 'GROCERY',\n",
       " 'GROCERY',\n",
       " 'GROCERY',\n",
       " 'GROCERY',\n",
       " 'GROCERY',\n",
       " 'GROCERY',\n",
       " 'GROCERY',\n",
       " 'MEAT',\n",
       " 'GROCERY',\n",
       " 'PRODUCE',\n",
       " 'MEAT',\n",
       " 'GROCERY',\n",
       " 'GROCERY',\n",
       " 'GROCERY',\n",
       " 'GROCERY',\n",
       " 'GROCERY',\n",
       " 'GROCERY',\n",
       " 'PRODUCE',\n",
       " 'DRUG GM',\n",
       " 'GROCERY',\n",
       " 'MEAT-PCKGD',\n",
       " 'GROCERY',\n",
       " 'GROCERY',\n",
       " 'GROCERY',\n",
       " 'GROCERY',\n",
       " 'GROCERY',\n",
       " 'GROCERY',\n",
       " 'DRUG GM',\n",
       " 'GROCERY',\n",
       " 'DELI',\n",
       " 'GROCERY',\n",
       " 'GROCERY',\n",
       " 'GROCERY',\n",
       " 'GROCERY',\n",
       " 'GROCERY',\n",
       " 'DRUG GM',\n",
       " 'GROCERY',\n",
       " 'MEAT-PCKGD',\n",
       " 'GROCERY',\n",
       " 'GROCERY',\n",
       " 'DELI',\n",
       " 'PRODUCE',\n",
       " 'DRUG GM',\n",
       " 'GROCERY',\n",
       " 'PRODUCE',\n",
       " 'GROCERY',\n",
       " 'MEAT-PCKGD',\n",
       " 'GROCERY',\n",
       " 'GROCERY',\n",
       " 'GROCERY',\n",
       " 'GROCERY',\n",
       " 'NUTRITION',\n",
       " 'PRODUCE',\n",
       " 'GROCERY',\n",
       " 'GROCERY',\n",
       " 'GROCERY',\n",
       " 'GROCERY',\n",
       " 'PRODUCE',\n",
       " 'GROCERY',\n",
       " 'MEAT',\n",
       " 'GROCERY',\n",
       " 'MEAT-PCKGD',\n",
       " 'GROCERY',\n",
       " 'GROCERY',\n",
       " 'DRUG GM',\n",
       " 'MEAT',\n",
       " 'MEAT-PCKGD',\n",
       " 'GROCERY',\n",
       " 'GROCERY',\n",
       " 'GROCERY',\n",
       " 'GROCERY',\n",
       " 'MEAT',\n",
       " 'GROCERY',\n",
       " 'GROCERY',\n",
       " 'GROCERY',\n",
       " 'GROCERY',\n",
       " 'MEAT-PCKGD',\n",
       " 'GROCERY',\n",
       " 'GROCERY',\n",
       " 'GROCERY',\n",
       " 'GROCERY',\n",
       " 'DRUG GM',\n",
       " 'GROCERY',\n",
       " 'GROCERY',\n",
       " 'PRODUCE',\n",
       " 'MEAT-PCKGD',\n",
       " 'GROCERY',\n",
       " 'GROCERY',\n",
       " 'DRUG GM',\n",
       " 'GROCERY',\n",
       " 'GROCERY',\n",
       " 'GROCERY',\n",
       " 'DRUG GM',\n",
       " 'GROCERY',\n",
       " 'MEAT-PCKGD',\n",
       " 'GROCERY',\n",
       " 'GROCERY',\n",
       " 'GROCERY',\n",
       " 'GROCERY',\n",
       " 'GROCERY',\n",
       " 'GROCERY',\n",
       " 'MEAT-PCKGD',\n",
       " 'GROCERY',\n",
       " 'GROCERY',\n",
       " 'GROCERY',\n",
       " 'GROCERY',\n",
       " 'GROCERY',\n",
       " 'GROCERY',\n",
       " 'GROCERY',\n",
       " 'GROCERY',\n",
       " 'GROCERY',\n",
       " 'DRUG GM',\n",
       " 'MEAT-PCKGD',\n",
       " 'GROCERY',\n",
       " 'GROCERY',\n",
       " 'DRUG GM',\n",
       " 'GROCERY',\n",
       " 'GROCERY',\n",
       " 'GROCERY',\n",
       " 'MEAT-PCKGD',\n",
       " 'GROCERY',\n",
       " 'MEAT',\n",
       " 'GROCERY',\n",
       " 'GROCERY',\n",
       " 'GROCERY',\n",
       " 'GROCERY',\n",
       " 'GROCERY',\n",
       " 'GROCERY',\n",
       " 'GROCERY',\n",
       " 'GROCERY',\n",
       " 'GROCERY',\n",
       " 'GROCERY',\n",
       " 'DRUG GM',\n",
       " 'GROCERY',\n",
       " 'MEAT-PCKGD',\n",
       " 'PRODUCE',\n",
       " 'GROCERY',\n",
       " 'PRODUCE',\n",
       " 'DRUG GM',\n",
       " 'GROCERY',\n",
       " 'DRUG GM',\n",
       " 'GROCERY',\n",
       " 'GROCERY',\n",
       " 'GROCERY',\n",
       " 'GROCERY',\n",
       " 'GROCERY',\n",
       " 'GROCERY',\n",
       " 'GROCERY',\n",
       " 'GROCERY',\n",
       " 'GROCERY',\n",
       " 'GROCERY',\n",
       " 'GROCERY',\n",
       " 'GROCERY',\n",
       " 'DRUG GM',\n",
       " 'GROCERY',\n",
       " 'GROCERY',\n",
       " 'GROCERY',\n",
       " 'GROCERY',\n",
       " 'GROCERY',\n",
       " 'GROCERY',\n",
       " 'MEAT-PCKGD',\n",
       " 'GROCERY',\n",
       " 'GROCERY',\n",
       " 'GROCERY',\n",
       " 'DRUG GM',\n",
       " 'GROCERY',\n",
       " 'GROCERY',\n",
       " 'GROCERY',\n",
       " 'GROCERY',\n",
       " 'MEAT',\n",
       " 'GROCERY',\n",
       " 'MEAT-PCKGD',\n",
       " 'GROCERY',\n",
       " 'SEAFOOD-PCKGD',\n",
       " 'GROCERY',\n",
       " 'GROCERY',\n",
       " 'GROCERY',\n",
       " 'MEAT-PCKGD',\n",
       " 'GROCERY',\n",
       " 'GROCERY',\n",
       " 'GROCERY',\n",
       " 'GROCERY',\n",
       " 'GROCERY',\n",
       " 'PRODUCE',\n",
       " 'GROCERY',\n",
       " 'GROCERY',\n",
       " 'GROCERY',\n",
       " 'GROCERY',\n",
       " 'DELI',\n",
       " 'GROCERY',\n",
       " 'GROCERY',\n",
       " 'GROCERY',\n",
       " 'GROCERY',\n",
       " 'GROCERY',\n",
       " 'GROCERY',\n",
       " 'PRODUCE',\n",
       " 'MEAT-PCKGD',\n",
       " 'GROCERY',\n",
       " 'GROCERY',\n",
       " 'GROCERY',\n",
       " 'DRUG GM',\n",
       " 'GROCERY',\n",
       " 'GROCERY',\n",
       " 'GROCERY',\n",
       " 'GROCERY',\n",
       " 'DRUG GM',\n",
       " 'GROCERY',\n",
       " 'MEAT-PCKGD',\n",
       " 'GROCERY',\n",
       " 'GROCERY',\n",
       " 'GROCERY',\n",
       " 'PRODUCE',\n",
       " 'GROCERY',\n",
       " 'GROCERY',\n",
       " 'GROCERY',\n",
       " 'GROCERY',\n",
       " 'GROCERY',\n",
       " 'GROCERY',\n",
       " 'PRODUCE',\n",
       " 'GROCERY',\n",
       " 'GROCERY',\n",
       " 'MEAT',\n",
       " 'GROCERY',\n",
       " 'DRUG GM',\n",
       " 'GROCERY',\n",
       " 'MEAT',\n",
       " 'GROCERY',\n",
       " 'PRODUCE',\n",
       " 'GROCERY',\n",
       " 'MEAT',\n",
       " 'PRODUCE',\n",
       " 'GROCERY',\n",
       " 'GROCERY',\n",
       " 'GROCERY',\n",
       " 'GROCERY',\n",
       " 'GROCERY',\n",
       " 'DRUG GM',\n",
       " 'GROCERY',\n",
       " 'PRODUCE',\n",
       " 'MEAT-PCKGD',\n",
       " 'GROCERY',\n",
       " 'GROCERY',\n",
       " 'GROCERY',\n",
       " 'GROCERY',\n",
       " 'GROCERY',\n",
       " 'GROCERY',\n",
       " 'GROCERY',\n",
       " 'MEAT-PCKGD',\n",
       " 'GROCERY',\n",
       " 'GROCERY',\n",
       " 'GROCERY',\n",
       " 'GROCERY',\n",
       " 'GROCERY',\n",
       " 'GROCERY',\n",
       " 'GROCERY',\n",
       " 'GROCERY',\n",
       " 'GROCERY',\n",
       " 'DRUG GM',\n",
       " 'GROCERY',\n",
       " 'PASTRY',\n",
       " 'GROCERY',\n",
       " 'GROCERY',\n",
       " 'DRUG GM',\n",
       " 'GROCERY',\n",
       " 'GROCERY',\n",
       " 'GROCERY',\n",
       " 'MEAT-PCKGD',\n",
       " 'GROCERY',\n",
       " 'GROCERY',\n",
       " 'GROCERY',\n",
       " 'GROCERY',\n",
       " 'GROCERY',\n",
       " 'MEAT-PCKGD',\n",
       " 'GROCERY',\n",
       " 'GROCERY',\n",
       " 'GROCERY',\n",
       " 'GROCERY',\n",
       " 'GROCERY',\n",
       " 'GROCERY',\n",
       " 'GROCERY',\n",
       " 'GROCERY',\n",
       " 'GROCERY',\n",
       " 'DRUG GM',\n",
       " 'GROCERY',\n",
       " 'GROCERY',\n",
       " 'GROCERY',\n",
       " 'GROCERY',\n",
       " 'GROCERY',\n",
       " 'MEAT-PCKGD',\n",
       " 'GROCERY',\n",
       " 'GROCERY',\n",
       " 'GROCERY',\n",
       " 'GROCERY',\n",
       " 'GROCERY',\n",
       " 'GROCERY',\n",
       " 'GROCERY',\n",
       " 'DRUG GM',\n",
       " 'GROCERY',\n",
       " 'GROCERY',\n",
       " 'GROCERY',\n",
       " 'GROCERY',\n",
       " 'GROCERY',\n",
       " 'GROCERY',\n",
       " 'GROCERY',\n",
       " 'PRODUCE',\n",
       " 'GROCERY',\n",
       " 'GROCERY',\n",
       " 'DRUG GM',\n",
       " 'GROCERY',\n",
       " 'GROCERY',\n",
       " 'GROCERY',\n",
       " 'GROCERY',\n",
       " 'PRODUCE',\n",
       " 'GROCERY',\n",
       " 'GROCERY',\n",
       " 'PASTRY',\n",
       " 'DELI',\n",
       " 'GROCERY',\n",
       " 'GROCERY',\n",
       " 'DRUG GM',\n",
       " 'GROCERY',\n",
       " 'GROCERY',\n",
       " 'GROCERY',\n",
       " 'GROCERY',\n",
       " 'PASTRY',\n",
       " 'MEAT-PCKGD',\n",
       " 'GROCERY',\n",
       " 'MEAT-PCKGD',\n",
       " 'DRUG GM',\n",
       " 'GROCERY',\n",
       " 'GROCERY',\n",
       " 'PRODUCE',\n",
       " 'PRODUCE',\n",
       " 'GROCERY',\n",
       " 'GROCERY',\n",
       " 'GROCERY',\n",
       " 'GROCERY',\n",
       " 'GROCERY',\n",
       " 'GROCERY',\n",
       " 'GROCERY',\n",
       " 'GROCERY',\n",
       " 'GROCERY',\n",
       " 'MEAT-PCKGD',\n",
       " 'GROCERY',\n",
       " 'GROCERY',\n",
       " 'PRODUCE',\n",
       " 'GROCERY',\n",
       " 'GROCERY',\n",
       " 'PRODUCE',\n",
       " 'GROCERY',\n",
       " 'GROCERY',\n",
       " 'GROCERY',\n",
       " 'GROCERY',\n",
       " 'GROCERY',\n",
       " 'GROCERY',\n",
       " 'GROCERY',\n",
       " 'MEAT-PCKGD',\n",
       " 'GROCERY',\n",
       " 'GROCERY',\n",
       " 'GROCERY',\n",
       " 'GROCERY',\n",
       " 'GROCERY',\n",
       " 'PRODUCE',\n",
       " 'GROCERY',\n",
       " 'GROCERY',\n",
       " 'MEAT',\n",
       " 'GROCERY',\n",
       " 'GROCERY',\n",
       " 'GROCERY',\n",
       " 'PRODUCE',\n",
       " 'GROCERY',\n",
       " 'GROCERY',\n",
       " 'GROCERY',\n",
       " 'GROCERY',\n",
       " 'GROCERY',\n",
       " 'MEAT',\n",
       " 'GROCERY',\n",
       " 'GROCERY',\n",
       " 'NUTRITION',\n",
       " 'GROCERY',\n",
       " 'GROCERY',\n",
       " 'GROCERY',\n",
       " 'GROCERY',\n",
       " 'GROCERY',\n",
       " 'DELI',\n",
       " 'GROCERY',\n",
       " 'GROCERY',\n",
       " 'GROCERY',\n",
       " 'GROCERY',\n",
       " 'GROCERY',\n",
       " 'PRODUCE',\n",
       " 'GROCERY',\n",
       " 'MEAT-PCKGD',\n",
       " 'PRODUCE',\n",
       " 'GROCERY',\n",
       " 'GROCERY',\n",
       " 'GROCERY',\n",
       " 'PRODUCE',\n",
       " 'GROCERY',\n",
       " 'PRODUCE',\n",
       " 'GROCERY',\n",
       " 'GROCERY',\n",
       " 'MEAT-PCKGD',\n",
       " 'GROCERY',\n",
       " 'GROCERY',\n",
       " 'PRODUCE',\n",
       " 'GROCERY',\n",
       " 'GROCERY',\n",
       " 'GROCERY',\n",
       " 'GROCERY',\n",
       " 'GROCERY',\n",
       " 'DRUG GM',\n",
       " 'GROCERY',\n",
       " 'DELI',\n",
       " 'PRODUCE',\n",
       " 'DRUG GM',\n",
       " 'GROCERY',\n",
       " 'GROCERY',\n",
       " 'GROCERY',\n",
       " 'PRODUCE',\n",
       " 'GROCERY',\n",
       " 'PRODUCE',\n",
       " 'DRUG GM',\n",
       " 'GROCERY',\n",
       " 'GROCERY',\n",
       " 'PRODUCE',\n",
       " 'MEAT-PCKGD',\n",
       " 'DRUG GM',\n",
       " 'GROCERY',\n",
       " 'MEAT-PCKGD',\n",
       " 'GROCERY',\n",
       " 'GROCERY',\n",
       " 'GROCERY',\n",
       " 'GROCERY',\n",
       " 'GROCERY',\n",
       " 'GROCERY',\n",
       " 'GROCERY',\n",
       " 'GROCERY',\n",
       " 'GROCERY',\n",
       " 'GROCERY',\n",
       " 'PRODUCE',\n",
       " 'GROCERY',\n",
       " 'GROCERY',\n",
       " 'GROCERY',\n",
       " 'GROCERY',\n",
       " 'MEAT',\n",
       " 'GROCERY',\n",
       " 'GROCERY',\n",
       " 'GROCERY',\n",
       " 'GROCERY',\n",
       " 'MEAT-PCKGD',\n",
       " 'PASTRY',\n",
       " 'GROCERY',\n",
       " 'DRUG GM',\n",
       " 'GROCERY',\n",
       " 'GROCERY',\n",
       " 'GROCERY',\n",
       " 'GROCERY',\n",
       " 'GROCERY',\n",
       " 'GROCERY',\n",
       " 'GROCERY',\n",
       " 'GROCERY',\n",
       " 'GROCERY',\n",
       " 'GROCERY',\n",
       " 'GROCERY',\n",
       " 'GROCERY',\n",
       " 'DRUG GM',\n",
       " 'GROCERY',\n",
       " 'GROCERY',\n",
       " 'PRODUCE',\n",
       " 'PRODUCE',\n",
       " 'GROCERY',\n",
       " 'GROCERY',\n",
       " 'GROCERY',\n",
       " 'MEAT-PCKGD',\n",
       " 'GROCERY',\n",
       " 'GROCERY',\n",
       " 'GROCERY',\n",
       " 'MEAT-PCKGD',\n",
       " 'GROCERY',\n",
       " 'GROCERY',\n",
       " 'GROCERY',\n",
       " 'GROCERY',\n",
       " 'MEAT-PCKGD',\n",
       " 'GROCERY',\n",
       " 'GROCERY',\n",
       " 'GROCERY',\n",
       " 'GROCERY',\n",
       " 'DRUG GM',\n",
       " 'PRODUCE',\n",
       " 'PASTRY',\n",
       " 'GROCERY',\n",
       " 'PRODUCE',\n",
       " 'GROCERY',\n",
       " 'PASTRY',\n",
       " 'GROCERY',\n",
       " 'GROCERY',\n",
       " 'DELI',\n",
       " 'GROCERY',\n",
       " 'PRODUCE',\n",
       " 'MEAT',\n",
       " 'GROCERY',\n",
       " 'GROCERY',\n",
       " 'GROCERY',\n",
       " 'GROCERY',\n",
       " 'GROCERY',\n",
       " 'GROCERY',\n",
       " 'GROCERY',\n",
       " 'PRODUCE',\n",
       " 'GROCERY',\n",
       " 'GROCERY',\n",
       " 'PRODUCE',\n",
       " 'GROCERY',\n",
       " 'GROCERY',\n",
       " 'GROCERY',\n",
       " 'GROCERY',\n",
       " 'GROCERY',\n",
       " 'GROCERY',\n",
       " 'GROCERY',\n",
       " 'GROCERY',\n",
       " 'GROCERY',\n",
       " 'MEAT-PCKGD',\n",
       " 'GROCERY',\n",
       " 'GROCERY',\n",
       " 'GROCERY',\n",
       " 'GROCERY',\n",
       " 'GROCERY',\n",
       " 'GROCERY',\n",
       " 'GROCERY',\n",
       " 'GROCERY',\n",
       " 'GROCERY',\n",
       " 'GROCERY',\n",
       " 'GROCERY',\n",
       " 'GROCERY',\n",
       " 'MEAT-PCKGD',\n",
       " 'GROCERY',\n",
       " 'PRODUCE',\n",
       " 'DRUG GM',\n",
       " 'GROCERY',\n",
       " 'MEAT-PCKGD',\n",
       " 'GROCERY',\n",
       " 'GROCERY',\n",
       " 'GROCERY',\n",
       " 'GROCERY',\n",
       " 'PRODUCE',\n",
       " 'GROCERY',\n",
       " 'MEAT-PCKGD',\n",
       " 'GROCERY',\n",
       " 'DRUG GM',\n",
       " 'MEAT-PCKGD',\n",
       " 'GROCERY',\n",
       " 'GROCERY',\n",
       " 'DRUG GM',\n",
       " 'GROCERY',\n",
       " 'MEAT-PCKGD',\n",
       " 'PRODUCE',\n",
       " 'GROCERY',\n",
       " 'GROCERY',\n",
       " 'GROCERY',\n",
       " 'GROCERY',\n",
       " 'GROCERY',\n",
       " 'GROCERY',\n",
       " 'GROCERY',\n",
       " 'GROCERY',\n",
       " 'MEAT-PCKGD',\n",
       " 'DRUG GM',\n",
       " 'GROCERY',\n",
       " 'GROCERY',\n",
       " 'GROCERY',\n",
       " 'GROCERY',\n",
       " 'MEAT-PCKGD',\n",
       " 'GROCERY',\n",
       " 'GROCERY',\n",
       " 'GROCERY',\n",
       " 'MEAT',\n",
       " 'GROCERY',\n",
       " 'GROCERY',\n",
       " 'GROCERY',\n",
       " 'GROCERY',\n",
       " 'GROCERY',\n",
       " 'GROCERY',\n",
       " 'MEAT-PCKGD',\n",
       " 'GROCERY',\n",
       " 'GROCERY',\n",
       " 'GROCERY',\n",
       " 'SEAFOOD-PCKGD',\n",
       " 'GROCERY',\n",
       " 'GROCERY',\n",
       " 'GROCERY',\n",
       " 'GROCERY',\n",
       " 'GROCERY',\n",
       " 'GROCERY',\n",
       " 'GROCERY',\n",
       " 'GROCERY',\n",
       " 'GROCERY',\n",
       " 'GROCERY',\n",
       " 'GROCERY',\n",
       " 'PRODUCE',\n",
       " 'GROCERY',\n",
       " 'GROCERY',\n",
       " 'GROCERY',\n",
       " 'GROCERY',\n",
       " 'GROCERY',\n",
       " 'GROCERY',\n",
       " 'GROCERY',\n",
       " 'GROCERY',\n",
       " 'GROCERY',\n",
       " 'GROCERY',\n",
       " 'GROCERY',\n",
       " 'GROCERY',\n",
       " 'PRODUCE',\n",
       " 'MEAT-PCKGD',\n",
       " 'GROCERY',\n",
       " 'GROCERY',\n",
       " 'GROCERY',\n",
       " 'GROCERY',\n",
       " 'MEAT',\n",
       " 'GROCERY',\n",
       " 'GROCERY',\n",
       " 'DRUG GM',\n",
       " 'GROCERY',\n",
       " 'GROCERY',\n",
       " 'PASTRY',\n",
       " 'GROCERY',\n",
       " 'GROCERY',\n",
       " 'MEAT-PCKGD',\n",
       " 'GROCERY',\n",
       " 'GROCERY',\n",
       " 'GROCERY',\n",
       " 'GROCERY',\n",
       " 'DRUG GM',\n",
       " 'GROCERY',\n",
       " 'MEAT-PCKGD',\n",
       " 'GROCERY',\n",
       " 'GROCERY',\n",
       " 'GROCERY',\n",
       " 'GROCERY',\n",
       " 'GROCERY',\n",
       " 'DRUG GM',\n",
       " 'GROCERY',\n",
       " 'GROCERY',\n",
       " 'GROCERY',\n",
       " 'GROCERY',\n",
       " 'GROCERY',\n",
       " 'GROCERY',\n",
       " 'GROCERY',\n",
       " 'GROCERY',\n",
       " 'GROCERY',\n",
       " 'GROCERY',\n",
       " 'GROCERY',\n",
       " 'PRODUCE',\n",
       " 'GROCERY',\n",
       " 'PRODUCE',\n",
       " 'GROCERY',\n",
       " 'GROCERY',\n",
       " 'GROCERY',\n",
       " 'GROCERY',\n",
       " 'GROCERY',\n",
       " 'GROCERY',\n",
       " 'GROCERY',\n",
       " 'PRODUCE',\n",
       " 'GROCERY',\n",
       " 'GROCERY',\n",
       " 'GROCERY',\n",
       " 'GROCERY',\n",
       " 'GROCERY',\n",
       " 'GROCERY',\n",
       " 'DELI',\n",
       " 'DRUG GM',\n",
       " 'GROCERY',\n",
       " 'MEAT',\n",
       " 'GROCERY',\n",
       " 'GROCERY',\n",
       " 'GROCERY',\n",
       " 'GROCERY',\n",
       " 'GROCERY',\n",
       " 'GROCERY',\n",
       " 'GROCERY',\n",
       " 'GROCERY',\n",
       " 'DRUG GM',\n",
       " 'GROCERY',\n",
       " 'GROCERY',\n",
       " 'GROCERY',\n",
       " 'PRODUCE',\n",
       " 'GROCERY',\n",
       " 'GROCERY',\n",
       " 'GROCERY',\n",
       " 'GROCERY',\n",
       " 'GROCERY',\n",
       " 'GROCERY',\n",
       " 'NUTRITION',\n",
       " 'GROCERY',\n",
       " 'MEAT-PCKGD',\n",
       " 'PRODUCE',\n",
       " 'GROCERY',\n",
       " 'MISC SALES TRAN',\n",
       " 'GROCERY',\n",
       " 'GROCERY',\n",
       " 'GROCERY',\n",
       " 'GROCERY',\n",
       " 'GROCERY',\n",
       " 'DELI',\n",
       " 'GROCERY',\n",
       " 'GROCERY',\n",
       " 'DELI',\n",
       " 'GROCERY',\n",
       " 'GROCERY',\n",
       " 'DRUG GM',\n",
       " 'GROCERY',\n",
       " 'GROCERY',\n",
       " 'GROCERY',\n",
       " 'GROCERY',\n",
       " 'GROCERY',\n",
       " 'GROCERY',\n",
       " 'GROCERY',\n",
       " 'GROCERY',\n",
       " 'GROCERY',\n",
       " 'GROCERY',\n",
       " 'GROCERY',\n",
       " 'GROCERY',\n",
       " 'GROCERY',\n",
       " 'GROCERY',\n",
       " 'MEAT-PCKGD',\n",
       " 'DRUG GM',\n",
       " 'GROCERY',\n",
       " 'GROCERY',\n",
       " 'GROCERY',\n",
       " 'GROCERY',\n",
       " 'GROCERY',\n",
       " 'GROCERY',\n",
       " 'MEAT-PCKGD',\n",
       " 'GROCERY',\n",
       " 'GROCERY',\n",
       " 'GROCERY',\n",
       " 'GROCERY',\n",
       " 'GROCERY',\n",
       " 'GROCERY',\n",
       " 'NUTRITION',\n",
       " 'GROCERY',\n",
       " 'GROCERY',\n",
       " 'GROCERY',\n",
       " 'GROCERY',\n",
       " 'GROCERY',\n",
       " 'GROCERY',\n",
       " 'GROCERY',\n",
       " 'DELI',\n",
       " 'GROCERY',\n",
       " 'MEAT-PCKGD',\n",
       " 'GROCERY',\n",
       " 'MEAT-PCKGD',\n",
       " 'DRUG GM',\n",
       " 'GROCERY',\n",
       " 'GROCERY',\n",
       " 'GROCERY',\n",
       " 'GROCERY',\n",
       " 'DRUG GM',\n",
       " 'MEAT-PCKGD',\n",
       " 'GROCERY',\n",
       " 'GROCERY',\n",
       " 'GROCERY',\n",
       " 'PRODUCE',\n",
       " 'GROCERY',\n",
       " 'MEAT',\n",
       " 'GROCERY',\n",
       " 'GROCERY',\n",
       " 'MEAT-PCKGD',\n",
       " 'MEAT',\n",
       " 'GROCERY',\n",
       " 'DELI',\n",
       " 'GROCERY',\n",
       " 'GROCERY',\n",
       " 'GROCERY',\n",
       " 'GROCERY',\n",
       " 'MEAT-PCKGD',\n",
       " 'GROCERY',\n",
       " 'GROCERY',\n",
       " 'DRUG GM',\n",
       " 'GROCERY',\n",
       " 'GROCERY',\n",
       " 'GROCERY',\n",
       " 'GROCERY',\n",
       " 'GROCERY',\n",
       " 'GROCERY',\n",
       " 'GROCERY',\n",
       " 'NUTRITION',\n",
       " 'DRUG GM',\n",
       " 'GROCERY',\n",
       " 'GROCERY',\n",
       " 'GROCERY',\n",
       " 'GROCERY',\n",
       " 'GROCERY',\n",
       " 'MEAT-PCKGD',\n",
       " 'DRUG GM',\n",
       " 'GROCERY',\n",
       " 'GROCERY',\n",
       " 'GROCERY',\n",
       " 'DRUG GM',\n",
       " 'GROCERY',\n",
       " 'GROCERY',\n",
       " 'GROCERY',\n",
       " 'GROCERY',\n",
       " 'DRUG GM',\n",
       " 'GROCERY',\n",
       " 'GROCERY',\n",
       " 'GROCERY',\n",
       " 'GROCERY',\n",
       " 'GROCERY',\n",
       " 'DRUG GM',\n",
       " 'DRUG GM',\n",
       " 'GROCERY',\n",
       " 'PASTRY',\n",
       " 'GROCERY',\n",
       " 'GROCERY',\n",
       " 'GROCERY',\n",
       " 'MEAT',\n",
       " 'GROCERY',\n",
       " 'GROCERY',\n",
       " 'GROCERY',\n",
       " 'PASTRY',\n",
       " 'GROCERY',\n",
       " 'PRODUCE',\n",
       " 'GROCERY',\n",
       " 'GROCERY',\n",
       " 'GROCERY',\n",
       " 'GROCERY',\n",
       " 'GROCERY',\n",
       " 'GROCERY',\n",
       " 'GROCERY',\n",
       " 'GROCERY',\n",
       " 'GROCERY',\n",
       " ...]"
      ]
     },
     "execution_count": 56,
     "metadata": {},
     "output_type": "execute_result"
    }
   ],
   "source": [
    "category"
   ]
  },
  {
   "cell_type": "code",
   "execution_count": 52,
   "metadata": {
    "colab": {
     "base_uri": "https://localhost:8080/",
     "height": 567
    },
    "id": "JA_ilaBt5B9G",
    "outputId": "ed01b9bb-5465-4dda-9e50-6530f13e6339"
   },
   "outputs": [
    {
     "ename": "ValueError",
     "evalue": "Length of values (5001) does not match length of index (2500)",
     "output_type": "error",
     "traceback": [
      "\u001b[1;31m---------------------------------------------------------------------------\u001b[0m",
      "\u001b[1;31mValueError\u001b[0m                                Traceback (most recent call last)",
      "\u001b[1;32m<timed exec>\u001b[0m in \u001b[0;36m<module>\u001b[1;34m\u001b[0m\n",
      "\u001b[1;32m~\\Anaconda3\\lib\\site-packages\\pandas\\core\\frame.py\u001b[0m in \u001b[0;36m__setitem__\u001b[1;34m(self, key, value)\u001b[0m\n\u001b[0;32m   3038\u001b[0m         \u001b[1;32melse\u001b[0m\u001b[1;33m:\u001b[0m\u001b[1;33m\u001b[0m\u001b[1;33m\u001b[0m\u001b[0m\n\u001b[0;32m   3039\u001b[0m             \u001b[1;31m# set column\u001b[0m\u001b[1;33m\u001b[0m\u001b[1;33m\u001b[0m\u001b[1;33m\u001b[0m\u001b[0m\n\u001b[1;32m-> 3040\u001b[1;33m             \u001b[0mself\u001b[0m\u001b[1;33m.\u001b[0m\u001b[0m_set_item\u001b[0m\u001b[1;33m(\u001b[0m\u001b[0mkey\u001b[0m\u001b[1;33m,\u001b[0m \u001b[0mvalue\u001b[0m\u001b[1;33m)\u001b[0m\u001b[1;33m\u001b[0m\u001b[1;33m\u001b[0m\u001b[0m\n\u001b[0m\u001b[0;32m   3041\u001b[0m \u001b[1;33m\u001b[0m\u001b[0m\n\u001b[0;32m   3042\u001b[0m     \u001b[1;32mdef\u001b[0m \u001b[0m_setitem_slice\u001b[0m\u001b[1;33m(\u001b[0m\u001b[0mself\u001b[0m\u001b[1;33m,\u001b[0m \u001b[0mkey\u001b[0m\u001b[1;33m:\u001b[0m \u001b[0mslice\u001b[0m\u001b[1;33m,\u001b[0m \u001b[0mvalue\u001b[0m\u001b[1;33m)\u001b[0m\u001b[1;33m:\u001b[0m\u001b[1;33m\u001b[0m\u001b[1;33m\u001b[0m\u001b[0m\n",
      "\u001b[1;32m~\\Anaconda3\\lib\\site-packages\\pandas\\core\\frame.py\u001b[0m in \u001b[0;36m_set_item\u001b[1;34m(self, key, value)\u001b[0m\n\u001b[0;32m   3114\u001b[0m         \"\"\"\n\u001b[0;32m   3115\u001b[0m         \u001b[0mself\u001b[0m\u001b[1;33m.\u001b[0m\u001b[0m_ensure_valid_index\u001b[0m\u001b[1;33m(\u001b[0m\u001b[0mvalue\u001b[0m\u001b[1;33m)\u001b[0m\u001b[1;33m\u001b[0m\u001b[1;33m\u001b[0m\u001b[0m\n\u001b[1;32m-> 3116\u001b[1;33m         \u001b[0mvalue\u001b[0m \u001b[1;33m=\u001b[0m \u001b[0mself\u001b[0m\u001b[1;33m.\u001b[0m\u001b[0m_sanitize_column\u001b[0m\u001b[1;33m(\u001b[0m\u001b[0mkey\u001b[0m\u001b[1;33m,\u001b[0m \u001b[0mvalue\u001b[0m\u001b[1;33m)\u001b[0m\u001b[1;33m\u001b[0m\u001b[1;33m\u001b[0m\u001b[0m\n\u001b[0m\u001b[0;32m   3117\u001b[0m         \u001b[0mNDFrame\u001b[0m\u001b[1;33m.\u001b[0m\u001b[0m_set_item\u001b[0m\u001b[1;33m(\u001b[0m\u001b[0mself\u001b[0m\u001b[1;33m,\u001b[0m \u001b[0mkey\u001b[0m\u001b[1;33m,\u001b[0m \u001b[0mvalue\u001b[0m\u001b[1;33m)\u001b[0m\u001b[1;33m\u001b[0m\u001b[1;33m\u001b[0m\u001b[0m\n\u001b[0;32m   3118\u001b[0m \u001b[1;33m\u001b[0m\u001b[0m\n",
      "\u001b[1;32m~\\Anaconda3\\lib\\site-packages\\pandas\\core\\frame.py\u001b[0m in \u001b[0;36m_sanitize_column\u001b[1;34m(self, key, value, broadcast)\u001b[0m\n\u001b[0;32m   3762\u001b[0m \u001b[1;33m\u001b[0m\u001b[0m\n\u001b[0;32m   3763\u001b[0m             \u001b[1;31m# turn me into an ndarray\u001b[0m\u001b[1;33m\u001b[0m\u001b[1;33m\u001b[0m\u001b[1;33m\u001b[0m\u001b[0m\n\u001b[1;32m-> 3764\u001b[1;33m             \u001b[0mvalue\u001b[0m \u001b[1;33m=\u001b[0m \u001b[0msanitize_index\u001b[0m\u001b[1;33m(\u001b[0m\u001b[0mvalue\u001b[0m\u001b[1;33m,\u001b[0m \u001b[0mself\u001b[0m\u001b[1;33m.\u001b[0m\u001b[0mindex\u001b[0m\u001b[1;33m)\u001b[0m\u001b[1;33m\u001b[0m\u001b[1;33m\u001b[0m\u001b[0m\n\u001b[0m\u001b[0;32m   3765\u001b[0m             \u001b[1;32mif\u001b[0m \u001b[1;32mnot\u001b[0m \u001b[0misinstance\u001b[0m\u001b[1;33m(\u001b[0m\u001b[0mvalue\u001b[0m\u001b[1;33m,\u001b[0m \u001b[1;33m(\u001b[0m\u001b[0mnp\u001b[0m\u001b[1;33m.\u001b[0m\u001b[0mndarray\u001b[0m\u001b[1;33m,\u001b[0m \u001b[0mIndex\u001b[0m\u001b[1;33m)\u001b[0m\u001b[1;33m)\u001b[0m\u001b[1;33m:\u001b[0m\u001b[1;33m\u001b[0m\u001b[1;33m\u001b[0m\u001b[0m\n\u001b[0;32m   3766\u001b[0m                 \u001b[1;32mif\u001b[0m \u001b[0misinstance\u001b[0m\u001b[1;33m(\u001b[0m\u001b[0mvalue\u001b[0m\u001b[1;33m,\u001b[0m \u001b[0mlist\u001b[0m\u001b[1;33m)\u001b[0m \u001b[1;32mand\u001b[0m \u001b[0mlen\u001b[0m\u001b[1;33m(\u001b[0m\u001b[0mvalue\u001b[0m\u001b[1;33m)\u001b[0m \u001b[1;33m>\u001b[0m \u001b[1;36m0\u001b[0m\u001b[1;33m:\u001b[0m\u001b[1;33m\u001b[0m\u001b[1;33m\u001b[0m\u001b[0m\n",
      "\u001b[1;32m~\\Anaconda3\\lib\\site-packages\\pandas\\core\\internals\\construction.py\u001b[0m in \u001b[0;36msanitize_index\u001b[1;34m(data, index)\u001b[0m\n\u001b[0;32m    745\u001b[0m     \"\"\"\n\u001b[0;32m    746\u001b[0m     \u001b[1;32mif\u001b[0m \u001b[0mlen\u001b[0m\u001b[1;33m(\u001b[0m\u001b[0mdata\u001b[0m\u001b[1;33m)\u001b[0m \u001b[1;33m!=\u001b[0m \u001b[0mlen\u001b[0m\u001b[1;33m(\u001b[0m\u001b[0mindex\u001b[0m\u001b[1;33m)\u001b[0m\u001b[1;33m:\u001b[0m\u001b[1;33m\u001b[0m\u001b[1;33m\u001b[0m\u001b[0m\n\u001b[1;32m--> 747\u001b[1;33m         raise ValueError(\n\u001b[0m\u001b[0;32m    748\u001b[0m             \u001b[1;34m\"Length of values \"\u001b[0m\u001b[1;33m\u001b[0m\u001b[1;33m\u001b[0m\u001b[0m\n\u001b[0;32m    749\u001b[0m             \u001b[1;34mf\"({len(data)}) \"\u001b[0m\u001b[1;33m\u001b[0m\u001b[1;33m\u001b[0m\u001b[0m\n",
      "\u001b[1;31mValueError\u001b[0m: Length of values (5001) does not match length of index (2500)"
     ]
    }
   ],
   "source": [
    "%%time\n",
    "item_emb_tsne = reduce_dims(model.item_factors, dims=2, method='tsne')\n",
    "item_emb_tsne['category'] = category  # Добавляем категорию\n",
    "item_emb_tsne['item_id'] = list(itemid_to_id.keys()) #ОШИБКА: заменил itemid_to_id НА userid_to_id\n",
    "item_emb_tsne = item_emb_tsne[item_emb_tsne['category'] != 'UNKNOWN']\n",
    "\n",
    "display_components_in_2D_space(item_emb_tsne, labels='category')"
   ]
  },
  {
   "cell_type": "code",
   "execution_count": 46,
   "metadata": {
    "id": "I4Yzdino5B9G"
   },
   "outputs": [],
   "source": [
    "item_emb_tsne_reduced = item_emb_tsne[item_emb_tsne['category'] != 'GROCERY']"
   ]
  },
  {
   "cell_type": "code",
   "execution_count": 47,
   "metadata": {
    "colab": {
     "base_uri": "https://localhost:8080/",
     "height": 498
    },
    "id": "6xmoe58k5B9H",
    "outputId": "1cdb2728-7bfc-4396-d9a8-c16132c6a0df"
   },
   "outputs": [
    {
     "data": {
      "image/png": "[encoded data removed]",
      "text/plain": [
       "<Figure size 864x576 with 1 Axes>"
      ]
     },
     "metadata": {
      "needs_background": "light"
     },
     "output_type": "display_data"
    }
   ],
   "source": [
    "display_components_in_2D_space(item_emb_tsne_reduced, labels='category')"
   ]
  },
  {
   "cell_type": "markdown",
   "metadata": {
    "id": "3dliOaso5B9H"
   },
   "source": [
    "Нарисуем все товары в катгеориях, где есть СТМ"
   ]
  },
  {
   "cell_type": "code",
   "execution_count": 48,
   "metadata": {
    "colab": {
     "base_uri": "https://localhost:8080/",
     "height": 498
    },
    "id": "aMDm_Fa55B9H",
    "outputId": "74e222c8-3f69-4f94-9020-021c85695c07"
   },
   "outputs": [
    {
     "data": {
      "image/png": "[encoded data removed]",
      "text/plain": [
       "<Figure size 864x576 with 1 Axes>"
      ]
     },
     "metadata": {
      "needs_background": "light"
     },
     "output_type": "display_data"
    }
   ],
   "source": [
    "display_components_in_2D_space(item_emb_tsne_reduced[item_emb_tsne_reduced['category'].isin(categories_with_own_items)], \n",
    "                               labels='category')"
   ]
  },
  {
   "cell_type": "code",
   "execution_count": 49,
   "metadata": {
    "colab": {
     "base_uri": "https://localhost:8080/",
     "height": 81
    },
    "id": "GJc6dtv6Ath0",
    "outputId": "08a740bf-b017-4bf9-fcf7-1270421b86d7"
   },
   "outputs": [
    {
     "data": {
      "text/html": [
       "<div>\n",
       "<style scoped>\n",
       "    .dataframe tbody tr th:only-of-type {\n",
       "        vertical-align: middle;\n",
       "    }\n",
       "\n",
       "    .dataframe tbody tr th {\n",
       "        vertical-align: top;\n",
       "    }\n",
       "\n",
       "    .dataframe thead th {\n",
       "        text-align: right;\n",
       "    }\n",
       "</style>\n",
       "<table border=\"1\" class=\"dataframe\">\n",
       "  <thead>\n",
       "    <tr style=\"text-align: right;\">\n",
       "      <th></th>\n",
       "      <th>item_id</th>\n",
       "      <th>manufacturer</th>\n",
       "      <th>department</th>\n",
       "      <th>brand</th>\n",
       "      <th>commodity_desc</th>\n",
       "      <th>sub_commodity_desc</th>\n",
       "      <th>curr_size_of_product</th>\n",
       "    </tr>\n",
       "  </thead>\n",
       "  <tbody>\n",
       "    <tr>\n",
       "      <th>26869</th>\n",
       "      <td>1004906</td>\n",
       "      <td>69</td>\n",
       "      <td>PRODUCE</td>\n",
       "      <td>Private</td>\n",
       "      <td>POTATOES</td>\n",
       "      <td>POTATOES RUSSET (BULK&amp;BAG)</td>\n",
       "      <td>5 LB</td>\n",
       "    </tr>\n",
       "  </tbody>\n",
       "</table>\n",
       "</div>"
      ],
      "text/plain": [
       "       item_id  manufacturer department    brand commodity_desc  \\\n",
       "26869  1004906            69    PRODUCE  Private       POTATOES   \n",
       "\n",
       "               sub_commodity_desc curr_size_of_product  \n",
       "26869  POTATOES RUSSET (BULK&BAG)                 5 LB  "
      ]
     },
     "execution_count": 49,
     "metadata": {},
     "output_type": "execute_result"
    }
   ],
   "source": [
    "item_features[item_features['item_id']==1004906]"
   ]
  },
  {
   "cell_type": "markdown",
   "metadata": {},
   "source": [
    "Пример для 1 товара (с id = 1004906)"
   ]
  },
  {
   "cell_type": "code",
   "execution_count": 50,
   "metadata": {
    "colab": {
     "base_uri": "https://localhost:8080/"
    },
    "id": "LyUrlIB55B9H",
    "outputId": "9193b0bd-12e3-4bda-9acc-98204cad0865"
   },
   "outputs": [
    {
     "ename": "KeyError",
     "evalue": "1.0000001",
     "output_type": "error",
     "traceback": [
      "\u001b[1;31m---------------------------------------------------------------------------\u001b[0m",
      "\u001b[1;31mKeyError\u001b[0m                                  Traceback (most recent call last)",
      "\u001b[1;32m<ipython-input-50-a3665cbdc2c7>\u001b[0m in \u001b[0;36m<module>\u001b[1;34m\u001b[0m\n\u001b[0;32m      1\u001b[0m \u001b[0msimilar_items\u001b[0m \u001b[1;33m=\u001b[0m \u001b[0mmodel\u001b[0m\u001b[1;33m.\u001b[0m\u001b[0msimilar_items\u001b[0m\u001b[1;33m(\u001b[0m\u001b[0mitemid_to_id\u001b[0m\u001b[1;33m[\u001b[0m\u001b[1;36m1004906\u001b[0m\u001b[1;33m]\u001b[0m\u001b[1;33m,\u001b[0m \u001b[0mN\u001b[0m\u001b[1;33m=\u001b[0m\u001b[1;36m50\u001b[0m\u001b[1;33m)\u001b[0m\u001b[1;33m\u001b[0m\u001b[1;33m\u001b[0m\u001b[0m\n\u001b[1;32m----> 2\u001b[1;33m \u001b[0msimilar_items\u001b[0m \u001b[1;33m=\u001b[0m \u001b[1;33m[\u001b[0m\u001b[0mid_to_itemid\u001b[0m\u001b[1;33m[\u001b[0m\u001b[0msim\u001b[0m\u001b[1;33m[\u001b[0m\u001b[1;36m0\u001b[0m\u001b[1;33m]\u001b[0m\u001b[1;33m]\u001b[0m \u001b[1;32mfor\u001b[0m \u001b[0msim\u001b[0m \u001b[1;32min\u001b[0m \u001b[0msimilar_items\u001b[0m\u001b[1;33m]\u001b[0m\u001b[1;33m\u001b[0m\u001b[1;33m\u001b[0m\u001b[0m\n\u001b[0m\u001b[0;32m      3\u001b[0m \u001b[1;31m#similar_items.append(1004906)\u001b[0m\u001b[1;33m\u001b[0m\u001b[1;33m\u001b[0m\u001b[1;33m\u001b[0m\u001b[0m\n\u001b[0;32m      4\u001b[0m \u001b[0mlen\u001b[0m\u001b[1;33m(\u001b[0m\u001b[0msimilar_items\u001b[0m\u001b[1;33m)\u001b[0m\u001b[1;33m\u001b[0m\u001b[1;33m\u001b[0m\u001b[0m\n",
      "\u001b[1;32m<ipython-input-50-a3665cbdc2c7>\u001b[0m in \u001b[0;36m<listcomp>\u001b[1;34m(.0)\u001b[0m\n\u001b[0;32m      1\u001b[0m \u001b[0msimilar_items\u001b[0m \u001b[1;33m=\u001b[0m \u001b[0mmodel\u001b[0m\u001b[1;33m.\u001b[0m\u001b[0msimilar_items\u001b[0m\u001b[1;33m(\u001b[0m\u001b[0mitemid_to_id\u001b[0m\u001b[1;33m[\u001b[0m\u001b[1;36m1004906\u001b[0m\u001b[1;33m]\u001b[0m\u001b[1;33m,\u001b[0m \u001b[0mN\u001b[0m\u001b[1;33m=\u001b[0m\u001b[1;36m50\u001b[0m\u001b[1;33m)\u001b[0m\u001b[1;33m\u001b[0m\u001b[1;33m\u001b[0m\u001b[0m\n\u001b[1;32m----> 2\u001b[1;33m \u001b[0msimilar_items\u001b[0m \u001b[1;33m=\u001b[0m \u001b[1;33m[\u001b[0m\u001b[0mid_to_itemid\u001b[0m\u001b[1;33m[\u001b[0m\u001b[0msim\u001b[0m\u001b[1;33m[\u001b[0m\u001b[1;36m0\u001b[0m\u001b[1;33m]\u001b[0m\u001b[1;33m]\u001b[0m \u001b[1;32mfor\u001b[0m \u001b[0msim\u001b[0m \u001b[1;32min\u001b[0m \u001b[0msimilar_items\u001b[0m\u001b[1;33m]\u001b[0m\u001b[1;33m\u001b[0m\u001b[1;33m\u001b[0m\u001b[0m\n\u001b[0m\u001b[0;32m      3\u001b[0m \u001b[1;31m#similar_items.append(1004906)\u001b[0m\u001b[1;33m\u001b[0m\u001b[1;33m\u001b[0m\u001b[1;33m\u001b[0m\u001b[0m\n\u001b[0;32m      4\u001b[0m \u001b[0mlen\u001b[0m\u001b[1;33m(\u001b[0m\u001b[0msimilar_items\u001b[0m\u001b[1;33m)\u001b[0m\u001b[1;33m\u001b[0m\u001b[1;33m\u001b[0m\u001b[0m\n",
      "\u001b[1;31mKeyError\u001b[0m: 1.0000001"
     ]
    }
   ],
   "source": [
    "similar_items = model.similar_items(itemid_to_id[1004906], N=50)\n",
    "similar_items = [id_to_itemid[sim[0]] for sim in similar_items]\n",
    "#similar_items.append(1004906)\n",
    "len(similar_items)"
   ]
  },
  {
   "cell_type": "code",
   "execution_count": 47,
   "metadata": {
    "id": "-KF7DXONDFxe"
   },
   "outputs": [],
   "source": [
    "similar_items.remove(999999)"
   ]
  },
  {
   "cell_type": "code",
   "execution_count": 48,
   "metadata": {
    "colab": {
     "base_uri": "https://localhost:8080/"
    },
    "id": "YKVQRUWPEdCp",
    "outputId": "1e703736-1577-4d26-922c-5d0b36fb6c7c"
   },
   "outputs": [
    {
     "data": {
      "text/plain": [
       "49"
      ]
     },
     "execution_count": 48,
     "metadata": {},
     "output_type": "execute_result"
    }
   ],
   "source": [
    "len(similar_items)"
   ]
  },
  {
   "cell_type": "code",
   "execution_count": 51,
   "metadata": {
    "pycharm": {
     "name": "#%%\n"
    }
   },
   "outputs": [
    {
     "data": {
      "text/plain": [
       "[1004906,\n",
       " 952163,\n",
       " 840361,\n",
       " 844179,\n",
       " 904360,\n",
       " 981760,\n",
       " 899624,\n",
       " 1081177,\n",
       " 1055646,\n",
       " 913785,\n",
       " 1068719,\n",
       " 916122,\n",
       " 1044078,\n",
       " 995785,\n",
       " 826249,\n",
       " 1033142,\n",
       " 1082185,\n",
       " 1049788,\n",
       " 979707,\n",
       " 994928,\n",
       " 897954,\n",
       " 1098066,\n",
       " 1038217,\n",
       " 1029743,\n",
       " 965766,\n",
       " 938700,\n",
       " 929668,\n",
       " 845208,\n",
       " 980727,\n",
       " 962568,\n",
       " 12301109,\n",
       " 859075,\n",
       " 883404,\n",
       " 999858,\n",
       " 1013321,\n",
       " 995242,\n",
       " 961554,\n",
       " 923746,\n",
       " 880150,\n",
       " 860776,\n",
       " 898068,\n",
       " 866211,\n",
       " 825343,\n",
       " 976955,\n",
       " 6534178,\n",
       " 857849,\n",
       " 961792,\n",
       " 854405,\n",
       " 951190]"
      ]
     },
     "execution_count": 51,
     "metadata": {},
     "output_type": "execute_result"
    }
   ],
   "source": [
    "similar_items"
   ]
  },
  {
   "cell_type": "code",
   "execution_count": 49,
   "metadata": {
    "colab": {
     "base_uri": "https://localhost:8080/",
     "height": 81
    },
    "id": "Tm6kxkzB5B9I",
    "outputId": "d60dd237-a782-47d5-a9f2-eeb69f4391c6"
   },
   "outputs": [
    {
     "data": {
      "text/html": [
       "<div>\n",
       "<style scoped>\n",
       "    .dataframe tbody tr th:only-of-type {\n",
       "        vertical-align: middle;\n",
       "    }\n",
       "\n",
       "    .dataframe tbody tr th {\n",
       "        vertical-align: top;\n",
       "    }\n",
       "\n",
       "    .dataframe thead th {\n",
       "        text-align: right;\n",
       "    }\n",
       "</style>\n",
       "<table border=\"1\" class=\"dataframe\">\n",
       "  <thead>\n",
       "    <tr style=\"text-align: right;\">\n",
       "      <th></th>\n",
       "      <th>component_1</th>\n",
       "      <th>component_2</th>\n",
       "      <th>category</th>\n",
       "      <th>item_id</th>\n",
       "    </tr>\n",
       "  </thead>\n",
       "  <tbody>\n",
       "    <tr>\n",
       "      <th>2427</th>\n",
       "      <td>-7.612037</td>\n",
       "      <td>-4.811127</td>\n",
       "      <td>PRODUCE</td>\n",
       "      <td>1004906</td>\n",
       "    </tr>\n",
       "  </tbody>\n",
       "</table>\n",
       "</div>"
      ],
      "text/plain": [
       "      component_1  component_2 category  item_id\n",
       "2427    -7.612037    -4.811127  PRODUCE  1004906"
      ]
     },
     "execution_count": 49,
     "metadata": {},
     "output_type": "execute_result"
    }
   ],
   "source": [
    "item_emb_tsne[item_emb_tsne['item_id'] == 1004906]"
   ]
  },
  {
   "cell_type": "code",
   "execution_count": 50,
   "metadata": {
    "colab": {
     "base_uri": "https://localhost:8080/",
     "height": 81
    },
    "id": "3U4JW1TMDQtz",
    "outputId": "03223f50-07d7-4a1f-99a8-32fa00266df0"
   },
   "outputs": [
    {
     "data": {
      "text/html": [
       "<div>\n",
       "<style scoped>\n",
       "    .dataframe tbody tr th:only-of-type {\n",
       "        vertical-align: middle;\n",
       "    }\n",
       "\n",
       "    .dataframe tbody tr th {\n",
       "        vertical-align: top;\n",
       "    }\n",
       "\n",
       "    .dataframe thead th {\n",
       "        text-align: right;\n",
       "    }\n",
       "</style>\n",
       "<table border=\"1\" class=\"dataframe\">\n",
       "  <thead>\n",
       "    <tr style=\"text-align: right;\">\n",
       "      <th></th>\n",
       "      <th>component_1</th>\n",
       "      <th>component_2</th>\n",
       "      <th>category</th>\n",
       "      <th>item_id</th>\n",
       "    </tr>\n",
       "  </thead>\n",
       "  <tbody>\n",
       "    <tr>\n",
       "      <th>1170</th>\n",
       "      <td>-7.597715</td>\n",
       "      <td>-5.205944</td>\n",
       "      <td>PRODUCE</td>\n",
       "      <td>904360</td>\n",
       "    </tr>\n",
       "  </tbody>\n",
       "</table>\n",
       "</div>"
      ],
      "text/plain": [
       "      component_1  component_2 category  item_id\n",
       "1170    -7.597715    -5.205944  PRODUCE   904360"
      ]
     },
     "execution_count": 50,
     "metadata": {},
     "output_type": "execute_result"
    }
   ],
   "source": [
    "item_emb_tsne[item_emb_tsne['item_id'] == 904360]"
   ]
  },
  {
   "cell_type": "code",
   "execution_count": 52,
   "metadata": {
    "colab": {
     "base_uri": "https://localhost:8080/",
     "height": 498
    },
    "id": "P7iolVcO5B9I",
    "outputId": "13616655-2324-4548-e8ae-976dbacfe610"
   },
   "outputs": [
    {
     "data": {
      "image/png": "[encoded data removed]",
      "text/plain": [
       "<Figure size 864x576 with 1 Axes>"
      ]
     },
     "metadata": {
      "needs_background": "light"
     },
     "output_type": "display_data"
    }
   ],
   "source": [
    "display_components_in_2D_space(item_emb_tsne[item_emb_tsne['item_id'].isin(similar_items)], \n",
    "                               labels='category')"
   ]
  },
  {
   "cell_type": "markdown",
   "metadata": {
    "id": "vSKGih7q5B9I"
   },
   "source": [
    "Берем топ-5 популярных покупок юзера --> находим по 1 наиболее близкому товару СТМ для них --> рекомендуем"
   ]
  },
  {
   "cell_type": "code",
   "execution_count": 53,
   "metadata": {
    "colab": {
     "base_uri": "https://localhost:8080/",
     "height": 112
    },
    "id": "iFzg84Vh5B9I",
    "outputId": "b0be5bc9-1549-42ee-9c59-e3b72be14702"
   },
   "outputs": [
    {
     "data": {
      "text/html": [
       "<div>\n",
       "<style scoped>\n",
       "    .dataframe tbody tr th:only-of-type {\n",
       "        vertical-align: middle;\n",
       "    }\n",
       "\n",
       "    .dataframe tbody tr th {\n",
       "        vertical-align: top;\n",
       "    }\n",
       "\n",
       "    .dataframe thead th {\n",
       "        text-align: right;\n",
       "    }\n",
       "</style>\n",
       "<table border=\"1\" class=\"dataframe\">\n",
       "  <thead>\n",
       "    <tr style=\"text-align: right;\">\n",
       "      <th></th>\n",
       "      <th>user_id</th>\n",
       "      <th>item_id</th>\n",
       "      <th>quantity</th>\n",
       "    </tr>\n",
       "  </thead>\n",
       "  <tbody>\n",
       "    <tr>\n",
       "      <th>709114</th>\n",
       "      <td>2500</td>\n",
       "      <td>859237</td>\n",
       "      <td>16</td>\n",
       "    </tr>\n",
       "    <tr>\n",
       "      <th>709374</th>\n",
       "      <td>2500</td>\n",
       "      <td>1082185</td>\n",
       "      <td>23</td>\n",
       "    </tr>\n",
       "  </tbody>\n",
       "</table>\n",
       "</div>"
      ],
      "text/plain": [
       "        user_id  item_id  quantity\n",
       "709114     2500   859237        16\n",
       "709374     2500  1082185        23"
      ]
     },
     "execution_count": 53,
     "metadata": {},
     "output_type": "execute_result"
    }
   ],
   "source": [
    "# your_code\n",
    "\n",
    "popularity = data_train.groupby(['user_id', 'item_id'])['quantity'].count().reset_index()\n",
    "popularity.sort_values('quantity', ascending=False, inplace=True)\n",
    "\n",
    "popularity = popularity[popularity['item_id'] != 999999]\n",
    "\n",
    "popularity = popularity.groupby('user_id').head(5)\n",
    "\n",
    "popularity.sort_values('user_id', ascending=False, inplace=True)\n",
    "popularity.head(2)"
   ]
  },
  {
   "cell_type": "code",
   "execution_count": 57,
   "metadata": {
    "pycharm": {
     "name": "#%%\n"
    }
   },
   "outputs": [
    {
     "data": {
      "text/plain": [
       "[(2427, 1.0), (1794, 0.95233727), (298, 0.9388629)]"
      ]
     },
     "execution_count": 57,
     "metadata": {},
     "output_type": "execute_result"
    }
   ],
   "source": [
    "model.similar_items(itemid_to_id[1004906], N=3)"
   ]
  },
  {
   "cell_type": "code",
   "execution_count": 58,
   "metadata": {
    "pycharm": {
     "name": "#%%\n"
    }
   },
   "outputs": [
    {
     "data": {
      "text/plain": [
       "1004906"
      ]
     },
     "execution_count": 58,
     "metadata": {},
     "output_type": "execute_result"
    }
   ],
   "source": [
    "id_to_itemid[2427]"
   ]
  },
  {
   "cell_type": "code",
   "execution_count": 59,
   "metadata": {
    "pycharm": {
     "name": "#%%\n"
    }
   },
   "outputs": [
    {
     "data": {
      "text/plain": [
       "952163"
      ]
     },
     "execution_count": 59,
     "metadata": {},
     "output_type": "execute_result"
    }
   ],
   "source": [
    "id_to_itemid[1794]"
   ]
  },
  {
   "cell_type": "code",
   "execution_count": 60,
   "metadata": {
    "colab": {
     "base_uri": "https://localhost:8080/"
    },
    "id": "HX-H_Yfj5B9I",
    "outputId": "8766a821-89c8-4907-bd93-c20a0ebca831"
   },
   "outputs": [
    {
     "name": "stdout",
     "output_type": "stream",
     "text": [
      "CPU times: user 34.6 s, sys: 4.6 s, total: 39.2 s\n",
      "Wall time: 6.69 s\n"
     ]
    },
    {
     "data": {
      "text/html": [
       "<div>\n",
       "<style scoped>\n",
       "    .dataframe tbody tr th:only-of-type {\n",
       "        vertical-align: middle;\n",
       "    }\n",
       "\n",
       "    .dataframe tbody tr th {\n",
       "        vertical-align: top;\n",
       "    }\n",
       "\n",
       "    .dataframe thead th {\n",
       "        text-align: right;\n",
       "    }\n",
       "</style>\n",
       "<table border=\"1\" class=\"dataframe\">\n",
       "  <thead>\n",
       "    <tr style=\"text-align: right;\">\n",
       "      <th></th>\n",
       "      <th>user_id</th>\n",
       "      <th>item_id</th>\n",
       "      <th>quantity</th>\n",
       "      <th>similar_recommendation</th>\n",
       "    </tr>\n",
       "  </thead>\n",
       "  <tbody>\n",
       "    <tr>\n",
       "      <th>709114</th>\n",
       "      <td>2500</td>\n",
       "      <td>859237</td>\n",
       "      <td>16</td>\n",
       "      <td>1085604</td>\n",
       "    </tr>\n",
       "    <tr>\n",
       "      <th>709374</th>\n",
       "      <td>2500</td>\n",
       "      <td>1082185</td>\n",
       "      <td>23</td>\n",
       "      <td>981760</td>\n",
       "    </tr>\n",
       "    <tr>\n",
       "      <th>709350</th>\n",
       "      <td>2500</td>\n",
       "      <td>1065538</td>\n",
       "      <td>10</td>\n",
       "      <td>1034176</td>\n",
       "    </tr>\n",
       "  </tbody>\n",
       "</table>\n",
       "</div>"
      ],
      "text/plain": [
       "        user_id  item_id  quantity  similar_recommendation\n",
       "709114     2500   859237        16                 1085604\n",
       "709374     2500  1082185        23                  981760\n",
       "709350     2500  1065538        10                 1034176"
      ]
     },
     "execution_count": 60,
     "metadata": {},
     "output_type": "execute_result"
    }
   ],
   "source": [
    "%%time\n",
    "\n",
    "def get_rec(model, x):\n",
    "    recs = model.similar_items(itemid_to_id[x], N=3)\n",
    "    top_rec = recs[1][0] # потому что на позии recs[0][0] - находится id самого x\n",
    "    rec = id_to_itemid[top_rec]\n",
    "    # заглушка, можно заменять на \"менее похожий товар\" в случае если попался товар не из ТОП-5000  \n",
    "    if rec == 999999:\n",
    "        #rec = x\n",
    "        rec = id_to_itemid[recs[2][0]]\n",
    "    return rec\n",
    "    \n",
    "\n",
    "popularity['similar_recommendation'] = popularity['item_id'].apply(lambda x: get_rec(model, x))\n",
    "popularity.head(3)"
   ]
  },
  {
   "cell_type": "code",
   "execution_count": 61,
   "metadata": {
    "colab": {
     "base_uri": "https://localhost:8080/",
     "height": 112
    },
    "id": "mO-hphDD5B9J",
    "outputId": "62425540-536a-45dc-e653-efa79a69bd4a"
   },
   "outputs": [
    {
     "data": {
      "text/html": [
       "<div>\n",
       "<style scoped>\n",
       "    .dataframe tbody tr th:only-of-type {\n",
       "        vertical-align: middle;\n",
       "    }\n",
       "\n",
       "    .dataframe tbody tr th {\n",
       "        vertical-align: top;\n",
       "    }\n",
       "\n",
       "    .dataframe thead th {\n",
       "        text-align: right;\n",
       "    }\n",
       "</style>\n",
       "<table border=\"1\" class=\"dataframe\">\n",
       "  <thead>\n",
       "    <tr style=\"text-align: right;\">\n",
       "      <th></th>\n",
       "      <th>user_id</th>\n",
       "      <th>similar_recommendation</th>\n",
       "    </tr>\n",
       "  </thead>\n",
       "  <tbody>\n",
       "    <tr>\n",
       "      <th>0</th>\n",
       "      <td>1</td>\n",
       "      <td>[9526410, 12301405, 1082185, 12352293, 981760]</td>\n",
       "    </tr>\n",
       "    <tr>\n",
       "      <th>1</th>\n",
       "      <td>2</td>\n",
       "      <td>[985999, 1133018, 8090537, 5569845, 1106523]</td>\n",
       "    </tr>\n",
       "  </tbody>\n",
       "</table>\n",
       "</div>"
      ],
      "text/plain": [
       "   user_id                          similar_recommendation\n",
       "0        1  [9526410, 12301405, 1082185, 12352293, 981760]\n",
       "1        2    [985999, 1133018, 8090537, 5569845, 1106523]"
      ]
     },
     "execution_count": 61,
     "metadata": {},
     "output_type": "execute_result"
    }
   ],
   "source": [
    "recommendation_similar_items = popularity.groupby('user_id')['similar_recommendation'].unique().reset_index()\n",
    "recommendation_similar_items.columns=['user_id', 'similar_recommendation']\n",
    "recommendation_similar_items.head(2)"
   ]
  },
  {
   "cell_type": "code",
   "execution_count": 62,
   "metadata": {
    "colab": {
     "base_uri": "https://localhost:8080/",
     "height": 112
    },
    "id": "In1PamsB5B9J",
    "outputId": "d132ab3a-a95a-454a-b660-3e37ab4eb8da"
   },
   "outputs": [
    {
     "data": {
      "text/html": [
       "<div>\n",
       "<style scoped>\n",
       "    .dataframe tbody tr th:only-of-type {\n",
       "        vertical-align: middle;\n",
       "    }\n",
       "\n",
       "    .dataframe tbody tr th {\n",
       "        vertical-align: top;\n",
       "    }\n",
       "\n",
       "    .dataframe thead th {\n",
       "        text-align: right;\n",
       "    }\n",
       "</style>\n",
       "<table border=\"1\" class=\"dataframe\">\n",
       "  <thead>\n",
       "    <tr style=\"text-align: right;\">\n",
       "      <th></th>\n",
       "      <th>user_id</th>\n",
       "      <th>actual</th>\n",
       "      <th>bm25</th>\n",
       "      <th>similar_recommendation</th>\n",
       "    </tr>\n",
       "  </thead>\n",
       "  <tbody>\n",
       "    <tr>\n",
       "      <th>0</th>\n",
       "      <td>1</td>\n",
       "      <td>[879517, 934369, 1115576, 1124029, 5572301, 65...</td>\n",
       "      <td>[1051211, 1100972, 900586, 10282046, 1004390]</td>\n",
       "      <td>[9526410, 12301405, 1082185, 12352293, 981760]</td>\n",
       "    </tr>\n",
       "    <tr>\n",
       "      <th>1</th>\n",
       "      <td>3</td>\n",
       "      <td>[823704, 834117, 840244, 913785, 917816, 93870...</td>\n",
       "      <td>[913278, 962229, 885697, 941741, 918733]</td>\n",
       "      <td>[1133018, 1075979, 1076875, 1092026, 960318]</td>\n",
       "    </tr>\n",
       "  </tbody>\n",
       "</table>\n",
       "</div>"
      ],
      "text/plain": [
       "   user_id                                             actual  \\\n",
       "0        1  [879517, 934369, 1115576, 1124029, 5572301, 65...   \n",
       "1        3  [823704, 834117, 840244, 913785, 917816, 93870...   \n",
       "\n",
       "                                            bm25  \\\n",
       "0  [1051211, 1100972, 900586, 10282046, 1004390]   \n",
       "1       [913278, 962229, 885697, 941741, 918733]   \n",
       "\n",
       "                           similar_recommendation  \n",
       "0  [9526410, 12301405, 1082185, 12352293, 981760]  \n",
       "1    [1133018, 1075979, 1076875, 1092026, 960318]  "
      ]
     },
     "execution_count": 62,
     "metadata": {},
     "output_type": "execute_result"
    }
   ],
   "source": [
    "result = result.merge(recommendation_similar_items, on='user_id', how='left')\n",
    "result.head(2)"
   ]
  },
  {
   "cell_type": "code",
   "execution_count": 56,
   "metadata": {
    "colab": {
     "base_uri": "https://localhost:8080/",
     "height": 112
    },
    "id": "3ol06TfLB1B3",
    "outputId": "8c7937f3-227e-49bc-c035-0486a9bbdc19"
   },
   "outputs": [
    {
     "data": {
      "text/html": [
       "<div>\n",
       "<style scoped>\n",
       "    .dataframe tbody tr th:only-of-type {\n",
       "        vertical-align: middle;\n",
       "    }\n",
       "\n",
       "    .dataframe tbody tr th {\n",
       "        vertical-align: top;\n",
       "    }\n",
       "\n",
       "    .dataframe thead th {\n",
       "        text-align: right;\n",
       "    }\n",
       "</style>\n",
       "<table border=\"1\" class=\"dataframe\">\n",
       "  <thead>\n",
       "    <tr style=\"text-align: right;\">\n",
       "      <th></th>\n",
       "      <th>user_id</th>\n",
       "      <th>actual</th>\n",
       "      <th>bm25</th>\n",
       "      <th>similar_recommendation</th>\n",
       "    </tr>\n",
       "  </thead>\n",
       "  <tbody>\n",
       "    <tr>\n",
       "      <th>0</th>\n",
       "      <td>1</td>\n",
       "      <td>[879517, 934369, 1115576, 1124029, 5572301, 65...</td>\n",
       "      <td>[1100972, 10282046, 5569374, 1050229, 874617]</td>\n",
       "      <td>[9526410, 5582712, 1082185, 1011736, 981760]</td>\n",
       "    </tr>\n",
       "    <tr>\n",
       "      <th>1</th>\n",
       "      <td>3</td>\n",
       "      <td>[823704, 834117, 840244, 913785, 917816, 93870...</td>\n",
       "      <td>[856772, 1110244, 941741, 919534, 885697]</td>\n",
       "      <td>[1133018, 1075979, 1053690, 1092026, 960318]</td>\n",
       "    </tr>\n",
       "  </tbody>\n",
       "</table>\n",
       "</div>"
      ],
      "text/plain": [
       "   user_id                                             actual  \\\n",
       "0        1  [879517, 934369, 1115576, 1124029, 5572301, 65...   \n",
       "1        3  [823704, 834117, 840244, 913785, 917816, 93870...   \n",
       "\n",
       "                                            bm25  \\\n",
       "0  [1100972, 10282046, 5569374, 1050229, 874617]   \n",
       "1      [856772, 1110244, 941741, 919534, 885697]   \n",
       "\n",
       "                         similar_recommendation  \n",
       "0  [9526410, 5582712, 1082185, 1011736, 981760]  \n",
       "1  [1133018, 1075979, 1053690, 1092026, 960318]  "
      ]
     },
     "execution_count": 56,
     "metadata": {},
     "output_type": "execute_result"
    }
   ],
   "source": [
    "result.head(2)"
   ]
  },
  {
   "cell_type": "code",
   "execution_count": 63,
   "metadata": {
    "colab": {
     "base_uri": "https://localhost:8080/"
    },
    "id": "iZugoyGL5B9K",
    "outputId": "31b8cb16-e436-4526-8073-e9a6929a3628"
   },
   "outputs": [
    {
     "name": "stderr",
     "output_type": "stream",
     "text": [
      "/var/folders/qs/6xk5mdt9617cpq2wf0p2xkyc0000gn/T/ipykernel_40347/1231165280.py:14: RuntimeWarning: invalid value encountered in long_scalars\n",
      "  precision = flags.sum() / len(recommended_list)\n"
     ]
    },
    {
     "data": {
      "text/plain": [
       "0.13937027707808564"
      ]
     },
     "execution_count": 63,
     "metadata": {},
     "output_type": "execute_result"
    }
   ],
   "source": [
    "result.apply(lambda row: precision_at_k(row['similar_recommendation'], row['actual']), axis=1).mean()"
   ]
  },
  {
   "cell_type": "markdown",
   "metadata": {
    "id": "CWTUy16j5B9K"
   },
   "source": [
    "### Кейс 2. Вашим друзьям нравится / Похожим пользователям нравится / ..."
   ]
  },
  {
   "cell_type": "markdown",
   "metadata": {
    "id": "JVtzsCCS5B9L"
   },
   "source": [
    "Пользователь --> похожих пользовтелей --> рекомендовать те товары, которые купили похожие юзеры"
   ]
  },
  {
   "cell_type": "code",
   "execution_count": 64,
   "metadata": {
    "colab": {
     "base_uri": "https://localhost:8080/"
    },
    "id": "4EqgDXo75B9L",
    "outputId": "9fdb6084-3630-4b24-b825-1399477812b5"
   },
   "outputs": [
    {
     "data": {
      "text/plain": [
       "9"
      ]
     },
     "execution_count": 64,
     "metadata": {},
     "output_type": "execute_result"
    }
   ],
   "source": [
    "userid_to_id[10]"
   ]
  },
  {
   "cell_type": "code",
   "execution_count": 65,
   "metadata": {
    "colab": {
     "base_uri": "https://localhost:8080/"
    },
    "id": "IE7Z8Rdx5B9L",
    "outputId": "cdc43acb-d5dc-4243-db25-8a371b6f501e"
   },
   "outputs": [
    {
     "data": {
      "text/plain": [
       "[(9, 1.0000001),\n",
       " (1539, 0.55965257),\n",
       " (1765, 0.55338365),\n",
       " (1037, 0.5513612),\n",
       " (2222, 0.5428671),\n",
       " (1549, 0.5405383)]"
      ]
     },
     "execution_count": 65,
     "metadata": {},
     "output_type": "execute_result"
    }
   ],
   "source": [
    "model.similar_users(userid_to_id[10], N=6)"
   ]
  },
  {
   "cell_type": "code",
   "execution_count": 82,
   "metadata": {
    "colab": {
     "base_uri": "https://localhost:8080/",
     "height": 84,
     "referenced_widgets": [
      "b7bf2ee657174178b7e5c11a4845c28b",
      "0b7e2082fb024d90b343e78772f28f90",
      "2f23530d60504a3b8a71a4e4f4b90769",
      "d26b468eab874bbaa3d210812c7d3942",
      "9d568759da3142a79e8250aae3b70a26",
      "ea7d69bdcd124a988386db2a11afab56",
      "c482f4ca7c9645fc82da911efc82fa68",
      "3eaa07b99c44493db2b81e1771c974db",
      "d487cc8bd5804b41b970259d5d5ddd60",
      "079a7ee884034efbb9669d2c9f3a17fd",
      "43b80753cf704201b112b711cd5e6105"
     ]
    },
    "id": "DVUp6M7M5B9M",
    "outputId": "7a422994-9044-47e0-e532-e14cda3ef470"
   },
   "outputs": [
    {
     "data": {
      "application/vnd.jupyter.widget-view+json": {
       "model_id": "c7e0ea145ef248e7a915ff4c35e5ccd5",
       "version_major": 2,
       "version_minor": 0
      },
      "text/plain": [
       "  0%|          | 0/5001 [00:00<?, ?it/s]"
      ]
     },
     "metadata": {},
     "output_type": "display_data"
    },
    {
     "name": "stdout",
     "output_type": "stream",
     "text": [
      "CPU times: user 831 ms, sys: 28 ms, total: 859 ms\n",
      "Wall time: 987 ms\n"
     ]
    }
   ],
   "source": [
    "%%time\n",
    "\n",
    "own = ItemItemRecommender(K=1, num_threads=4) # K - кол-во билжайших соседей\n",
    "\n",
    "own.fit(csr_matrix(user_item_matrix).T.tocsr(), \n",
    "          show_progress=True)\n",
    "\n",
    "recs = model.recommend(userid=userid_to_id[10],\n",
    "                        user_items=csr_matrix(user_item_matrix).tocsr(),   # на вход user-item matrix\n",
    "                        N=5,\n",
    "                        filter_already_liked_items=False, \n",
    "                        filter_items=None, \n",
    "                        recalculate_user=False)"
   ]
  },
  {
   "cell_type": "code",
   "execution_count": 84,
   "metadata": {
    "colab": {
     "base_uri": "https://localhost:8080/"
    },
    "id": "bqxDbZtB5B9M",
    "outputId": "4fb4e72b-a402-41c2-9777-cb51f72db5fe"
   },
   "outputs": [],
   "source": [
    "user_10_own = get_recommendations(user=10, model=own, N=37)"
   ]
  },
  {
   "cell_type": "code",
   "execution_count": 79,
   "metadata": {
    "pycharm": {
     "name": "#%%\n"
    }
   },
   "outputs": [
    {
     "data": {
      "text/html": [
       "<div>\n",
       "<style scoped>\n",
       "    .dataframe tbody tr th:only-of-type {\n",
       "        vertical-align: middle;\n",
       "    }\n",
       "\n",
       "    .dataframe tbody tr th {\n",
       "        vertical-align: top;\n",
       "    }\n",
       "\n",
       "    .dataframe thead th {\n",
       "        text-align: right;\n",
       "    }\n",
       "</style>\n",
       "<table border=\"1\" class=\"dataframe\">\n",
       "  <thead>\n",
       "    <tr style=\"text-align: right;\">\n",
       "      <th></th>\n",
       "      <th>user_id</th>\n",
       "      <th>basket_id</th>\n",
       "      <th>day</th>\n",
       "      <th>item_id</th>\n",
       "      <th>quantity</th>\n",
       "      <th>sales_value</th>\n",
       "      <th>store_id</th>\n",
       "      <th>retail_disc</th>\n",
       "      <th>trans_time</th>\n",
       "      <th>week_no</th>\n",
       "      <th>coupon_disc</th>\n",
       "      <th>coupon_match_disc</th>\n",
       "    </tr>\n",
       "  </thead>\n",
       "  <tbody>\n",
       "    <tr>\n",
       "      <th>212418</th>\n",
       "      <td>10</td>\n",
       "      <td>28345111253</td>\n",
       "      <td>114</td>\n",
       "      <td>999999</td>\n",
       "      <td>1</td>\n",
       "      <td>3.99</td>\n",
       "      <td>292</td>\n",
       "      <td>-3.00</td>\n",
       "      <td>1533</td>\n",
       "      <td>17</td>\n",
       "      <td>0.0</td>\n",
       "      <td>0.0</td>\n",
       "    </tr>\n",
       "    <tr>\n",
       "      <th>212419</th>\n",
       "      <td>10</td>\n",
       "      <td>28345111253</td>\n",
       "      <td>114</td>\n",
       "      <td>999999</td>\n",
       "      <td>1</td>\n",
       "      <td>2.99</td>\n",
       "      <td>292</td>\n",
       "      <td>-0.30</td>\n",
       "      <td>1533</td>\n",
       "      <td>17</td>\n",
       "      <td>0.0</td>\n",
       "      <td>0.0</td>\n",
       "    </tr>\n",
       "    <tr>\n",
       "      <th>212420</th>\n",
       "      <td>10</td>\n",
       "      <td>28345111253</td>\n",
       "      <td>114</td>\n",
       "      <td>999999</td>\n",
       "      <td>1</td>\n",
       "      <td>13.99</td>\n",
       "      <td>292</td>\n",
       "      <td>0.00</td>\n",
       "      <td>1533</td>\n",
       "      <td>17</td>\n",
       "      <td>0.0</td>\n",
       "      <td>0.0</td>\n",
       "    </tr>\n",
       "    <tr>\n",
       "      <th>212421</th>\n",
       "      <td>10</td>\n",
       "      <td>28345111253</td>\n",
       "      <td>114</td>\n",
       "      <td>999999</td>\n",
       "      <td>1</td>\n",
       "      <td>12.99</td>\n",
       "      <td>292</td>\n",
       "      <td>0.00</td>\n",
       "      <td>1533</td>\n",
       "      <td>17</td>\n",
       "      <td>0.0</td>\n",
       "      <td>0.0</td>\n",
       "    </tr>\n",
       "    <tr>\n",
       "      <th>212422</th>\n",
       "      <td>10</td>\n",
       "      <td>28345111809</td>\n",
       "      <td>114</td>\n",
       "      <td>999999</td>\n",
       "      <td>1</td>\n",
       "      <td>1.69</td>\n",
       "      <td>292</td>\n",
       "      <td>0.00</td>\n",
       "      <td>1735</td>\n",
       "      <td>17</td>\n",
       "      <td>0.0</td>\n",
       "      <td>0.0</td>\n",
       "    </tr>\n",
       "    <tr>\n",
       "      <th>212423</th>\n",
       "      <td>10</td>\n",
       "      <td>28345111809</td>\n",
       "      <td>114</td>\n",
       "      <td>999999</td>\n",
       "      <td>1</td>\n",
       "      <td>7.99</td>\n",
       "      <td>292</td>\n",
       "      <td>0.00</td>\n",
       "      <td>1735</td>\n",
       "      <td>17</td>\n",
       "      <td>0.0</td>\n",
       "      <td>0.0</td>\n",
       "    </tr>\n",
       "    <tr>\n",
       "      <th>311184</th>\n",
       "      <td>10</td>\n",
       "      <td>28787870974</td>\n",
       "      <td>140</td>\n",
       "      <td>999999</td>\n",
       "      <td>1</td>\n",
       "      <td>2.50</td>\n",
       "      <td>441</td>\n",
       "      <td>-0.49</td>\n",
       "      <td>1434</td>\n",
       "      <td>21</td>\n",
       "      <td>0.0</td>\n",
       "      <td>0.0</td>\n",
       "    </tr>\n",
       "    <tr>\n",
       "      <th>311188</th>\n",
       "      <td>10</td>\n",
       "      <td>28787870974</td>\n",
       "      <td>140</td>\n",
       "      <td>999999</td>\n",
       "      <td>1</td>\n",
       "      <td>1.01</td>\n",
       "      <td>441</td>\n",
       "      <td>0.00</td>\n",
       "      <td>1434</td>\n",
       "      <td>21</td>\n",
       "      <td>0.0</td>\n",
       "      <td>0.0</td>\n",
       "    </tr>\n",
       "    <tr>\n",
       "      <th>311205</th>\n",
       "      <td>10</td>\n",
       "      <td>28787870974</td>\n",
       "      <td>140</td>\n",
       "      <td>999999</td>\n",
       "      <td>1</td>\n",
       "      <td>1.49</td>\n",
       "      <td>441</td>\n",
       "      <td>0.00</td>\n",
       "      <td>1434</td>\n",
       "      <td>21</td>\n",
       "      <td>0.0</td>\n",
       "      <td>0.0</td>\n",
       "    </tr>\n",
       "    <tr>\n",
       "      <th>311207</th>\n",
       "      <td>10</td>\n",
       "      <td>28787870979</td>\n",
       "      <td>140</td>\n",
       "      <td>999999</td>\n",
       "      <td>1</td>\n",
       "      <td>5.99</td>\n",
       "      <td>441</td>\n",
       "      <td>0.00</td>\n",
       "      <td>1436</td>\n",
       "      <td>21</td>\n",
       "      <td>0.0</td>\n",
       "      <td>0.0</td>\n",
       "    </tr>\n",
       "    <tr>\n",
       "      <th>311210</th>\n",
       "      <td>10</td>\n",
       "      <td>28787870979</td>\n",
       "      <td>140</td>\n",
       "      <td>999999</td>\n",
       "      <td>1</td>\n",
       "      <td>2.00</td>\n",
       "      <td>441</td>\n",
       "      <td>-0.79</td>\n",
       "      <td>1436</td>\n",
       "      <td>21</td>\n",
       "      <td>0.0</td>\n",
       "      <td>0.0</td>\n",
       "    </tr>\n",
       "    <tr>\n",
       "      <th>311211</th>\n",
       "      <td>10</td>\n",
       "      <td>28787870979</td>\n",
       "      <td>140</td>\n",
       "      <td>999999</td>\n",
       "      <td>1</td>\n",
       "      <td>2.80</td>\n",
       "      <td>441</td>\n",
       "      <td>0.00</td>\n",
       "      <td>1436</td>\n",
       "      <td>21</td>\n",
       "      <td>0.0</td>\n",
       "      <td>0.0</td>\n",
       "    </tr>\n",
       "    <tr>\n",
       "      <th>1722374</th>\n",
       "      <td>10</td>\n",
       "      <td>34576228139</td>\n",
       "      <td>497</td>\n",
       "      <td>999999</td>\n",
       "      <td>1</td>\n",
       "      <td>3.99</td>\n",
       "      <td>441</td>\n",
       "      <td>0.00</td>\n",
       "      <td>2215</td>\n",
       "      <td>72</td>\n",
       "      <td>0.0</td>\n",
       "      <td>0.0</td>\n",
       "    </tr>\n",
       "    <tr>\n",
       "      <th>1722375</th>\n",
       "      <td>10</td>\n",
       "      <td>34576228139</td>\n",
       "      <td>497</td>\n",
       "      <td>999999</td>\n",
       "      <td>1</td>\n",
       "      <td>0.99</td>\n",
       "      <td>441</td>\n",
       "      <td>0.00</td>\n",
       "      <td>2215</td>\n",
       "      <td>72</td>\n",
       "      <td>0.0</td>\n",
       "      <td>0.0</td>\n",
       "    </tr>\n",
       "    <tr>\n",
       "      <th>2414502</th>\n",
       "      <td>10</td>\n",
       "      <td>41730331362</td>\n",
       "      <td>669</td>\n",
       "      <td>999999</td>\n",
       "      <td>2</td>\n",
       "      <td>11.98</td>\n",
       "      <td>297</td>\n",
       "      <td>0.00</td>\n",
       "      <td>1738</td>\n",
       "      <td>96</td>\n",
       "      <td>0.0</td>\n",
       "      <td>0.0</td>\n",
       "    </tr>\n",
       "    <tr>\n",
       "      <th>2414504</th>\n",
       "      <td>10</td>\n",
       "      <td>41730331362</td>\n",
       "      <td>669</td>\n",
       "      <td>999999</td>\n",
       "      <td>2</td>\n",
       "      <td>7.08</td>\n",
       "      <td>297</td>\n",
       "      <td>0.00</td>\n",
       "      <td>1738</td>\n",
       "      <td>96</td>\n",
       "      <td>0.0</td>\n",
       "      <td>0.0</td>\n",
       "    </tr>\n",
       "    <tr>\n",
       "      <th>2414506</th>\n",
       "      <td>10</td>\n",
       "      <td>41730331362</td>\n",
       "      <td>669</td>\n",
       "      <td>999999</td>\n",
       "      <td>2</td>\n",
       "      <td>1.98</td>\n",
       "      <td>297</td>\n",
       "      <td>-0.60</td>\n",
       "      <td>1738</td>\n",
       "      <td>96</td>\n",
       "      <td>0.0</td>\n",
       "      <td>0.0</td>\n",
       "    </tr>\n",
       "  </tbody>\n",
       "</table>\n",
       "</div>"
      ],
      "text/plain": [
       "         user_id    basket_id  day  item_id  quantity  sales_value  store_id  \\\n",
       "212418        10  28345111253  114   999999         1         3.99       292   \n",
       "212419        10  28345111253  114   999999         1         2.99       292   \n",
       "212420        10  28345111253  114   999999         1        13.99       292   \n",
       "212421        10  28345111253  114   999999         1        12.99       292   \n",
       "212422        10  28345111809  114   999999         1         1.69       292   \n",
       "212423        10  28345111809  114   999999         1         7.99       292   \n",
       "311184        10  28787870974  140   999999         1         2.50       441   \n",
       "311188        10  28787870974  140   999999         1         1.01       441   \n",
       "311205        10  28787870974  140   999999         1         1.49       441   \n",
       "311207        10  28787870979  140   999999         1         5.99       441   \n",
       "311210        10  28787870979  140   999999         1         2.00       441   \n",
       "311211        10  28787870979  140   999999         1         2.80       441   \n",
       "1722374       10  34576228139  497   999999         1         3.99       441   \n",
       "1722375       10  34576228139  497   999999         1         0.99       441   \n",
       "2414502       10  41730331362  669   999999         2        11.98       297   \n",
       "2414504       10  41730331362  669   999999         2         7.08       297   \n",
       "2414506       10  41730331362  669   999999         2         1.98       297   \n",
       "\n",
       "         retail_disc  trans_time  week_no  coupon_disc  coupon_match_disc  \n",
       "212418         -3.00        1533       17          0.0                0.0  \n",
       "212419         -0.30        1533       17          0.0                0.0  \n",
       "212420          0.00        1533       17          0.0                0.0  \n",
       "212421          0.00        1533       17          0.0                0.0  \n",
       "212422          0.00        1735       17          0.0                0.0  \n",
       "212423          0.00        1735       17          0.0                0.0  \n",
       "311184         -0.49        1434       21          0.0                0.0  \n",
       "311188          0.00        1434       21          0.0                0.0  \n",
       "311205          0.00        1434       21          0.0                0.0  \n",
       "311207          0.00        1436       21          0.0                0.0  \n",
       "311210         -0.79        1436       21          0.0                0.0  \n",
       "311211          0.00        1436       21          0.0                0.0  \n",
       "1722374         0.00        2215       72          0.0                0.0  \n",
       "1722375         0.00        2215       72          0.0                0.0  \n",
       "2414502         0.00        1738       96          0.0                0.0  \n",
       "2414504         0.00        1738       96          0.0                0.0  \n",
       "2414506        -0.60        1738       96          0.0                0.0  "
      ]
     },
     "execution_count": 79,
     "metadata": {},
     "output_type": "execute_result"
    }
   ],
   "source": [
    "data_train[(data_train['user_id']==10) & (data_train['item_id'].isin(user_10_own)==False)]"
   ]
  },
  {
   "cell_type": "code",
   "execution_count": null,
   "metadata": {
    "id": "w7IsM2ij5B9M"
   },
   "outputs": [],
   "source": [
    "\"\"\"\n",
    "get_similar_users_recommendation()\n",
    "1) обучите ALS\n",
    "2) обучите own_recommender\n",
    "3) для каждого пол-ля проставьте рекомендации из own_recommender\n",
    "4) для каждого пол-ля вызовите als_model.similar_user (выбрав второго из похожих)\n",
    "5) и рекомендуем покупки этого пользователя (похожего на исходного)\n",
    "\"\"\""
   ]
  },
  {
   "cell_type": "markdown",
   "metadata": {
    "id": "B0lVyXv85B9M"
   },
   "source": [
    "-----"
   ]
  },
  {
   "cell_type": "markdown",
   "metadata": {
    "id": "VTyHDj5A5B9M"
   },
   "source": [
    "# Production"
   ]
  },
  {
   "cell_type": "code",
   "execution_count": null,
   "metadata": {
    "id": "LLS9e6Rj5B9N"
   },
   "outputs": [],
   "source": [
    "def prefilter_items(data):\n",
    "    # Уберем самые популярные товары (их и так купят) - В КУРСОВОМ ПОЛЬЗОВАТЬ ТОЛЬКО ЕСЛИ РАСТЕТ СКОР\n",
    "    popularity = data_train.groupby('item_id')['user_id'].nunique().reset_index() / data_train['user_id'].nunique()\n",
    "    popularity.rename(columns={'user_id': 'share_unique_users'}, inplace=True)\n",
    "    \n",
    "    top_popular = popularity[popularity['share_unique_users'] > 0.5].item_id.tolist()\n",
    "    data = data[~data['item_id'].isin(top_popular)]\n",
    "    \n",
    "    # Уберем самые НЕ популярные товары (их и так НЕ купят)\n",
    "    top_notpopular = popularity[popularity['share_unique_users'] < 0.01].item_id.tolist()\n",
    "    data = data[~data['item_id'].isin(top_notpopular)]\n",
    "    \n",
    "    # Уберем товары, которые не продавались за последние 12 месяцев\n",
    "    \n",
    "    # Уберем не интересные для рекоммендаций категории (department)\n",
    "    \n",
    "    # Уберем слишком дешевые товары (на них не заработаем). 1 покупка из рассылок стоит 60 руб. \n",
    "    \n",
    "    # Уберем слишком дорогие товарыs\n",
    "    \n",
    "    # ...\n",
    "    \n",
    "def postfilter_items(user_id, recommednations):\n",
    "    pass"
   ]
  },
  {
   "cell_type": "code",
   "execution_count": null,
   "metadata": {
    "id": "Qt8fTKR05B9N"
   },
   "outputs": [],
   "source": [
    "def get_recommendations(user, model, sparse_user_item, N=5):\n",
    "    \"\"\"Рекомендуем топ-N товаров\"\"\"\n",
    "    \n",
    "    res = [id_to_itemid[rec[0]] for rec in \n",
    "                    model.recommend(userid=userid_to_id[user], \n",
    "                                    user_items=sparse_user_item,   # на вход user-item matrix\n",
    "                                    N=N, \n",
    "                                    filter_already_liked_items=False, \n",
    "                                    filter_items=[itemid_to_id[999999]],  # !!! \n",
    "                                    recalculate_user=True)]\n",
    "    return res"
   ]
  },
  {
   "cell_type": "code",
   "execution_count": null,
   "metadata": {
    "id": "Yhwgu3kT5B9N"
   },
   "outputs": [],
   "source": [
    "def get_similar_items_recommendation(user, model, N=5):\n",
    "    \"\"\"Рекомендуем товары, похожие на топ-N купленных юзером товаров\"\"\"\n",
    "    \n",
    "    # your_code\n",
    "    \n",
    "    return res"
   ]
  },
  {
   "cell_type": "code",
   "execution_count": null,
   "metadata": {
    "id": "VsMx9z3v5B9N"
   },
   "outputs": [],
   "source": [
    "def get_similar_users_recommendation(user, model, N=5):\n",
    "    \"\"\"Рекомендуем топ-N товаров, среди купленных похожими юзерами\"\"\"\n",
    "    \n",
    "    # your_code\n",
    "    \n",
    "    return res"
   ]
  },
  {
   "cell_type": "markdown",
   "metadata": {
    "id": "glUovQKd5B9N"
   },
   "source": [
    "Все эти функции отправим затем в *src.**"
   ]
  },
  {
   "cell_type": "markdown",
   "metadata": {
    "id": "Nbno8Pk35B9O"
   },
   "source": [
    "----"
   ]
  }
 ],
 "metadata": {
  "colab": {
   "collapsed_sections": [],
   "name": "webinar_4_new.ipynb",
   "provenance": [],
   "toc_visible": true
  },
  "kernelspec": {
   "display_name": "Python 3",
   "language": "python",
   "name": "python3"
  },
  "language_info": {
   "codemirror_mode": {
    "name": "ipython",
    "version": 3
   },
   "file_extension": ".py",
   "mimetype": "text/x-python",
   "name": "python",
   "nbconvert_exporter": "python",
   "pygments_lexer": "ipython3",
   "version": "3.8.5"
  },
  "widgets": {
   "application/vnd.jupyter.widget-state+json": {
    "02b49ba64dc146708b570e0160b1ead7": {
     "model_module": "@jupyter-widgets/controls",
     "model_module_version": "1.5.0",
     "model_name": "ProgressStyleModel",
     "state": {
      "_model_module": "@jupyter-widgets/controls",
      "_model_module_version": "1.5.0",
      "_model_name": "ProgressStyleModel",
      "_view_count": null,
      "_view_module": "@jupyter-widgets/base",
      "_view_module_version": "1.2.0",
      "_view_name": "StyleView",
      "bar_color": null,
      "description_width": ""
     }
    },
    "0653a4b85b0f4d8991486ac1b61f801b": {
     "model_module": "@jupyter-widgets/base",
     "model_module_version": "1.2.0",
     "model_name": "LayoutModel",
     "state": {
      "_model_module": "@jupyter-widgets/base",
      "_model_module_version": "1.2.0",
      "_model_name": "LayoutModel",
      "_view_count": null,
      "_view_module": "@jupyter-widgets/base",
      "_view_module_version": "1.2.0",
      "_view_name": "LayoutView",
      "align_content": null,
      "align_items": null,
      "align_self": null,
      "border": null,
      "bottom": null,
      "display": null,
      "flex": null,
      "flex_flow": null,
      "grid_area": null,
      "grid_auto_columns": null,
      "grid_auto_flow": null,
      "grid_auto_rows": null,
      "grid_column": null,
      "grid_gap": null,
      "grid_row": null,
      "grid_template_areas": null,
      "grid_template_columns": null,
      "grid_template_rows": null,
      "height": null,
      "justify_content": null,
      "justify_items": null,
      "left": null,
      "margin": null,
      "max_height": null,
      "max_width": null,
      "min_height": null,
      "min_width": null,
      "object_fit": null,
      "object_position": null,
      "order": null,
      "overflow": null,
      "overflow_x": null,
      "overflow_y": null,
      "padding": null,
      "right": null,
      "top": null,
      "visibility": null,
      "width": null
     }
    },
    "079a7ee884034efbb9669d2c9f3a17fd": {
     "model_module": "@jupyter-widgets/controls",
     "model_module_version": "1.5.0",
     "model_name": "DescriptionStyleModel",
     "state": {
      "_model_module": "@jupyter-widgets/controls",
      "_model_module_version": "1.5.0",
      "_model_name": "DescriptionStyleModel",
      "_view_count": null,
      "_view_module": "@jupyter-widgets/base",
      "_view_module_version": "1.2.0",
      "_view_name": "StyleView",
      "description_width": ""
     }
    },
    "0b7e2082fb024d90b343e78772f28f90": {
     "model_module": "@jupyter-widgets/base",
     "model_module_version": "1.2.0",
     "model_name": "LayoutModel",
     "state": {
      "_model_module": "@jupyter-widgets/base",
      "_model_module_version": "1.2.0",
      "_model_name": "LayoutModel",
      "_view_count": null,
      "_view_module": "@jupyter-widgets/base",
      "_view_module_version": "1.2.0",
      "_view_name": "LayoutView",
      "align_content": null,
      "align_items": null,
      "align_self": null,
      "border": null,
      "bottom": null,
      "display": null,
      "flex": null,
      "flex_flow": null,
      "grid_area": null,
      "grid_auto_columns": null,
      "grid_auto_flow": null,
      "grid_auto_rows": null,
      "grid_column": null,
      "grid_gap": null,
      "grid_row": null,
      "grid_template_areas": null,
      "grid_template_columns": null,
      "grid_template_rows": null,
      "height": null,
      "justify_content": null,
      "justify_items": null,
      "left": null,
      "margin": null,
      "max_height": null,
      "max_width": null,
      "min_height": null,
      "min_width": null,
      "object_fit": null,
      "object_position": null,
      "order": null,
      "overflow": null,
      "overflow_x": null,
      "overflow_y": null,
      "padding": null,
      "right": null,
      "top": null,
      "visibility": null,
      "width": null
     }
    },
    "2f23530d60504a3b8a71a4e4f4b90769": {
     "model_module": "@jupyter-widgets/controls",
     "model_module_version": "1.5.0",
     "model_name": "HTMLModel",
     "state": {
      "_dom_classes": [],
      "_model_module": "@jupyter-widgets/controls",
      "_model_module_version": "1.5.0",
      "_model_name": "HTMLModel",
      "_view_count": null,
      "_view_module": "@jupyter-widgets/controls",
      "_view_module_version": "1.5.0",
      "_view_name": "HTMLView",
      "description": "",
      "description_tooltip": null,
      "layout": "IPY_MODEL_c482f4ca7c9645fc82da911efc82fa68",
      "placeholder": "​",
      "style": "IPY_MODEL_ea7d69bdcd124a988386db2a11afab56",
      "value": "100%"
     }
    },
    "3eaa07b99c44493db2b81e1771c974db": {
     "model_module": "@jupyter-widgets/controls",
     "model_module_version": "1.5.0",
     "model_name": "ProgressStyleModel",
     "state": {
      "_model_module": "@jupyter-widgets/controls",
      "_model_module_version": "1.5.0",
      "_model_name": "ProgressStyleModel",
      "_view_count": null,
      "_view_module": "@jupyter-widgets/base",
      "_view_module_version": "1.2.0",
      "_view_name": "StyleView",
      "bar_color": null,
      "description_width": ""
     }
    },
    "43b80753cf704201b112b711cd5e6105": {
     "model_module": "@jupyter-widgets/base",
     "model_module_version": "1.2.0",
     "model_name": "LayoutModel",
     "state": {
      "_model_module": "@jupyter-widgets/base",
      "_model_module_version": "1.2.0",
      "_model_name": "LayoutModel",
      "_view_count": null,
      "_view_module": "@jupyter-widgets/base",
      "_view_module_version": "1.2.0",
      "_view_name": "LayoutView",
      "align_content": null,
      "align_items": null,
      "align_self": null,
      "border": null,
      "bottom": null,
      "display": null,
      "flex": null,
      "flex_flow": null,
      "grid_area": null,
      "grid_auto_columns": null,
      "grid_auto_flow": null,
      "grid_auto_rows": null,
      "grid_column": null,
      "grid_gap": null,
      "grid_row": null,
      "grid_template_areas": null,
      "grid_template_columns": null,
      "grid_template_rows": null,
      "height": null,
      "justify_content": null,
      "justify_items": null,
      "left": null,
      "margin": null,
      "max_height": null,
      "max_width": null,
      "min_height": null,
      "min_width": null,
      "object_fit": null,
      "object_position": null,
      "order": null,
      "overflow": null,
      "overflow_x": null,
      "overflow_y": null,
      "padding": null,
      "right": null,
      "top": null,
      "visibility": null,
      "width": null
     }
    },
    "4ee68fd8a791446881d3819e31b122c4": {
     "model_module": "@jupyter-widgets/controls",
     "model_module_version": "1.5.0",
     "model_name": "DescriptionStyleModel",
     "state": {
      "_model_module": "@jupyter-widgets/controls",
      "_model_module_version": "1.5.0",
      "_model_name": "DescriptionStyleModel",
      "_view_count": null,
      "_view_module": "@jupyter-widgets/base",
      "_view_module_version": "1.2.0",
      "_view_name": "StyleView",
      "description_width": ""
     }
    },
    "50032f59877f479582ff5e88398c2a0d": {
     "model_module": "@jupyter-widgets/base",
     "model_module_version": "1.2.0",
     "model_name": "LayoutModel",
     "state": {
      "_model_module": "@jupyter-widgets/base",
      "_model_module_version": "1.2.0",
      "_model_name": "LayoutModel",
      "_view_count": null,
      "_view_module": "@jupyter-widgets/base",
      "_view_module_version": "1.2.0",
      "_view_name": "LayoutView",
      "align_content": null,
      "align_items": null,
      "align_self": null,
      "border": null,
      "bottom": null,
      "display": null,
      "flex": null,
      "flex_flow": null,
      "grid_area": null,
      "grid_auto_columns": null,
      "grid_auto_flow": null,
      "grid_auto_rows": null,
      "grid_column": null,
      "grid_gap": null,
      "grid_row": null,
      "grid_template_areas": null,
      "grid_template_columns": null,
      "grid_template_rows": null,
      "height": null,
      "justify_content": null,
      "justify_items": null,
      "left": null,
      "margin": null,
      "max_height": null,
      "max_width": null,
      "min_height": null,
      "min_width": null,
      "object_fit": null,
      "object_position": null,
      "order": null,
      "overflow": null,
      "overflow_x": null,
      "overflow_y": null,
      "padding": null,
      "right": null,
      "top": null,
      "visibility": null,
      "width": null
     }
    },
    "75288db6b387449f9c35e31637b679f5": {
     "model_module": "@jupyter-widgets/controls",
     "model_module_version": "1.5.0",
     "model_name": "HTMLModel",
     "state": {
      "_dom_classes": [],
      "_model_module": "@jupyter-widgets/controls",
      "_model_module_version": "1.5.0",
      "_model_name": "HTMLModel",
      "_view_count": null,
      "_view_module": "@jupyter-widgets/controls",
      "_view_module_version": "1.5.0",
      "_view_name": "HTMLView",
      "description": "",
      "description_tooltip": null,
      "layout": "IPY_MODEL_d7b920af6c7946e7a5334b4f5c27e14c",
      "placeholder": "​",
      "style": "IPY_MODEL_4ee68fd8a791446881d3819e31b122c4",
      "value": "100%"
     }
    },
    "86ed2a794c9d495d87d0483cbce0b6be": {
     "model_module": "@jupyter-widgets/controls",
     "model_module_version": "1.5.0",
     "model_name": "DescriptionStyleModel",
     "state": {
      "_model_module": "@jupyter-widgets/controls",
      "_model_module_version": "1.5.0",
      "_model_name": "DescriptionStyleModel",
      "_view_count": null,
      "_view_module": "@jupyter-widgets/base",
      "_view_module_version": "1.2.0",
      "_view_name": "StyleView",
      "description_width": ""
     }
    },
    "881de54333ea45608d1cb370bd0f5f4a": {
     "model_module": "@jupyter-widgets/controls",
     "model_module_version": "1.5.0",
     "model_name": "HBoxModel",
     "state": {
      "_dom_classes": [],
      "_model_module": "@jupyter-widgets/controls",
      "_model_module_version": "1.5.0",
      "_model_name": "HBoxModel",
      "_view_count": null,
      "_view_module": "@jupyter-widgets/controls",
      "_view_module_version": "1.5.0",
      "_view_name": "HBoxView",
      "box_style": "",
      "children": [
       "IPY_MODEL_75288db6b387449f9c35e31637b679f5",
       "IPY_MODEL_913215d5d098468589a462749a37a6c0",
       "IPY_MODEL_fe1d949f40bd40da9ee437128a207a84"
      ],
      "layout": "IPY_MODEL_50032f59877f479582ff5e88398c2a0d"
     }
    },
    "913215d5d098468589a462749a37a6c0": {
     "model_module": "@jupyter-widgets/controls",
     "model_module_version": "1.5.0",
     "model_name": "FloatProgressModel",
     "state": {
      "_dom_classes": [],
      "_model_module": "@jupyter-widgets/controls",
      "_model_module_version": "1.5.0",
      "_model_name": "FloatProgressModel",
      "_view_count": null,
      "_view_module": "@jupyter-widgets/controls",
      "_view_module_version": "1.5.0",
      "_view_name": "ProgressView",
      "bar_style": "success",
      "description": "",
      "description_tooltip": null,
      "layout": "IPY_MODEL_ab94c4b01a5941a481b0339e684082b2",
      "max": 15,
      "min": 0,
      "orientation": "horizontal",
      "style": "IPY_MODEL_02b49ba64dc146708b570e0160b1ead7",
      "value": 15
     }
    },
    "9d568759da3142a79e8250aae3b70a26": {
     "model_module": "@jupyter-widgets/controls",
     "model_module_version": "1.5.0",
     "model_name": "HTMLModel",
     "state": {
      "_dom_classes": [],
      "_model_module": "@jupyter-widgets/controls",
      "_model_module_version": "1.5.0",
      "_model_name": "HTMLModel",
      "_view_count": null,
      "_view_module": "@jupyter-widgets/controls",
      "_view_module_version": "1.5.0",
      "_view_name": "HTMLView",
      "description": "",
      "description_tooltip": null,
      "layout": "IPY_MODEL_43b80753cf704201b112b711cd5e6105",
      "placeholder": "​",
      "style": "IPY_MODEL_079a7ee884034efbb9669d2c9f3a17fd",
      "value": " 5001/5001 [00:01&lt;00:00, 3158.50it/s]"
     }
    },
    "ab94c4b01a5941a481b0339e684082b2": {
     "model_module": "@jupyter-widgets/base",
     "model_module_version": "1.2.0",
     "model_name": "LayoutModel",
     "state": {
      "_model_module": "@jupyter-widgets/base",
      "_model_module_version": "1.2.0",
      "_model_name": "LayoutModel",
      "_view_count": null,
      "_view_module": "@jupyter-widgets/base",
      "_view_module_version": "1.2.0",
      "_view_name": "LayoutView",
      "align_content": null,
      "align_items": null,
      "align_self": null,
      "border": null,
      "bottom": null,
      "display": null,
      "flex": null,
      "flex_flow": null,
      "grid_area": null,
      "grid_auto_columns": null,
      "grid_auto_flow": null,
      "grid_auto_rows": null,
      "grid_column": null,
      "grid_gap": null,
      "grid_row": null,
      "grid_template_areas": null,
      "grid_template_columns": null,
      "grid_template_rows": null,
      "height": null,
      "justify_content": null,
      "justify_items": null,
      "left": null,
      "margin": null,
      "max_height": null,
      "max_width": null,
      "min_height": null,
      "min_width": null,
      "object_fit": null,
      "object_position": null,
      "order": null,
      "overflow": null,
      "overflow_x": null,
      "overflow_y": null,
      "padding": null,
      "right": null,
      "top": null,
      "visibility": null,
      "width": null
     }
    },
    "b7bf2ee657174178b7e5c11a4845c28b": {
     "model_module": "@jupyter-widgets/controls",
     "model_module_version": "1.5.0",
     "model_name": "HBoxModel",
     "state": {
      "_dom_classes": [],
      "_model_module": "@jupyter-widgets/controls",
      "_model_module_version": "1.5.0",
      "_model_name": "HBoxModel",
      "_view_count": null,
      "_view_module": "@jupyter-widgets/controls",
      "_view_module_version": "1.5.0",
      "_view_name": "HBoxView",
      "box_style": "",
      "children": [
       "IPY_MODEL_2f23530d60504a3b8a71a4e4f4b90769",
       "IPY_MODEL_d26b468eab874bbaa3d210812c7d3942",
       "IPY_MODEL_9d568759da3142a79e8250aae3b70a26"
      ],
      "layout": "IPY_MODEL_0b7e2082fb024d90b343e78772f28f90"
     }
    },
    "c482f4ca7c9645fc82da911efc82fa68": {
     "model_module": "@jupyter-widgets/base",
     "model_module_version": "1.2.0",
     "model_name": "LayoutModel",
     "state": {
      "_model_module": "@jupyter-widgets/base",
      "_model_module_version": "1.2.0",
      "_model_name": "LayoutModel",
      "_view_count": null,
      "_view_module": "@jupyter-widgets/base",
      "_view_module_version": "1.2.0",
      "_view_name": "LayoutView",
      "align_content": null,
      "align_items": null,
      "align_self": null,
      "border": null,
      "bottom": null,
      "display": null,
      "flex": null,
      "flex_flow": null,
      "grid_area": null,
      "grid_auto_columns": null,
      "grid_auto_flow": null,
      "grid_auto_rows": null,
      "grid_column": null,
      "grid_gap": null,
      "grid_row": null,
      "grid_template_areas": null,
      "grid_template_columns": null,
      "grid_template_rows": null,
      "height": null,
      "justify_content": null,
      "justify_items": null,
      "left": null,
      "margin": null,
      "max_height": null,
      "max_width": null,
      "min_height": null,
      "min_width": null,
      "object_fit": null,
      "object_position": null,
      "order": null,
      "overflow": null,
      "overflow_x": null,
      "overflow_y": null,
      "padding": null,
      "right": null,
      "top": null,
      "visibility": null,
      "width": null
     }
    },
    "d26b468eab874bbaa3d210812c7d3942": {
     "model_module": "@jupyter-widgets/controls",
     "model_module_version": "1.5.0",
     "model_name": "FloatProgressModel",
     "state": {
      "_dom_classes": [],
      "_model_module": "@jupyter-widgets/controls",
      "_model_module_version": "1.5.0",
      "_model_name": "FloatProgressModel",
      "_view_count": null,
      "_view_module": "@jupyter-widgets/controls",
      "_view_module_version": "1.5.0",
      "_view_name": "ProgressView",
      "bar_style": "success",
      "description": "",
      "description_tooltip": null,
      "layout": "IPY_MODEL_d487cc8bd5804b41b970259d5d5ddd60",
      "max": 5001,
      "min": 0,
      "orientation": "horizontal",
      "style": "IPY_MODEL_3eaa07b99c44493db2b81e1771c974db",
      "value": 5001
     }
    },
    "d487cc8bd5804b41b970259d5d5ddd60": {
     "model_module": "@jupyter-widgets/base",
     "model_module_version": "1.2.0",
     "model_name": "LayoutModel",
     "state": {
      "_model_module": "@jupyter-widgets/base",
      "_model_module_version": "1.2.0",
      "_model_name": "LayoutModel",
      "_view_count": null,
      "_view_module": "@jupyter-widgets/base",
      "_view_module_version": "1.2.0",
      "_view_name": "LayoutView",
      "align_content": null,
      "align_items": null,
      "align_self": null,
      "border": null,
      "bottom": null,
      "display": null,
      "flex": null,
      "flex_flow": null,
      "grid_area": null,
      "grid_auto_columns": null,
      "grid_auto_flow": null,
      "grid_auto_rows": null,
      "grid_column": null,
      "grid_gap": null,
      "grid_row": null,
      "grid_template_areas": null,
      "grid_template_columns": null,
      "grid_template_rows": null,
      "height": null,
      "justify_content": null,
      "justify_items": null,
      "left": null,
      "margin": null,
      "max_height": null,
      "max_width": null,
      "min_height": null,
      "min_width": null,
      "object_fit": null,
      "object_position": null,
      "order": null,
      "overflow": null,
      "overflow_x": null,
      "overflow_y": null,
      "padding": null,
      "right": null,
      "top": null,
      "visibility": null,
      "width": null
     }
    },
    "d7b920af6c7946e7a5334b4f5c27e14c": {
     "model_module": "@jupyter-widgets/base",
     "model_module_version": "1.2.0",
     "model_name": "LayoutModel",
     "state": {
      "_model_module": "@jupyter-widgets/base",
      "_model_module_version": "1.2.0",
      "_model_name": "LayoutModel",
      "_view_count": null,
      "_view_module": "@jupyter-widgets/base",
      "_view_module_version": "1.2.0",
      "_view_name": "LayoutView",
      "align_content": null,
      "align_items": null,
      "align_self": null,
      "border": null,
      "bottom": null,
      "display": null,
      "flex": null,
      "flex_flow": null,
      "grid_area": null,
      "grid_auto_columns": null,
      "grid_auto_flow": null,
      "grid_auto_rows": null,
      "grid_column": null,
      "grid_gap": null,
      "grid_row": null,
      "grid_template_areas": null,
      "grid_template_columns": null,
      "grid_template_rows": null,
      "height": null,
      "justify_content": null,
      "justify_items": null,
      "left": null,
      "margin": null,
      "max_height": null,
      "max_width": null,
      "min_height": null,
      "min_width": null,
      "object_fit": null,
      "object_position": null,
      "order": null,
      "overflow": null,
      "overflow_x": null,
      "overflow_y": null,
      "padding": null,
      "right": null,
      "top": null,
      "visibility": null,
      "width": null
     }
    },
    "ea7d69bdcd124a988386db2a11afab56": {
     "model_module": "@jupyter-widgets/controls",
     "model_module_version": "1.5.0",
     "model_name": "DescriptionStyleModel",
     "state": {
      "_model_module": "@jupyter-widgets/controls",
      "_model_module_version": "1.5.0",
      "_model_name": "DescriptionStyleModel",
      "_view_count": null,
      "_view_module": "@jupyter-widgets/base",
      "_view_module_version": "1.2.0",
      "_view_name": "StyleView",
      "description_width": ""
     }
    },
    "fe1d949f40bd40da9ee437128a207a84": {
     "model_module": "@jupyter-widgets/controls",
     "model_module_version": "1.5.0",
     "model_name": "HTMLModel",
     "state": {
      "_dom_classes": [],
      "_model_module": "@jupyter-widgets/controls",
      "_model_module_version": "1.5.0",
      "_model_name": "HTMLModel",
      "_view_count": null,
      "_view_module": "@jupyter-widgets/controls",
      "_view_module_version": "1.5.0",
      "_view_name": "HTMLView",
      "description": "",
      "description_tooltip": null,
      "layout": "IPY_MODEL_0653a4b85b0f4d8991486ac1b61f801b",
      "placeholder": "​",
      "style": "IPY_MODEL_86ed2a794c9d495d87d0483cbce0b6be",
      "value": " 15/15 [00:33&lt;00:00,  2.23s/it, loss=0.126]"
     }
    }
   }
  }
 },
 "nbformat": 4,
 "nbformat_minor": 1
}
