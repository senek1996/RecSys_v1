{
 "cells": [
  {
   "cell_type": "markdown",
   "metadata": {
    "id": "TuoQuAzk9vZc"
   },
   "source": [
    "# Вебинар 2. Бейзлайны и детерминированные алгоритмы item-item"
   ]
  },
  {
   "cell_type": "markdown",
   "metadata": {
    "id": "At6srI4G2UbV"
   },
   "source": [
    "Задача рекомендаций:\n",
    "1. Мало товаров - предсказание покупки (регрессия)\n",
    "2. Много товаров, есть разметка релевантности - задача ранжирования (эмбеддинги)\n",
    "3. Много товаров, купил/не купил - рекомендательные системы (детерменированные, ALS, на основе контента)\n",
    "4. Много товаров, есть ограничения на коммуникацию - uplift (деревья)\n",
    "\n",
    "Везде можно применять ансамбли и стеккинг моделей"
   ]
  },
  {
   "cell_type": "markdown",
   "metadata": {
    "id": "6p5BtHLO9vZh"
   },
   "source": [
    "[RecSys types](https://drive.google.com/file/d/10i5oN2Cw60oLMvnQ4SKFkkotnhRS7Q8L/view?usp=sharing)"
   ]
  },
  {
   "cell_type": "code",
   "execution_count": 1,
   "metadata": {
    "colab": {
     "base_uri": "https://localhost:8080/"
    },
    "id": "mq8quceF9vZi",
    "outputId": "b27f8e82-84a7-4a6d-949b-216c6fb41882"
   },
   "outputs": [
    {
     "name": "stdout",
     "output_type": "stream",
     "text": [
      "Requirement already satisfied: implicit==0.4.8 in /Library/Frameworks/Python.framework/Versions/3.9/lib/python3.9/site-packages (0.4.8)\r\n",
      "Requirement already satisfied: numpy in /Library/Frameworks/Python.framework/Versions/3.9/lib/python3.9/site-packages (from implicit==0.4.8) (1.22.1)\r\n",
      "Requirement already satisfied: tqdm>=4.27 in /Library/Frameworks/Python.framework/Versions/3.9/lib/python3.9/site-packages (from implicit==0.4.8) (4.62.3)\r\n",
      "Requirement already satisfied: scipy>=0.16 in /Library/Frameworks/Python.framework/Versions/3.9/lib/python3.9/site-packages (from implicit==0.4.8) (1.7.3)\r\n"
     ]
    }
   ],
   "source": [
    "!pip install implicit==0.4.8"
   ]
  },
  {
   "cell_type": "markdown",
   "metadata": {
    "id": "f_mD4xtw9vZk"
   },
   "source": [
    "[Implicit](https://implicit.readthedocs.io/en/latest/quickstart.html) - очень быстрая и \n",
    "эффективная библиотека для рекоммендаций\n",
    "\n",
    "Основные фичи:\n",
    "    - Cython под капотом - высокая скорость\n",
    "    - Множество приближенных алгоритмов - быстрее, чем оригинальные\n",
    "    - Содежрит большинство популярных алгоритмов\n",
    "    - Есть алгоритмы ранжирования\n",
    "    - Поиск похожих товаров / юзеров\n",
    "    - Есть возможность пересчета \"холодного\" юзера \"на лету\"\n",
    "    - Возможность фильтровать товары при рекомендациях (Например, не рекомендовать женские товары мужчинам)\n",
    "    - Есть метрики качества"
   ]
  },
  {
   "cell_type": "code",
   "execution_count": 2,
   "metadata": {
    "colab": {
     "base_uri": "https://localhost:8080/",
     "height": 392
    },
    "executionInfo": {
     "elapsed": 913,
     "status": "error",
     "timestamp": 1644049996964,
     "user": {
      "displayName": "Николай -",
      "photoUrl": "https://lh3.googleusercontent.com/a-/AOh14GiCS90olAsBznR3WLZOaJ5ukcv2LPYBRWvHEQUZ-A=s64",
      "userId": "17372739142422056321"
     },
     "user_tz": -180
    },
    "id": "P4cXa7KC9vZl",
    "outputId": "91a6b4ea-7926-4fe4-9eff-ebceaed655f6"
   },
   "outputs": [],
   "source": [
    "import pandas as pd\n",
    "import numpy as np\n",
    "import matplotlib.pyplot as plt\n",
    "%matplotlib inline\n",
    "\n",
    "# Для работы с матрицами\n",
    "from scipy.sparse import csr_matrix, coo_matrix\n",
    "\n",
    "# Детерминированные алгоритмы\n",
    "from implicit.nearest_neighbours import ItemItemRecommender, CosineRecommender, TFIDFRecommender, BM25Recommender\n",
    "\n",
    "# Метрики\n",
    "from implicit.evaluation import train_test_split\n",
    "from implicit.evaluation import precision_at_k, mean_average_precision_at_k, AUC_at_k, ndcg_at_k"
   ]
  },
  {
   "cell_type": "code",
   "execution_count": 3,
   "metadata": {
    "colab": {
     "base_uri": "https://localhost:8080/",
     "height": 111
    },
    "executionInfo": {
     "elapsed": 5314,
     "status": "ok",
     "timestamp": 1639300600839,
     "user": {
      "displayName": "Николай -",
      "photoUrl": "https://lh3.googleusercontent.com/a-/AOh14GiCS90olAsBznR3WLZOaJ5ukcv2LPYBRWvHEQUZ-A=s64",
      "userId": "17372739142422056321"
     },
     "user_tz": -180
    },
    "id": "mwedaTmu9vZm",
    "outputId": "dc1cb9ae-74b6-4434-9aa8-0c299cb5d690"
   },
   "outputs": [
    {
     "data": {
      "text/html": [
       "<div>\n",
       "<style scoped>\n",
       "    .dataframe tbody tr th:only-of-type {\n",
       "        vertical-align: middle;\n",
       "    }\n",
       "\n",
       "    .dataframe tbody tr th {\n",
       "        vertical-align: top;\n",
       "    }\n",
       "\n",
       "    .dataframe thead th {\n",
       "        text-align: right;\n",
       "    }\n",
       "</style>\n",
       "<table border=\"1\" class=\"dataframe\">\n",
       "  <thead>\n",
       "    <tr style=\"text-align: right;\">\n",
       "      <th></th>\n",
       "      <th>user_id</th>\n",
       "      <th>basket_id</th>\n",
       "      <th>day</th>\n",
       "      <th>item_id</th>\n",
       "      <th>quantity</th>\n",
       "      <th>sales_value</th>\n",
       "      <th>store_id</th>\n",
       "      <th>retail_disc</th>\n",
       "      <th>trans_time</th>\n",
       "      <th>week_no</th>\n",
       "      <th>coupon_disc</th>\n",
       "      <th>coupon_match_disc</th>\n",
       "    </tr>\n",
       "  </thead>\n",
       "  <tbody>\n",
       "    <tr>\n",
       "      <th>0</th>\n",
       "      <td>2375</td>\n",
       "      <td>26984851472</td>\n",
       "      <td>1</td>\n",
       "      <td>1004906</td>\n",
       "      <td>1</td>\n",
       "      <td>1.39</td>\n",
       "      <td>364</td>\n",
       "      <td>-0.60</td>\n",
       "      <td>1631</td>\n",
       "      <td>1</td>\n",
       "      <td>0.0</td>\n",
       "      <td>0.0</td>\n",
       "    </tr>\n",
       "    <tr>\n",
       "      <th>1</th>\n",
       "      <td>2375</td>\n",
       "      <td>26984851472</td>\n",
       "      <td>1</td>\n",
       "      <td>1033142</td>\n",
       "      <td>1</td>\n",
       "      <td>0.82</td>\n",
       "      <td>364</td>\n",
       "      <td>0.00</td>\n",
       "      <td>1631</td>\n",
       "      <td>1</td>\n",
       "      <td>0.0</td>\n",
       "      <td>0.0</td>\n",
       "    </tr>\n",
       "    <tr>\n",
       "      <th>2</th>\n",
       "      <td>2375</td>\n",
       "      <td>26984851472</td>\n",
       "      <td>1</td>\n",
       "      <td>1036325</td>\n",
       "      <td>1</td>\n",
       "      <td>0.99</td>\n",
       "      <td>364</td>\n",
       "      <td>-0.30</td>\n",
       "      <td>1631</td>\n",
       "      <td>1</td>\n",
       "      <td>0.0</td>\n",
       "      <td>0.0</td>\n",
       "    </tr>\n",
       "    <tr>\n",
       "      <th>3</th>\n",
       "      <td>2375</td>\n",
       "      <td>26984851472</td>\n",
       "      <td>1</td>\n",
       "      <td>1082185</td>\n",
       "      <td>1</td>\n",
       "      <td>1.21</td>\n",
       "      <td>364</td>\n",
       "      <td>0.00</td>\n",
       "      <td>1631</td>\n",
       "      <td>1</td>\n",
       "      <td>0.0</td>\n",
       "      <td>0.0</td>\n",
       "    </tr>\n",
       "    <tr>\n",
       "      <th>4</th>\n",
       "      <td>2375</td>\n",
       "      <td>26984851472</td>\n",
       "      <td>1</td>\n",
       "      <td>8160430</td>\n",
       "      <td>1</td>\n",
       "      <td>1.50</td>\n",
       "      <td>364</td>\n",
       "      <td>-0.39</td>\n",
       "      <td>1631</td>\n",
       "      <td>1</td>\n",
       "      <td>0.0</td>\n",
       "      <td>0.0</td>\n",
       "    </tr>\n",
       "  </tbody>\n",
       "</table>\n",
       "</div>"
      ],
      "text/plain": [
       "   user_id    basket_id  day  item_id  quantity  sales_value  store_id  \\\n",
       "0     2375  26984851472    1  1004906         1         1.39       364   \n",
       "1     2375  26984851472    1  1033142         1         0.82       364   \n",
       "2     2375  26984851472    1  1036325         1         0.99       364   \n",
       "3     2375  26984851472    1  1082185         1         1.21       364   \n",
       "4     2375  26984851472    1  8160430         1         1.50       364   \n",
       "\n",
       "   retail_disc  trans_time  week_no  coupon_disc  coupon_match_disc  \n",
       "0        -0.60        1631        1          0.0                0.0  \n",
       "1         0.00        1631        1          0.0                0.0  \n",
       "2        -0.30        1631        1          0.0                0.0  \n",
       "3         0.00        1631        1          0.0                0.0  \n",
       "4        -0.39        1631        1          0.0                0.0  "
      ]
     },
     "execution_count": 3,
     "metadata": {},
     "output_type": "execute_result"
    }
   ],
   "source": [
    "data = pd.read_csv('retail_train.csv')\n",
    "data.head()"
   ]
  },
  {
   "cell_type": "code",
   "execution_count": 4,
   "metadata": {
    "colab": {
     "base_uri": "https://localhost:8080/"
    },
    "executionInfo": {
     "elapsed": 310,
     "status": "ok",
     "timestamp": 1639300629479,
     "user": {
      "displayName": "Николай -",
      "photoUrl": "https://lh3.googleusercontent.com/a-/AOh14GiCS90olAsBznR3WLZOaJ5ukcv2LPYBRWvHEQUZ-A=s64",
      "userId": "17372739142422056321"
     },
     "user_tz": -180
    },
    "id": "BMeRQVy_9vZn",
    "outputId": "e28e7d72-9dfc-4a01-d732-ade2a6391216"
   },
   "outputs": [
    {
     "data": {
      "text/plain": [
       "95"
      ]
     },
     "execution_count": 4,
     "metadata": {},
     "output_type": "execute_result"
    }
   ],
   "source": [
    "data['week_no'].nunique()"
   ]
  },
  {
   "cell_type": "code",
   "execution_count": 5,
   "metadata": {
    "colab": {
     "base_uri": "https://localhost:8080/"
    },
    "executionInfo": {
     "elapsed": 249,
     "status": "ok",
     "timestamp": 1639300669562,
     "user": {
      "displayName": "Николай -",
      "photoUrl": "https://lh3.googleusercontent.com/a-/AOh14GiCS90olAsBznR3WLZOaJ5ukcv2LPYBRWvHEQUZ-A=s64",
      "userId": "17372739142422056321"
     },
     "user_tz": -180
    },
    "id": "Z-scmodG7xDB",
    "outputId": "bf3a094f-a240-4d9d-abb0-636d89d2b6cb"
   },
   "outputs": [
    {
     "data": {
      "text/plain": [
       "(2396804, 12)"
      ]
     },
     "execution_count": 5,
     "metadata": {},
     "output_type": "execute_result"
    }
   ],
   "source": [
    "data.shape"
   ]
  },
  {
   "cell_type": "code",
   "execution_count": 6,
   "metadata": {
    "colab": {
     "base_uri": "https://localhost:8080/"
    },
    "executionInfo": {
     "elapsed": 412,
     "status": "ok",
     "timestamp": 1639300644126,
     "user": {
      "displayName": "Николай -",
      "photoUrl": "https://lh3.googleusercontent.com/a-/AOh14GiCS90olAsBznR3WLZOaJ5ukcv2LPYBRWvHEQUZ-A=s64",
      "userId": "17372739142422056321"
     },
     "user_tz": -180
    },
    "id": "8NafvkC29vZo",
    "outputId": "17deb8a0-bba4-4fc2-8712-dea58e5b7362"
   },
   "outputs": [
    {
     "name": "stdout",
     "output_type": "stream",
     "text": [
      "# users:  2499\n",
      "# items:  89051\n",
      "# interactions:  2396804\n"
     ]
    }
   ],
   "source": [
    "users, items, interactions = data.user_id.nunique(), data.item_id.nunique(), data.shape[0]\n",
    "\n",
    "print('# users: ', users)\n",
    "print('# items: ', items)\n",
    "print('# interactions: ', interactions)"
   ]
  },
  {
   "cell_type": "code",
   "execution_count": 7,
   "metadata": {
    "colab": {
     "base_uri": "https://localhost:8080/",
     "height": 297
    },
    "executionInfo": {
     "elapsed": 339,
     "status": "ok",
     "timestamp": 1639300682460,
     "user": {
      "displayName": "Николай -",
      "photoUrl": "https://lh3.googleusercontent.com/a-/AOh14GiCS90olAsBznR3WLZOaJ5ukcv2LPYBRWvHEQUZ-A=s64",
      "userId": "17372739142422056321"
     },
     "user_tz": -180
    },
    "id": "KoLFB6gX9vZp",
    "outputId": "7d356ce3-9bf7-4a08-f86d-b61f383d04d7"
   },
   "outputs": [
    {
     "data": {
      "text/html": [
       "<div>\n",
       "<style scoped>\n",
       "    .dataframe tbody tr th:only-of-type {\n",
       "        vertical-align: middle;\n",
       "    }\n",
       "\n",
       "    .dataframe tbody tr th {\n",
       "        vertical-align: top;\n",
       "    }\n",
       "\n",
       "    .dataframe thead th {\n",
       "        text-align: right;\n",
       "    }\n",
       "</style>\n",
       "<table border=\"1\" class=\"dataframe\">\n",
       "  <thead>\n",
       "    <tr style=\"text-align: right;\">\n",
       "      <th></th>\n",
       "      <th>item_id</th>\n",
       "      <th>sales_value</th>\n",
       "    </tr>\n",
       "  </thead>\n",
       "  <tbody>\n",
       "    <tr>\n",
       "      <th>count</th>\n",
       "      <td>8.905100e+04</td>\n",
       "      <td>89051.000000</td>\n",
       "    </tr>\n",
       "    <tr>\n",
       "      <th>mean</th>\n",
       "      <td>5.115772e+06</td>\n",
       "      <td>83.458481</td>\n",
       "    </tr>\n",
       "    <tr>\n",
       "      <th>std</th>\n",
       "      <td>5.178973e+06</td>\n",
       "      <td>1628.715079</td>\n",
       "    </tr>\n",
       "    <tr>\n",
       "      <th>min</th>\n",
       "      <td>2.567100e+04</td>\n",
       "      <td>0.000000</td>\n",
       "    </tr>\n",
       "    <tr>\n",
       "      <th>25%</th>\n",
       "      <td>9.665830e+05</td>\n",
       "      <td>3.500000</td>\n",
       "    </tr>\n",
       "    <tr>\n",
       "      <th>50%</th>\n",
       "      <td>1.448516e+06</td>\n",
       "      <td>10.780000</td>\n",
       "    </tr>\n",
       "    <tr>\n",
       "      <th>75%</th>\n",
       "      <td>9.553042e+06</td>\n",
       "      <td>46.105000</td>\n",
       "    </tr>\n",
       "    <tr>\n",
       "      <th>max</th>\n",
       "      <td>1.802456e+07</td>\n",
       "      <td>467993.620000</td>\n",
       "    </tr>\n",
       "  </tbody>\n",
       "</table>\n",
       "</div>"
      ],
      "text/plain": [
       "            item_id    sales_value\n",
       "count  8.905100e+04   89051.000000\n",
       "mean   5.115772e+06      83.458481\n",
       "std    5.178973e+06    1628.715079\n",
       "min    2.567100e+04       0.000000\n",
       "25%    9.665830e+05       3.500000\n",
       "50%    1.448516e+06      10.780000\n",
       "75%    9.553042e+06      46.105000\n",
       "max    1.802456e+07  467993.620000"
      ]
     },
     "execution_count": 7,
     "metadata": {},
     "output_type": "execute_result"
    }
   ],
   "source": [
    "popularity = data.groupby('item_id')['sales_value'].sum().reset_index()\n",
    "popularity.describe()"
   ]
  },
  {
   "cell_type": "code",
   "execution_count": 8,
   "metadata": {
    "colab": {
     "base_uri": "https://localhost:8080/",
     "height": 297
    },
    "executionInfo": {
     "elapsed": 972,
     "status": "ok",
     "timestamp": 1639300690457,
     "user": {
      "displayName": "Николай -",
      "photoUrl": "https://lh3.googleusercontent.com/a-/AOh14GiCS90olAsBznR3WLZOaJ5ukcv2LPYBRWvHEQUZ-A=s64",
      "userId": "17372739142422056321"
     },
     "user_tz": -180
    },
    "id": "aKMW0bHd9vZq",
    "outputId": "5b9cb8d1-2bf9-4e32-c08a-0004a148aaa6"
   },
   "outputs": [
    {
     "data": {
      "text/html": [
       "<div>\n",
       "<style scoped>\n",
       "    .dataframe tbody tr th:only-of-type {\n",
       "        vertical-align: middle;\n",
       "    }\n",
       "\n",
       "    .dataframe tbody tr th {\n",
       "        vertical-align: top;\n",
       "    }\n",
       "\n",
       "    .dataframe thead th {\n",
       "        text-align: right;\n",
       "    }\n",
       "</style>\n",
       "<table border=\"1\" class=\"dataframe\">\n",
       "  <thead>\n",
       "    <tr style=\"text-align: right;\">\n",
       "      <th></th>\n",
       "      <th>item_id</th>\n",
       "      <th>user_id</th>\n",
       "    </tr>\n",
       "  </thead>\n",
       "  <tbody>\n",
       "    <tr>\n",
       "      <th>count</th>\n",
       "      <td>8.905100e+04</td>\n",
       "      <td>89051.000000</td>\n",
       "    </tr>\n",
       "    <tr>\n",
       "      <th>mean</th>\n",
       "      <td>5.115772e+06</td>\n",
       "      <td>14.759767</td>\n",
       "    </tr>\n",
       "    <tr>\n",
       "      <th>std</th>\n",
       "      <td>5.178973e+06</td>\n",
       "      <td>45.904111</td>\n",
       "    </tr>\n",
       "    <tr>\n",
       "      <th>min</th>\n",
       "      <td>2.567100e+04</td>\n",
       "      <td>1.000000</td>\n",
       "    </tr>\n",
       "    <tr>\n",
       "      <th>25%</th>\n",
       "      <td>9.665830e+05</td>\n",
       "      <td>1.000000</td>\n",
       "    </tr>\n",
       "    <tr>\n",
       "      <th>50%</th>\n",
       "      <td>1.448516e+06</td>\n",
       "      <td>2.000000</td>\n",
       "    </tr>\n",
       "    <tr>\n",
       "      <th>75%</th>\n",
       "      <td>9.553042e+06</td>\n",
       "      <td>10.000000</td>\n",
       "    </tr>\n",
       "    <tr>\n",
       "      <th>max</th>\n",
       "      <td>1.802456e+07</td>\n",
       "      <td>2039.000000</td>\n",
       "    </tr>\n",
       "  </tbody>\n",
       "</table>\n",
       "</div>"
      ],
      "text/plain": [
       "            item_id       user_id\n",
       "count  8.905100e+04  89051.000000\n",
       "mean   5.115772e+06     14.759767\n",
       "std    5.178973e+06     45.904111\n",
       "min    2.567100e+04      1.000000\n",
       "25%    9.665830e+05      1.000000\n",
       "50%    1.448516e+06      2.000000\n",
       "75%    9.553042e+06     10.000000\n",
       "max    1.802456e+07   2039.000000"
      ]
     },
     "execution_count": 8,
     "metadata": {},
     "output_type": "execute_result"
    }
   ],
   "source": [
    "popularity = data.groupby('item_id')['user_id'].nunique().reset_index()\n",
    "popularity.describe()"
   ]
  },
  {
   "cell_type": "markdown",
   "metadata": {
    "id": "Nvr-6Tlr9vZr"
   },
   "source": [
    "**Note:**  \n",
    "Еще есть данные по характеристикам товаров и пользователей. Они нам пригодятся через несколько вебинаров"
   ]
  },
  {
   "cell_type": "code",
   "execution_count": 9,
   "metadata": {
    "colab": {
     "base_uri": "https://localhost:8080/",
     "height": 111
    },
    "executionInfo": {
     "elapsed": 1049,
     "status": "ok",
     "timestamp": 1639300708673,
     "user": {
      "displayName": "Николай -",
      "photoUrl": "https://lh3.googleusercontent.com/a-/AOh14GiCS90olAsBznR3WLZOaJ5ukcv2LPYBRWvHEQUZ-A=s64",
      "userId": "17372739142422056321"
     },
     "user_tz": -180
    },
    "id": "U83NzjYW9vZr",
    "outputId": "b63df76d-5782-4af9-8f00-491d4f078429"
   },
   "outputs": [
    {
     "data": {
      "text/html": [
       "<div>\n",
       "<style scoped>\n",
       "    .dataframe tbody tr th:only-of-type {\n",
       "        vertical-align: middle;\n",
       "    }\n",
       "\n",
       "    .dataframe tbody tr th {\n",
       "        vertical-align: top;\n",
       "    }\n",
       "\n",
       "    .dataframe thead th {\n",
       "        text-align: right;\n",
       "    }\n",
       "</style>\n",
       "<table border=\"1\" class=\"dataframe\">\n",
       "  <thead>\n",
       "    <tr style=\"text-align: right;\">\n",
       "      <th></th>\n",
       "      <th>PRODUCT_ID</th>\n",
       "      <th>MANUFACTURER</th>\n",
       "      <th>DEPARTMENT</th>\n",
       "      <th>BRAND</th>\n",
       "      <th>COMMODITY_DESC</th>\n",
       "      <th>SUB_COMMODITY_DESC</th>\n",
       "      <th>CURR_SIZE_OF_PRODUCT</th>\n",
       "    </tr>\n",
       "  </thead>\n",
       "  <tbody>\n",
       "    <tr>\n",
       "      <th>0</th>\n",
       "      <td>25671</td>\n",
       "      <td>2</td>\n",
       "      <td>GROCERY</td>\n",
       "      <td>National</td>\n",
       "      <td>FRZN ICE</td>\n",
       "      <td>ICE - CRUSHED/CUBED</td>\n",
       "      <td>22 LB</td>\n",
       "    </tr>\n",
       "    <tr>\n",
       "      <th>1</th>\n",
       "      <td>26081</td>\n",
       "      <td>2</td>\n",
       "      <td>MISC. TRANS.</td>\n",
       "      <td>National</td>\n",
       "      <td>NO COMMODITY DESCRIPTION</td>\n",
       "      <td>NO SUBCOMMODITY DESCRIPTION</td>\n",
       "      <td></td>\n",
       "    </tr>\n",
       "  </tbody>\n",
       "</table>\n",
       "</div>"
      ],
      "text/plain": [
       "   PRODUCT_ID  MANUFACTURER    DEPARTMENT     BRAND            COMMODITY_DESC  \\\n",
       "0       25671             2       GROCERY  National                  FRZN ICE   \n",
       "1       26081             2  MISC. TRANS.  National  NO COMMODITY DESCRIPTION   \n",
       "\n",
       "            SUB_COMMODITY_DESC CURR_SIZE_OF_PRODUCT  \n",
       "0          ICE - CRUSHED/CUBED                22 LB  \n",
       "1  NO SUBCOMMODITY DESCRIPTION                       "
      ]
     },
     "execution_count": 9,
     "metadata": {},
     "output_type": "execute_result"
    }
   ],
   "source": [
    "item_features = pd.read_csv('product.csv')\n",
    "item_features.head(2)"
   ]
  },
  {
   "cell_type": "code",
   "execution_count": 10,
   "metadata": {
    "colab": {
     "base_uri": "https://localhost:8080/",
     "height": 111
    },
    "executionInfo": {
     "elapsed": 448,
     "status": "ok",
     "timestamp": 1639300709110,
     "user": {
      "displayName": "Николай -",
      "photoUrl": "https://lh3.googleusercontent.com/a-/AOh14GiCS90olAsBznR3WLZOaJ5ukcv2LPYBRWvHEQUZ-A=s64",
      "userId": "17372739142422056321"
     },
     "user_tz": -180
    },
    "id": "5RCucDWFLxTo",
    "outputId": "a2df590e-6023-4cb1-fe5f-1e2bd30b0ff4"
   },
   "outputs": [
    {
     "data": {
      "text/html": [
       "<div>\n",
       "<style scoped>\n",
       "    .dataframe tbody tr th:only-of-type {\n",
       "        vertical-align: middle;\n",
       "    }\n",
       "\n",
       "    .dataframe tbody tr th {\n",
       "        vertical-align: top;\n",
       "    }\n",
       "\n",
       "    .dataframe thead th {\n",
       "        text-align: right;\n",
       "    }\n",
       "</style>\n",
       "<table border=\"1\" class=\"dataframe\">\n",
       "  <thead>\n",
       "    <tr style=\"text-align: right;\">\n",
       "      <th></th>\n",
       "      <th>AGE_DESC</th>\n",
       "      <th>MARITAL_STATUS_CODE</th>\n",
       "      <th>INCOME_DESC</th>\n",
       "      <th>HOMEOWNER_DESC</th>\n",
       "      <th>HH_COMP_DESC</th>\n",
       "      <th>HOUSEHOLD_SIZE_DESC</th>\n",
       "      <th>KID_CATEGORY_DESC</th>\n",
       "      <th>household_key</th>\n",
       "    </tr>\n",
       "  </thead>\n",
       "  <tbody>\n",
       "    <tr>\n",
       "      <th>0</th>\n",
       "      <td>65+</td>\n",
       "      <td>A</td>\n",
       "      <td>35-49K</td>\n",
       "      <td>Homeowner</td>\n",
       "      <td>2 Adults No Kids</td>\n",
       "      <td>2</td>\n",
       "      <td>None/Unknown</td>\n",
       "      <td>1</td>\n",
       "    </tr>\n",
       "    <tr>\n",
       "      <th>1</th>\n",
       "      <td>45-54</td>\n",
       "      <td>A</td>\n",
       "      <td>50-74K</td>\n",
       "      <td>Homeowner</td>\n",
       "      <td>2 Adults No Kids</td>\n",
       "      <td>2</td>\n",
       "      <td>None/Unknown</td>\n",
       "      <td>7</td>\n",
       "    </tr>\n",
       "  </tbody>\n",
       "</table>\n",
       "</div>"
      ],
      "text/plain": [
       "  AGE_DESC MARITAL_STATUS_CODE INCOME_DESC HOMEOWNER_DESC      HH_COMP_DESC  \\\n",
       "0      65+                   A      35-49K      Homeowner  2 Adults No Kids   \n",
       "1    45-54                   A      50-74K      Homeowner  2 Adults No Kids   \n",
       "\n",
       "  HOUSEHOLD_SIZE_DESC KID_CATEGORY_DESC  household_key  \n",
       "0                   2      None/Unknown              1  \n",
       "1                   2      None/Unknown              7  "
      ]
     },
     "execution_count": 10,
     "metadata": {},
     "output_type": "execute_result"
    }
   ],
   "source": [
    "user_features = pd.read_csv('hh_demographic.csv')\n",
    "user_features.head(2)"
   ]
  },
  {
   "cell_type": "markdown",
   "metadata": {
    "id": "G2FtGiBk9vZt"
   },
   "source": [
    "### Train-test split"
   ]
  },
  {
   "cell_type": "markdown",
   "metadata": {
    "id": "hXt7R46T9vZt"
   },
   "source": [
    "В рекомендательных системах корректнее использовать train-test split по времени, а не случайно  \n",
    "Я возьму последние 3 недели в качестве теста"
   ]
  },
  {
   "cell_type": "code",
   "execution_count": 11,
   "metadata": {
    "pycharm": {
     "name": "#%%\n"
    }
   },
   "outputs": [
    {
     "data": {
      "text/plain": [
       "95"
      ]
     },
     "execution_count": 11,
     "metadata": {},
     "output_type": "execute_result"
    }
   ],
   "source": [
    "data['week_no'].max()"
   ]
  },
  {
   "cell_type": "code",
   "execution_count": 12,
   "metadata": {
    "id": "YcsOanje9vZt"
   },
   "outputs": [],
   "source": [
    "test_size_weeks = 3\n",
    "\n",
    "data_train = data[data['week_no'] < data['week_no'].max() - test_size_weeks]\n",
    "data_test = data[data['week_no'] >= data['week_no'].max() - test_size_weeks]"
   ]
  },
  {
   "cell_type": "code",
   "execution_count": 13,
   "metadata": {
    "colab": {
     "base_uri": "https://localhost:8080/"
    },
    "executionInfo": {
     "elapsed": 9,
     "status": "ok",
     "timestamp": 1639301240516,
     "user": {
      "displayName": "Николай -",
      "photoUrl": "https://lh3.googleusercontent.com/a-/AOh14GiCS90olAsBznR3WLZOaJ5ukcv2LPYBRWvHEQUZ-A=s64",
      "userId": "17372739142422056321"
     },
     "user_tz": -180
    },
    "id": "XeLzYz-Q9vZu",
    "outputId": "02f43288-ebbe-4598-9a9c-ae2c15a369c7"
   },
   "outputs": [
    {
     "data": {
      "text/plain": [
       "(2278490, 118314)"
      ]
     },
     "execution_count": 13,
     "metadata": {},
     "output_type": "execute_result"
    }
   ],
   "source": [
    "data_train.shape[0], data_test.shape[0]"
   ]
  },
  {
   "cell_type": "markdown",
   "metadata": {
    "id": "s-EbIqFl9vZu"
   },
   "source": [
    "# 1. Бейзлайны"
   ]
  },
  {
   "cell_type": "markdown",
   "metadata": {
    "id": "zico9PbA9vZv"
   },
   "source": [
    "Создадим датафрейм с покупками юзеров на тестовом датасете (последние 3 недели)"
   ]
  },
  {
   "cell_type": "code",
   "execution_count": 14,
   "metadata": {
    "colab": {
     "base_uri": "https://localhost:8080/",
     "height": 111
    },
    "executionInfo": {
     "elapsed": 259,
     "status": "ok",
     "timestamp": 1639301328089,
     "user": {
      "displayName": "Николай -",
      "photoUrl": "https://lh3.googleusercontent.com/a-/AOh14GiCS90olAsBznR3WLZOaJ5ukcv2LPYBRWvHEQUZ-A=s64",
      "userId": "17372739142422056321"
     },
     "user_tz": -180
    },
    "id": "SE80oUkr9vZv",
    "outputId": "fb270c0c-ad1c-480e-ae88-f43254fcb121"
   },
   "outputs": [
    {
     "data": {
      "text/html": [
       "<div>\n",
       "<style scoped>\n",
       "    .dataframe tbody tr th:only-of-type {\n",
       "        vertical-align: middle;\n",
       "    }\n",
       "\n",
       "    .dataframe tbody tr th {\n",
       "        vertical-align: top;\n",
       "    }\n",
       "\n",
       "    .dataframe thead th {\n",
       "        text-align: right;\n",
       "    }\n",
       "</style>\n",
       "<table border=\"1\" class=\"dataframe\">\n",
       "  <thead>\n",
       "    <tr style=\"text-align: right;\">\n",
       "      <th></th>\n",
       "      <th>user_id</th>\n",
       "      <th>actual</th>\n",
       "    </tr>\n",
       "  </thead>\n",
       "  <tbody>\n",
       "    <tr>\n",
       "      <th>0</th>\n",
       "      <td>1</td>\n",
       "      <td>[821867, 834484, 856942, 865456, 889248, 90795...</td>\n",
       "    </tr>\n",
       "    <tr>\n",
       "      <th>1</th>\n",
       "      <td>3</td>\n",
       "      <td>[835476, 851057, 872021, 878302, 879948, 90963...</td>\n",
       "    </tr>\n",
       "  </tbody>\n",
       "</table>\n",
       "</div>"
      ],
      "text/plain": [
       "   user_id                                             actual\n",
       "0        1  [821867, 834484, 856942, 865456, 889248, 90795...\n",
       "1        3  [835476, 851057, 872021, 878302, 879948, 90963..."
      ]
     },
     "execution_count": 14,
     "metadata": {},
     "output_type": "execute_result"
    }
   ],
   "source": [
    "result = data_test.groupby('user_id')['item_id'].unique().reset_index()\n",
    "result.columns=['user_id', 'actual']\n",
    "result.head(2)"
   ]
  },
  {
   "cell_type": "code",
   "execution_count": 15,
   "metadata": {
    "colab": {
     "base_uri": "https://localhost:8080/"
    },
    "executionInfo": {
     "elapsed": 286,
     "status": "ok",
     "timestamp": 1639301347715,
     "user": {
      "displayName": "Николай -",
      "photoUrl": "https://lh3.googleusercontent.com/a-/AOh14GiCS90olAsBznR3WLZOaJ5ukcv2LPYBRWvHEQUZ-A=s64",
      "userId": "17372739142422056321"
     },
     "user_tz": -180
    },
    "id": "lp52ulrH9vZw",
    "outputId": "e974aee7-fcfb-4076-fd38-a8bb43f4e5ab"
   },
   "outputs": [
    {
     "name": "stdout",
     "output_type": "stream",
     "text": [
      "В тестовом дата сете 2042 юзеров\n",
      "В тестовом дата сете 0 новых юзеров\n"
     ]
    }
   ],
   "source": [
    "test_users = result.shape[0]\n",
    "new_test_users = len(set(data_test['user_id']) - set(data_train['user_id']))\n",
    "\n",
    "print('В тестовом дата сете {} юзеров'.format(test_users))\n",
    "print('В тестовом дата сете {} новых юзеров'.format(new_test_users))"
   ]
  },
  {
   "cell_type": "markdown",
   "metadata": {
    "id": "eCEFlIj79vZx"
   },
   "source": [
    "### 1.1 Random recommendation"
   ]
  },
  {
   "cell_type": "code",
   "execution_count": 16,
   "metadata": {
    "id": "kgoRqSOq9vZx"
   },
   "outputs": [],
   "source": [
    "def random_recommendation(items, n=5):\n",
    "    \"\"\"Случайные рекоммендации\"\"\"\n",
    "    \n",
    "    items = np.array(items)\n",
    "    recs = np.random.choice(items, size=n, replace=False)\n",
    "    \n",
    "    return recs.tolist()"
   ]
  },
  {
   "cell_type": "code",
   "execution_count": 17,
   "metadata": {
    "colab": {
     "base_uri": "https://localhost:8080/",
     "height": 111
    },
    "executionInfo": {
     "elapsed": 263,
     "status": "ok",
     "timestamp": 1639301377271,
     "user": {
      "displayName": "Николай -",
      "photoUrl": "https://lh3.googleusercontent.com/a-/AOh14GiCS90olAsBznR3WLZOaJ5ukcv2LPYBRWvHEQUZ-A=s64",
      "userId": "17372739142422056321"
     },
     "user_tz": -180
    },
    "id": "O8NTT8tw6EAA",
    "outputId": "472921b3-9c96-40c7-9c53-009c1cf387d4"
   },
   "outputs": [
    {
     "data": {
      "text/html": [
       "<div>\n",
       "<style scoped>\n",
       "    .dataframe tbody tr th:only-of-type {\n",
       "        vertical-align: middle;\n",
       "    }\n",
       "\n",
       "    .dataframe tbody tr th {\n",
       "        vertical-align: top;\n",
       "    }\n",
       "\n",
       "    .dataframe thead th {\n",
       "        text-align: right;\n",
       "    }\n",
       "</style>\n",
       "<table border=\"1\" class=\"dataframe\">\n",
       "  <thead>\n",
       "    <tr style=\"text-align: right;\">\n",
       "      <th></th>\n",
       "      <th>user_id</th>\n",
       "      <th>actual</th>\n",
       "    </tr>\n",
       "  </thead>\n",
       "  <tbody>\n",
       "    <tr>\n",
       "      <th>0</th>\n",
       "      <td>1</td>\n",
       "      <td>[821867, 834484, 856942, 865456, 889248, 90795...</td>\n",
       "    </tr>\n",
       "    <tr>\n",
       "      <th>1</th>\n",
       "      <td>3</td>\n",
       "      <td>[835476, 851057, 872021, 878302, 879948, 90963...</td>\n",
       "    </tr>\n",
       "  </tbody>\n",
       "</table>\n",
       "</div>"
      ],
      "text/plain": [
       "   user_id                                             actual\n",
       "0        1  [821867, 834484, 856942, 865456, 889248, 90795...\n",
       "1        3  [835476, 851057, 872021, 878302, 879948, 90963..."
      ]
     },
     "execution_count": 17,
     "metadata": {},
     "output_type": "execute_result"
    }
   ],
   "source": [
    "result.head(2)"
   ]
  },
  {
   "cell_type": "code",
   "execution_count": 18,
   "metadata": {
    "colab": {
     "base_uri": "https://localhost:8080/"
    },
    "executionInfo": {
     "elapsed": 4662,
     "status": "ok",
     "timestamp": 1639301458586,
     "user": {
      "displayName": "Николай -",
      "photoUrl": "https://lh3.googleusercontent.com/a-/AOh14GiCS90olAsBznR3WLZOaJ5ukcv2LPYBRWvHEQUZ-A=s64",
      "userId": "17372739142422056321"
     },
     "user_tz": -180
    },
    "id": "0Vu6NoWe9vZx",
    "outputId": "c754ace2-2d16-4914-e042-6c86c93a8ca1"
   },
   "outputs": [
    {
     "name": "stdout",
     "output_type": "stream",
     "text": [
      "CPU times: user 2.01 s, sys: 94.9 ms, total: 2.11 s\n",
      "Wall time: 2.19 s\n"
     ]
    }
   ],
   "source": [
    "%%time\n",
    "\n",
    "items = data_train.item_id.unique()\n",
    "\n",
    "result['random_recommendation'] = result['user_id'].apply(lambda x: random_recommendation(items, n=5))"
   ]
  },
  {
   "cell_type": "code",
   "execution_count": 19,
   "metadata": {
    "colab": {
     "base_uri": "https://localhost:8080/"
    },
    "executionInfo": {
     "elapsed": 387,
     "status": "ok",
     "timestamp": 1639301461072,
     "user": {
      "displayName": "Николай -",
      "photoUrl": "https://lh3.googleusercontent.com/a-/AOh14GiCS90olAsBznR3WLZOaJ5ukcv2LPYBRWvHEQUZ-A=s64",
      "userId": "17372739142422056321"
     },
     "user_tz": -180
    },
    "id": "y5fmYf4H6iCQ",
    "outputId": "c6928c26-7c36-4c5e-c1ab-bac02d2998fa"
   },
   "outputs": [
    {
     "data": {
      "text/plain": [
       "array([ 1004906,  1033142,  1036325, ..., 15722756, 17170636, 15716393])"
      ]
     },
     "execution_count": 19,
     "metadata": {},
     "output_type": "execute_result"
    }
   ],
   "source": [
    "items"
   ]
  },
  {
   "cell_type": "code",
   "execution_count": 20,
   "metadata": {
    "colab": {
     "base_uri": "https://localhost:8080/",
     "height": 111
    },
    "executionInfo": {
     "elapsed": 249,
     "status": "ok",
     "timestamp": 1639301469711,
     "user": {
      "displayName": "Николай -",
      "photoUrl": "https://lh3.googleusercontent.com/a-/AOh14GiCS90olAsBznR3WLZOaJ5ukcv2LPYBRWvHEQUZ-A=s64",
      "userId": "17372739142422056321"
     },
     "user_tz": -180
    },
    "id": "wR_NCxYz6Xzm",
    "outputId": "ea8994e9-b536-4a5d-f397-6a9e71048d27"
   },
   "outputs": [
    {
     "data": {
      "text/html": [
       "<div>\n",
       "<style scoped>\n",
       "    .dataframe tbody tr th:only-of-type {\n",
       "        vertical-align: middle;\n",
       "    }\n",
       "\n",
       "    .dataframe tbody tr th {\n",
       "        vertical-align: top;\n",
       "    }\n",
       "\n",
       "    .dataframe thead th {\n",
       "        text-align: right;\n",
       "    }\n",
       "</style>\n",
       "<table border=\"1\" class=\"dataframe\">\n",
       "  <thead>\n",
       "    <tr style=\"text-align: right;\">\n",
       "      <th></th>\n",
       "      <th>user_id</th>\n",
       "      <th>actual</th>\n",
       "      <th>random_recommendation</th>\n",
       "    </tr>\n",
       "  </thead>\n",
       "  <tbody>\n",
       "    <tr>\n",
       "      <th>0</th>\n",
       "      <td>1</td>\n",
       "      <td>[821867, 834484, 856942, 865456, 889248, 90795...</td>\n",
       "      <td>[854348, 981061, 6442651, 105358, 395432]</td>\n",
       "    </tr>\n",
       "    <tr>\n",
       "      <th>1</th>\n",
       "      <td>3</td>\n",
       "      <td>[835476, 851057, 872021, 878302, 879948, 90963...</td>\n",
       "      <td>[851260, 1480838, 12351783, 1368695, 9337407]</td>\n",
       "    </tr>\n",
       "  </tbody>\n",
       "</table>\n",
       "</div>"
      ],
      "text/plain": [
       "   user_id                                             actual  \\\n",
       "0        1  [821867, 834484, 856942, 865456, 889248, 90795...   \n",
       "1        3  [835476, 851057, 872021, 878302, 879948, 90963...   \n",
       "\n",
       "                           random_recommendation  \n",
       "0      [854348, 981061, 6442651, 105358, 395432]  \n",
       "1  [851260, 1480838, 12351783, 1368695, 9337407]  "
      ]
     },
     "execution_count": 20,
     "metadata": {},
     "output_type": "execute_result"
    }
   ],
   "source": [
    "result.head(2)"
   ]
  },
  {
   "cell_type": "markdown",
   "metadata": {
    "id": "yRJKx-R69vZy"
   },
   "source": [
    "### 1.2 Popularity-based recommendation"
   ]
  },
  {
   "cell_type": "code",
   "execution_count": 21,
   "metadata": {
    "id": "aHQvqUra9vZy"
   },
   "outputs": [],
   "source": [
    "def popularity_recommendation(data, n=5):\n",
    "    \"\"\"Топ-n популярных товаров\"\"\"\n",
    "    \n",
    "    popular = data.groupby('item_id')['sales_value'].sum().reset_index()\n",
    "    popular.sort_values('sales_value', ascending=False, inplace=True)\n",
    "    \n",
    "    recs = popular.head(n).item_id\n",
    "    #print(recs)\n",
    "    return recs.tolist()"
   ]
  },
  {
   "cell_type": "code",
   "execution_count": 22,
   "metadata": {
    "colab": {
     "base_uri": "https://localhost:8080/"
    },
    "executionInfo": {
     "elapsed": 247,
     "status": "ok",
     "timestamp": 1639301513967,
     "user": {
      "displayName": "Николай -",
      "photoUrl": "https://lh3.googleusercontent.com/a-/AOh14GiCS90olAsBznR3WLZOaJ5ukcv2LPYBRWvHEQUZ-A=s64",
      "userId": "17372739142422056321"
     },
     "user_tz": -180
    },
    "id": "-je5KKiB9vZz",
    "outputId": "43eaded5-2b64-4339-ee09-c9e0d2a14d6d"
   },
   "outputs": [
    {
     "name": "stdout",
     "output_type": "stream",
     "text": [
      "CPU times: user 65.4 ms, sys: 8.11 ms, total: 73.5 ms\n",
      "Wall time: 71.8 ms\n"
     ]
    }
   ],
   "source": [
    "%%time\n",
    "\n",
    "# Можно так делать, так как рекомендация не зависит от юзера\n",
    "popular_recs = popularity_recommendation(data_train, n=5)\n",
    "\n",
    "result['popular_recommendation'] = result['user_id'].apply(lambda x: popular_recs)"
   ]
  },
  {
   "cell_type": "code",
   "execution_count": 23,
   "metadata": {
    "colab": {
     "base_uri": "https://localhost:8080/",
     "height": 111
    },
    "executionInfo": {
     "elapsed": 262,
     "status": "ok",
     "timestamp": 1639301530636,
     "user": {
      "displayName": "Николай -",
      "photoUrl": "https://lh3.googleusercontent.com/a-/AOh14GiCS90olAsBznR3WLZOaJ5ukcv2LPYBRWvHEQUZ-A=s64",
      "userId": "17372739142422056321"
     },
     "user_tz": -180
    },
    "id": "tgnnNobc69N8",
    "outputId": "ae71a42a-8bd8-4170-b7d5-049d7b39642b"
   },
   "outputs": [
    {
     "data": {
      "text/html": [
       "<div>\n",
       "<style scoped>\n",
       "    .dataframe tbody tr th:only-of-type {\n",
       "        vertical-align: middle;\n",
       "    }\n",
       "\n",
       "    .dataframe tbody tr th {\n",
       "        vertical-align: top;\n",
       "    }\n",
       "\n",
       "    .dataframe thead th {\n",
       "        text-align: right;\n",
       "    }\n",
       "</style>\n",
       "<table border=\"1\" class=\"dataframe\">\n",
       "  <thead>\n",
       "    <tr style=\"text-align: right;\">\n",
       "      <th></th>\n",
       "      <th>user_id</th>\n",
       "      <th>actual</th>\n",
       "      <th>random_recommendation</th>\n",
       "      <th>popular_recommendation</th>\n",
       "    </tr>\n",
       "  </thead>\n",
       "  <tbody>\n",
       "    <tr>\n",
       "      <th>0</th>\n",
       "      <td>1</td>\n",
       "      <td>[821867, 834484, 856942, 865456, 889248, 90795...</td>\n",
       "      <td>[854348, 981061, 6442651, 105358, 395432]</td>\n",
       "      <td>[6534178, 6533889, 1029743, 6534166, 1082185]</td>\n",
       "    </tr>\n",
       "    <tr>\n",
       "      <th>1</th>\n",
       "      <td>3</td>\n",
       "      <td>[835476, 851057, 872021, 878302, 879948, 90963...</td>\n",
       "      <td>[851260, 1480838, 12351783, 1368695, 9337407]</td>\n",
       "      <td>[6534178, 6533889, 1029743, 6534166, 1082185]</td>\n",
       "    </tr>\n",
       "  </tbody>\n",
       "</table>\n",
       "</div>"
      ],
      "text/plain": [
       "   user_id                                             actual  \\\n",
       "0        1  [821867, 834484, 856942, 865456, 889248, 90795...   \n",
       "1        3  [835476, 851057, 872021, 878302, 879948, 90963...   \n",
       "\n",
       "                           random_recommendation  \\\n",
       "0      [854348, 981061, 6442651, 105358, 395432]   \n",
       "1  [851260, 1480838, 12351783, 1368695, 9337407]   \n",
       "\n",
       "                          popular_recommendation  \n",
       "0  [6534178, 6533889, 1029743, 6534166, 1082185]  \n",
       "1  [6534178, 6533889, 1029743, 6534166, 1082185]  "
      ]
     },
     "execution_count": 23,
     "metadata": {},
     "output_type": "execute_result"
    }
   ],
   "source": [
    "result.head(2)"
   ]
  },
  {
   "cell_type": "markdown",
   "metadata": {
    "id": "tGWr4bBZ9vZz"
   },
   "source": [
    "### 1.3 Weighted random recommender"
   ]
  },
  {
   "cell_type": "markdown",
   "metadata": {
    "id": "wcaaZtCn9vZz"
   },
   "source": [
    "- Можно сэмплировать товары случайно, но пропорционально какому-либо весу\n",
    "- Например, прямопропорционально популярности. Вес = log(sales_sum товара)"
   ]
  },
  {
   "cell_type": "markdown",
   "metadata": {
    "id": "OoefrX4B9vZz"
   },
   "source": [
    "*Пример*  \n",
    "item_1 - 5, item_2 - 7, item_3 - 4  # / sum  \n",
    "item_1 - 5 / 16, item_2 - 7 / 16, item_3 - 4 / 16"
   ]
  },
  {
   "cell_type": "code",
   "execution_count": 54,
   "metadata": {
    "id": "dM9N668F9vZ0"
   },
   "outputs": [],
   "source": [
    "def weighted_random_recommendation(items_weights, n=5):\n",
    "    \"\"\"Случайные рекоммендации\n",
    "    \n",
    "    Input\n",
    "    -----\n",
    "    items_weights: pd.DataFrame\n",
    "        Датафрейм со столбцами item_id, weight. Сумма weight по всем товарам = 1\n",
    "    \"\"\"\n",
    "    \n",
    "    # Подсказка: необходимо модифицировать функцию np.random.choice(items, size=n, replace=False, p=)\n",
    "    # your_code\n",
    "    \n",
    "    return recs.tolist()"
   ]
  },
  {
   "cell_type": "code",
   "execution_count": 55,
   "metadata": {
    "colab": {
     "base_uri": "https://localhost:8080/"
    },
    "executionInfo": {
     "elapsed": 7,
     "status": "ok",
     "timestamp": 1639301554783,
     "user": {
      "displayName": "Николай -",
      "photoUrl": "https://lh3.googleusercontent.com/a-/AOh14GiCS90olAsBznR3WLZOaJ5ukcv2LPYBRWvHEQUZ-A=s64",
      "userId": "17372739142422056321"
     },
     "user_tz": -180
    },
    "id": "SYX-brln9vZ0",
    "outputId": "9237f038-3c23-4fa4-b682-c8a5a226b9d4"
   },
   "outputs": [
    {
     "name": "stdout",
     "output_type": "stream",
     "text": [
      "CPU times: user 1e+03 ns, sys: 0 ns, total: 1e+03 ns\n",
      "Wall time: 2.15 µs\n"
     ]
    }
   ],
   "source": [
    "%%time\n",
    "\n",
    "# your_code"
   ]
  },
  {
   "cell_type": "markdown",
   "metadata": {
    "id": "aLDGc1Nn9vZ0"
   },
   "source": [
    "### Выводы по бейзлайнам\n",
    "- Фиксируют базовое качество;\n",
    "- Бейзлайны могут быть фильтрами;\n",
    "- Иногда бейзлайны лучше ML-модели"
   ]
  },
  {
   "cell_type": "markdown",
   "metadata": {
    "id": "2zSBHyu99vZ1"
   },
   "source": [
    "# 2. Детерминированные алгоритмы item-item"
   ]
  },
  {
   "cell_type": "markdown",
   "metadata": {
    "id": "l6pPSWlu9vZ1"
   },
   "source": [
    "## 2.1 Item-Item Recommender / ItemKNN"
   ]
  },
  {
   "cell_type": "markdown",
   "metadata": {
    "id": "hT5Ew6Q29vZ1"
   },
   "source": [
    "[user_item_matrix](https://drive.google.com/file/d/1AtgrATUQ3F60thVGTAN7bpHSSaSESzxP/view?usp=sharing)"
   ]
  },
  {
   "cell_type": "markdown",
   "metadata": {
    "id": "FVa3r6PZ9vZ1"
   },
   "source": [
    "То, что именно находится в матрице user-item нужно определять из бизнес-логики\n",
    "\n",
    "Варианты для нашего датасета(не исчерпывающий список):\n",
    "    - Факт покупки (0 / 1)\n",
    "    - Кол-во покупок (count)\n",
    "    - Сумма покупки, руб\n",
    "    - ...\n",
    "    \n",
    "**Детерминированные алгоритмы**:\n",
    "    - Предсказывают те числа, которые стоят в матрице\n",
    "\n",
    "**ML-алгоритмы (большинство)**:\n",
    "    - В качестве *таргетов* \"под капотом\" принимают 0 и 1 (в ячейке не 0 -> таргет 1)\n",
    "    - А абсолютные значения воспринимают как *веса ошибок*\n",
    "    \n",
    "*P.S.* На самом деле есть много трюков, как можно заполнять матрицу user-item. Об этом мы поговорим на следующих вебинарах"
   ]
  },
  {
   "cell_type": "markdown",
   "metadata": {
    "id": "aPc8RS8-9vZ2"
   },
   "source": [
    "**Как работает User-User Recommender**"
   ]
  },
  {
   "cell_type": "markdown",
   "metadata": {
    "id": "Fhhu1t-m9vZ2"
   },
   "source": [
    "[user_user_recommender](https://drive.google.com/file/d/1qg_ecgjNmymQtfNchzAwxdLCbDXga69Q/view?usp=sharing)"
   ]
  },
  {
   "cell_type": "markdown",
   "metadata": {
    "id": "RXnu2y0l9vZ2"
   },
   "source": [
    "*Шаг 1:* Ищем K ближайших юзеров к целевому юзеру  \n",
    "*Шаг 2*: predict \"скора\" товара = среднему \"скору\" этого товара у его соседей  \n",
    "*Шаг 3*: Сортируем товары по убыванию predict-ов и берем топ-k"
   ]
  },
  {
   "cell_type": "markdown",
   "metadata": {
    "id": "pHGqSI299vZ2"
   },
   "source": [
    "----\n",
    "**(!) Важно** \n",
    "- У item-item алгоритмов большая сложность predict ($O(I^2 log(I))$ или $O(I^3)$, в зависимости от реализации \n",
    "- Если в датасете много item_id, то item-item модели ОЧЕНЬ долго предсказывают. Со всеми товарами predict на тесте ~2 часа\n",
    "- Давайте возьмем из ~90к товаров только 5k самых популярных \n",
    "\n",
    "*P.S.*  Брать топ-Х популярных и рекомендовать только из них - очень популярная стратегия.   \n",
    "*P.P.S.*  В рекомендательных системах много таких трюков. Что-то подобное в курсе вы увидите еще не раз"
   ]
  },
  {
   "cell_type": "code",
   "execution_count": 24,
   "metadata": {
    "colab": {
     "base_uri": "https://localhost:8080/"
    },
    "executionInfo": {
     "elapsed": 271,
     "status": "ok",
     "timestamp": 1639303149183,
     "user": {
      "displayName": "Николай -",
      "photoUrl": "https://lh3.googleusercontent.com/a-/AOh14GiCS90olAsBznR3WLZOaJ5ukcv2LPYBRWvHEQUZ-A=s64",
      "userId": "17372739142422056321"
     },
     "user_tz": -180
    },
    "id": "MW749FQA_ulQ",
    "outputId": "5afd0432-947d-4a8e-a8f6-365c09c6e030"
   },
   "outputs": [
    {
     "data": {
      "text/plain": [
       "89051"
      ]
     },
     "execution_count": 24,
     "metadata": {},
     "output_type": "execute_result"
    }
   ],
   "source": [
    "data.item_id.nunique()"
   ]
  },
  {
   "cell_type": "code",
   "execution_count": 25,
   "metadata": {
    "colab": {
     "base_uri": "https://localhost:8080/",
     "height": 204
    },
    "executionInfo": {
     "elapsed": 8,
     "status": "ok",
     "timestamp": 1639303152354,
     "user": {
      "displayName": "Николай -",
      "photoUrl": "https://lh3.googleusercontent.com/a-/AOh14GiCS90olAsBznR3WLZOaJ5ukcv2LPYBRWvHEQUZ-A=s64",
      "userId": "17372739142422056321"
     },
     "user_tz": -180
    },
    "id": "wDv-Z-go9vZ3",
    "outputId": "9caed2d6-78c1-4627-d117-c37202b9207e"
   },
   "outputs": [
    {
     "data": {
      "text/html": [
       "<div>\n",
       "<style scoped>\n",
       "    .dataframe tbody tr th:only-of-type {\n",
       "        vertical-align: middle;\n",
       "    }\n",
       "\n",
       "    .dataframe tbody tr th {\n",
       "        vertical-align: top;\n",
       "    }\n",
       "\n",
       "    .dataframe thead th {\n",
       "        text-align: right;\n",
       "    }\n",
       "</style>\n",
       "<table border=\"1\" class=\"dataframe\">\n",
       "  <thead>\n",
       "    <tr style=\"text-align: right;\">\n",
       "      <th></th>\n",
       "      <th>item_id</th>\n",
       "      <th>n_sold</th>\n",
       "    </tr>\n",
       "  </thead>\n",
       "  <tbody>\n",
       "    <tr>\n",
       "      <th>0</th>\n",
       "      <td>25671</td>\n",
       "      <td>6</td>\n",
       "    </tr>\n",
       "    <tr>\n",
       "      <th>1</th>\n",
       "      <td>26081</td>\n",
       "      <td>1</td>\n",
       "    </tr>\n",
       "    <tr>\n",
       "      <th>2</th>\n",
       "      <td>26093</td>\n",
       "      <td>1</td>\n",
       "    </tr>\n",
       "    <tr>\n",
       "      <th>3</th>\n",
       "      <td>26190</td>\n",
       "      <td>1</td>\n",
       "    </tr>\n",
       "    <tr>\n",
       "      <th>4</th>\n",
       "      <td>26355</td>\n",
       "      <td>2</td>\n",
       "    </tr>\n",
       "  </tbody>\n",
       "</table>\n",
       "</div>"
      ],
      "text/plain": [
       "   item_id  n_sold\n",
       "0    25671       6\n",
       "1    26081       1\n",
       "2    26093       1\n",
       "3    26190       1\n",
       "4    26355       2"
      ]
     },
     "execution_count": 25,
     "metadata": {},
     "output_type": "execute_result"
    }
   ],
   "source": [
    "popularity = data_train.groupby('item_id')['quantity'].sum().reset_index()\n",
    "popularity.rename(columns={'quantity': 'n_sold'}, inplace=True)\n",
    "\n",
    "popularity.head()"
   ]
  },
  {
   "cell_type": "code",
   "execution_count": 26,
   "metadata": {
    "id": "x-wk3flC9vZ3"
   },
   "outputs": [],
   "source": [
    "top_5000 = popularity.sort_values('n_sold', ascending=False).head(5000).item_id.tolist()"
   ]
  },
  {
   "cell_type": "code",
   "execution_count": 27,
   "metadata": {
    "colab": {
     "base_uri": "https://localhost:8080/"
    },
    "executionInfo": {
     "elapsed": 4,
     "status": "ok",
     "timestamp": 1639303170611,
     "user": {
      "displayName": "Николай -",
      "photoUrl": "https://lh3.googleusercontent.com/a-/AOh14GiCS90olAsBznR3WLZOaJ5ukcv2LPYBRWvHEQUZ-A=s64",
      "userId": "17372739142422056321"
     },
     "user_tz": -180
    },
    "id": "xCJgqs4lAGm6",
    "outputId": "c8e27b2a-d412-4f3c-cd92-a6961092dfd5"
   },
   "outputs": [
    {
     "data": {
      "text/plain": [
       "5000"
      ]
     },
     "execution_count": 27,
     "metadata": {},
     "output_type": "execute_result"
    }
   ],
   "source": [
    "len(top_5000)"
   ]
  },
  {
   "cell_type": "code",
   "execution_count": 28,
   "metadata": {
    "colab": {
     "base_uri": "https://localhost:8080/",
     "height": 204
    },
    "executionInfo": {
     "elapsed": 6,
     "status": "ok",
     "timestamp": 1639303171754,
     "user": {
      "displayName": "Николай -",
      "photoUrl": "https://lh3.googleusercontent.com/a-/AOh14GiCS90olAsBznR3WLZOaJ5ukcv2LPYBRWvHEQUZ-A=s64",
      "userId": "17372739142422056321"
     },
     "user_tz": -180
    },
    "id": "QbuCrSp0tmYj",
    "outputId": "e0083322-6b34-44cf-ff30-7279a9f25741"
   },
   "outputs": [
    {
     "data": {
      "text/html": [
       "<div>\n",
       "<style scoped>\n",
       "    .dataframe tbody tr th:only-of-type {\n",
       "        vertical-align: middle;\n",
       "    }\n",
       "\n",
       "    .dataframe tbody tr th {\n",
       "        vertical-align: top;\n",
       "    }\n",
       "\n",
       "    .dataframe thead th {\n",
       "        text-align: right;\n",
       "    }\n",
       "</style>\n",
       "<table border=\"1\" class=\"dataframe\">\n",
       "  <thead>\n",
       "    <tr style=\"text-align: right;\">\n",
       "      <th></th>\n",
       "      <th>user_id</th>\n",
       "      <th>basket_id</th>\n",
       "      <th>day</th>\n",
       "      <th>item_id</th>\n",
       "      <th>quantity</th>\n",
       "      <th>sales_value</th>\n",
       "      <th>store_id</th>\n",
       "      <th>retail_disc</th>\n",
       "      <th>trans_time</th>\n",
       "      <th>week_no</th>\n",
       "      <th>coupon_disc</th>\n",
       "      <th>coupon_match_disc</th>\n",
       "    </tr>\n",
       "  </thead>\n",
       "  <tbody>\n",
       "    <tr>\n",
       "      <th>0</th>\n",
       "      <td>2375</td>\n",
       "      <td>26984851472</td>\n",
       "      <td>1</td>\n",
       "      <td>1004906</td>\n",
       "      <td>1</td>\n",
       "      <td>1.39</td>\n",
       "      <td>364</td>\n",
       "      <td>-0.60</td>\n",
       "      <td>1631</td>\n",
       "      <td>1</td>\n",
       "      <td>0.0</td>\n",
       "      <td>0.0</td>\n",
       "    </tr>\n",
       "    <tr>\n",
       "      <th>1</th>\n",
       "      <td>2375</td>\n",
       "      <td>26984851472</td>\n",
       "      <td>1</td>\n",
       "      <td>1033142</td>\n",
       "      <td>1</td>\n",
       "      <td>0.82</td>\n",
       "      <td>364</td>\n",
       "      <td>0.00</td>\n",
       "      <td>1631</td>\n",
       "      <td>1</td>\n",
       "      <td>0.0</td>\n",
       "      <td>0.0</td>\n",
       "    </tr>\n",
       "    <tr>\n",
       "      <th>2</th>\n",
       "      <td>2375</td>\n",
       "      <td>26984851472</td>\n",
       "      <td>1</td>\n",
       "      <td>1036325</td>\n",
       "      <td>1</td>\n",
       "      <td>0.99</td>\n",
       "      <td>364</td>\n",
       "      <td>-0.30</td>\n",
       "      <td>1631</td>\n",
       "      <td>1</td>\n",
       "      <td>0.0</td>\n",
       "      <td>0.0</td>\n",
       "    </tr>\n",
       "    <tr>\n",
       "      <th>3</th>\n",
       "      <td>2375</td>\n",
       "      <td>26984851472</td>\n",
       "      <td>1</td>\n",
       "      <td>1082185</td>\n",
       "      <td>1</td>\n",
       "      <td>1.21</td>\n",
       "      <td>364</td>\n",
       "      <td>0.00</td>\n",
       "      <td>1631</td>\n",
       "      <td>1</td>\n",
       "      <td>0.0</td>\n",
       "      <td>0.0</td>\n",
       "    </tr>\n",
       "    <tr>\n",
       "      <th>4</th>\n",
       "      <td>2375</td>\n",
       "      <td>26984851472</td>\n",
       "      <td>1</td>\n",
       "      <td>8160430</td>\n",
       "      <td>1</td>\n",
       "      <td>1.50</td>\n",
       "      <td>364</td>\n",
       "      <td>-0.39</td>\n",
       "      <td>1631</td>\n",
       "      <td>1</td>\n",
       "      <td>0.0</td>\n",
       "      <td>0.0</td>\n",
       "    </tr>\n",
       "  </tbody>\n",
       "</table>\n",
       "</div>"
      ],
      "text/plain": [
       "   user_id    basket_id  day  item_id  quantity  sales_value  store_id  \\\n",
       "0     2375  26984851472    1  1004906         1         1.39       364   \n",
       "1     2375  26984851472    1  1033142         1         0.82       364   \n",
       "2     2375  26984851472    1  1036325         1         0.99       364   \n",
       "3     2375  26984851472    1  1082185         1         1.21       364   \n",
       "4     2375  26984851472    1  8160430         1         1.50       364   \n",
       "\n",
       "   retail_disc  trans_time  week_no  coupon_disc  coupon_match_disc  \n",
       "0        -0.60        1631        1          0.0                0.0  \n",
       "1         0.00        1631        1          0.0                0.0  \n",
       "2        -0.30        1631        1          0.0                0.0  \n",
       "3         0.00        1631        1          0.0                0.0  \n",
       "4        -0.39        1631        1          0.0                0.0  "
      ]
     },
     "execution_count": 28,
     "metadata": {},
     "output_type": "execute_result"
    }
   ],
   "source": [
    "data_train.head()"
   ]
  },
  {
   "cell_type": "code",
   "execution_count": 29,
   "metadata": {
    "colab": {
     "base_uri": "https://localhost:8080/"
    },
    "executionInfo": {
     "elapsed": 827,
     "status": "ok",
     "timestamp": 1639303184056,
     "user": {
      "displayName": "Николай -",
      "photoUrl": "https://lh3.googleusercontent.com/a-/AOh14GiCS90olAsBznR3WLZOaJ5ukcv2LPYBRWvHEQUZ-A=s64",
      "userId": "17372739142422056321"
     },
     "user_tz": -180
    },
    "id": "edGraUUqAxVS",
    "outputId": "5d56f8ca-6584-48be-e062-271e02904037"
   },
   "outputs": [],
   "source": [
    "# Заведем фиктивный item_id (если юзер покупал товары из топ-5000, то он \"купил\" такой товар)\n",
    "data_train.loc[~data_train['item_id'].isin(top_5000), 'item_id'] = 999999"
   ]
  },
  {
   "cell_type": "code",
   "execution_count": 31,
   "metadata": {
    "colab": {
     "base_uri": "https://localhost:8080/"
    },
    "executionInfo": {
     "elapsed": 252,
     "status": "ok",
     "timestamp": 1639303187163,
     "user": {
      "displayName": "Николай -",
      "photoUrl": "https://lh3.googleusercontent.com/a-/AOh14GiCS90olAsBznR3WLZOaJ5ukcv2LPYBRWvHEQUZ-A=s64",
      "userId": "17372739142422056321"
     },
     "user_tz": -180
    },
    "id": "rro35101Aywx",
    "outputId": "ef77e362-1924-41f4-ed77-2cb6e813a5f4"
   },
   "outputs": [
    {
     "data": {
      "text/plain": [
       "5001"
      ]
     },
     "execution_count": 31,
     "metadata": {},
     "output_type": "execute_result"
    }
   ],
   "source": [
    "data_train.item_id.nunique()"
   ]
  },
  {
   "cell_type": "code",
   "execution_count": 32,
   "metadata": {
    "colab": {
     "base_uri": "https://localhost:8080/",
     "height": 222
    },
    "executionInfo": {
     "elapsed": 3852,
     "status": "ok",
     "timestamp": 1639303263008,
     "user": {
      "displayName": "Николай -",
      "photoUrl": "https://lh3.googleusercontent.com/a-/AOh14GiCS90olAsBznR3WLZOaJ5ukcv2LPYBRWvHEQUZ-A=s64",
      "userId": "17372739142422056321"
     },
     "user_tz": -180
    },
    "id": "YgdpUhjj9vZ3",
    "outputId": "7bc24d03-8f5b-4d09-dddb-261ea0f5520c"
   },
   "outputs": [
    {
     "data": {
      "text/html": [
       "<div>\n",
       "<style scoped>\n",
       "    .dataframe tbody tr th:only-of-type {\n",
       "        vertical-align: middle;\n",
       "    }\n",
       "\n",
       "    .dataframe tbody tr th {\n",
       "        vertical-align: top;\n",
       "    }\n",
       "\n",
       "    .dataframe thead th {\n",
       "        text-align: right;\n",
       "    }\n",
       "</style>\n",
       "<table border=\"1\" class=\"dataframe\">\n",
       "  <thead>\n",
       "    <tr style=\"text-align: right;\">\n",
       "      <th>item_id</th>\n",
       "      <th>202291</th>\n",
       "      <th>397896</th>\n",
       "      <th>420647</th>\n",
       "      <th>480014</th>\n",
       "      <th>545926</th>\n",
       "      <th>707683</th>\n",
       "      <th>731106</th>\n",
       "      <th>818980</th>\n",
       "      <th>819063</th>\n",
       "      <th>819227</th>\n",
       "      <th>...</th>\n",
       "      <th>15778533</th>\n",
       "      <th>15831255</th>\n",
       "      <th>15926712</th>\n",
       "      <th>15926775</th>\n",
       "      <th>15926844</th>\n",
       "      <th>15926886</th>\n",
       "      <th>15927403</th>\n",
       "      <th>15927661</th>\n",
       "      <th>15927850</th>\n",
       "      <th>16809471</th>\n",
       "    </tr>\n",
       "    <tr>\n",
       "      <th>user_id</th>\n",
       "      <th></th>\n",
       "      <th></th>\n",
       "      <th></th>\n",
       "      <th></th>\n",
       "      <th></th>\n",
       "      <th></th>\n",
       "      <th></th>\n",
       "      <th></th>\n",
       "      <th></th>\n",
       "      <th></th>\n",
       "      <th></th>\n",
       "      <th></th>\n",
       "      <th></th>\n",
       "      <th></th>\n",
       "      <th></th>\n",
       "      <th></th>\n",
       "      <th></th>\n",
       "      <th></th>\n",
       "      <th></th>\n",
       "      <th></th>\n",
       "      <th></th>\n",
       "    </tr>\n",
       "  </thead>\n",
       "  <tbody>\n",
       "    <tr>\n",
       "      <th>1</th>\n",
       "      <td>0.0</td>\n",
       "      <td>0.0</td>\n",
       "      <td>0.0</td>\n",
       "      <td>0.0</td>\n",
       "      <td>0.0</td>\n",
       "      <td>0.0</td>\n",
       "      <td>0.0</td>\n",
       "      <td>0.0</td>\n",
       "      <td>0.0</td>\n",
       "      <td>0.0</td>\n",
       "      <td>...</td>\n",
       "      <td>0.0</td>\n",
       "      <td>0.0</td>\n",
       "      <td>0.0</td>\n",
       "      <td>0.0</td>\n",
       "      <td>1.0</td>\n",
       "      <td>0.0</td>\n",
       "      <td>0.0</td>\n",
       "      <td>0.0</td>\n",
       "      <td>0.0</td>\n",
       "      <td>0.0</td>\n",
       "    </tr>\n",
       "    <tr>\n",
       "      <th>2</th>\n",
       "      <td>0.0</td>\n",
       "      <td>0.0</td>\n",
       "      <td>0.0</td>\n",
       "      <td>0.0</td>\n",
       "      <td>0.0</td>\n",
       "      <td>0.0</td>\n",
       "      <td>0.0</td>\n",
       "      <td>0.0</td>\n",
       "      <td>0.0</td>\n",
       "      <td>0.0</td>\n",
       "      <td>...</td>\n",
       "      <td>0.0</td>\n",
       "      <td>0.0</td>\n",
       "      <td>0.0</td>\n",
       "      <td>0.0</td>\n",
       "      <td>0.0</td>\n",
       "      <td>0.0</td>\n",
       "      <td>0.0</td>\n",
       "      <td>0.0</td>\n",
       "      <td>0.0</td>\n",
       "      <td>0.0</td>\n",
       "    </tr>\n",
       "    <tr>\n",
       "      <th>3</th>\n",
       "      <td>0.0</td>\n",
       "      <td>0.0</td>\n",
       "      <td>0.0</td>\n",
       "      <td>0.0</td>\n",
       "      <td>0.0</td>\n",
       "      <td>0.0</td>\n",
       "      <td>0.0</td>\n",
       "      <td>0.0</td>\n",
       "      <td>0.0</td>\n",
       "      <td>0.0</td>\n",
       "      <td>...</td>\n",
       "      <td>0.0</td>\n",
       "      <td>0.0</td>\n",
       "      <td>0.0</td>\n",
       "      <td>0.0</td>\n",
       "      <td>0.0</td>\n",
       "      <td>0.0</td>\n",
       "      <td>0.0</td>\n",
       "      <td>0.0</td>\n",
       "      <td>0.0</td>\n",
       "      <td>0.0</td>\n",
       "    </tr>\n",
       "  </tbody>\n",
       "</table>\n",
       "<p>3 rows × 5001 columns</p>\n",
       "</div>"
      ],
      "text/plain": [
       "item_id  202291    397896    420647    480014    545926    707683    731106    \\\n",
       "user_id                                                                         \n",
       "1             0.0       0.0       0.0       0.0       0.0       0.0       0.0   \n",
       "2             0.0       0.0       0.0       0.0       0.0       0.0       0.0   \n",
       "3             0.0       0.0       0.0       0.0       0.0       0.0       0.0   \n",
       "\n",
       "item_id  818980    819063    819227    ...  15778533  15831255  15926712  \\\n",
       "user_id                                ...                                 \n",
       "1             0.0       0.0       0.0  ...       0.0       0.0       0.0   \n",
       "2             0.0       0.0       0.0  ...       0.0       0.0       0.0   \n",
       "3             0.0       0.0       0.0  ...       0.0       0.0       0.0   \n",
       "\n",
       "item_id  15926775  15926844  15926886  15927403  15927661  15927850  16809471  \n",
       "user_id                                                                        \n",
       "1             0.0       1.0       0.0       0.0       0.0       0.0       0.0  \n",
       "2             0.0       0.0       0.0       0.0       0.0       0.0       0.0  \n",
       "3             0.0       0.0       0.0       0.0       0.0       0.0       0.0  \n",
       "\n",
       "[3 rows x 5001 columns]"
      ]
     },
     "execution_count": 32,
     "metadata": {},
     "output_type": "execute_result"
    }
   ],
   "source": [
    "user_item_matrix = pd.pivot_table(data_train, \n",
    "                                  index='user_id', \n",
    "                                  columns='item_id', \n",
    "                                  values='quantity',\n",
    "                                  aggfunc='count', \n",
    "                                  fill_value=0\n",
    "                                 )\n",
    "\n",
    "user_item_matrix[user_item_matrix > 0] = 1 # так как в итоге хотим предсказать \n",
    "user_item_matrix = user_item_matrix.astype(float) # необходимый тип матрицы для implicit\n",
    "\n",
    "# переведем в формат saprse matrix\n",
    "sparse_user_item = csr_matrix(user_item_matrix).tocsr()\n",
    "\n",
    "user_item_matrix.head(3)"
   ]
  },
  {
   "cell_type": "code",
   "execution_count": 33,
   "metadata": {
    "colab": {
     "base_uri": "https://localhost:8080/"
    },
    "executionInfo": {
     "elapsed": 382,
     "status": "ok",
     "timestamp": 1639303264555,
     "user": {
      "displayName": "Николай -",
      "photoUrl": "https://lh3.googleusercontent.com/a-/AOh14GiCS90olAsBznR3WLZOaJ5ukcv2LPYBRWvHEQUZ-A=s64",
      "userId": "17372739142422056321"
     },
     "user_tz": -180
    },
    "id": "-KLuD0KyBvsG",
    "outputId": "818d136d-b6c2-4942-f93d-a5bb7804438f"
   },
   "outputs": [
    {
     "data": {
      "text/plain": [
       "<2499x5001 sparse matrix of type '<class 'numpy.float64'>'\n",
       "\twith 667080 stored elements in Compressed Sparse Row format>"
      ]
     },
     "execution_count": 33,
     "metadata": {},
     "output_type": "execute_result"
    }
   ],
   "source": [
    "sparse_user_item"
   ]
  },
  {
   "cell_type": "code",
   "execution_count": 34,
   "metadata": {
    "colab": {
     "base_uri": "https://localhost:8080/"
    },
    "executionInfo": {
     "elapsed": 258,
     "status": "ok",
     "timestamp": 1639303290560,
     "user": {
      "displayName": "Николай -",
      "photoUrl": "https://lh3.googleusercontent.com/a-/AOh14GiCS90olAsBznR3WLZOaJ5ukcv2LPYBRWvHEQUZ-A=s64",
      "userId": "17372739142422056321"
     },
     "user_tz": -180
    },
    "id": "cHskXAUS9vZ4",
    "outputId": "34007927-8f31-4810-a1d0-a13bd540025a"
   },
   "outputs": [
    {
     "data": {
      "text/plain": [
       "(2499, 5001)"
      ]
     },
     "execution_count": 34,
     "metadata": {},
     "output_type": "execute_result"
    }
   ],
   "source": [
    "user_item_matrix.shape"
   ]
  },
  {
   "cell_type": "code",
   "execution_count": 35,
   "metadata": {
    "colab": {
     "base_uri": "https://localhost:8080/"
    },
    "executionInfo": {
     "elapsed": 256,
     "status": "ok",
     "timestamp": 1639303309677,
     "user": {
      "displayName": "Николай -",
      "photoUrl": "https://lh3.googleusercontent.com/a-/AOh14GiCS90olAsBznR3WLZOaJ5ukcv2LPYBRWvHEQUZ-A=s64",
      "userId": "17372739142422056321"
     },
     "user_tz": -180
    },
    "id": "S40FKZOu9vZ4",
    "outputId": "0d42daab-1799-48e8-a24a-5161e57ed765"
   },
   "outputs": [
    {
     "data": {
      "text/plain": [
       "5.33770796861036"
      ]
     },
     "execution_count": 35,
     "metadata": {},
     "output_type": "execute_result"
    }
   ],
   "source": [
    "user_item_matrix.sum().sum() / (user_item_matrix.shape[0] * user_item_matrix.shape[1]) * 100"
   ]
  },
  {
   "cell_type": "code",
   "execution_count": 37,
   "metadata": {
    "id": "BE-rk3Yd9vZ4"
   },
   "outputs": [],
   "source": [
    "userids = user_item_matrix.index.values\n",
    "itemids = user_item_matrix.columns.values\n",
    "\n",
    "matrix_userids = np.arange(len(userids))\n",
    "matrix_itemids = np.arange(len(itemids))\n",
    "\n",
    "id_to_itemid = dict(zip(matrix_itemids, itemids))\n",
    "id_to_userid = dict(zip(matrix_userids, userids))\n",
    "\n",
    "itemid_to_id = dict(zip(itemids, matrix_itemids))\n",
    "userid_to_id = dict(zip(userids, matrix_userids))"
   ]
  },
  {
   "cell_type": "code",
   "execution_count": 40,
   "metadata": {
    "colab": {
     "base_uri": "https://localhost:8080/"
    },
    "executionInfo": {
     "elapsed": 264,
     "status": "ok",
     "timestamp": 1639303394436,
     "user": {
      "displayName": "Николай -",
      "photoUrl": "https://lh3.googleusercontent.com/a-/AOh14GiCS90olAsBznR3WLZOaJ5ukcv2LPYBRWvHEQUZ-A=s64",
      "userId": "17372739142422056321"
     },
     "user_tz": -180
    },
    "id": "MUQPY0ylGK6p",
    "outputId": "067a2db8-e8b8-400b-a8cb-95431ac9ec75"
   },
   "outputs": [
    {
     "data": {
      "text/plain": [
       "array([   0,    1,    2, ..., 4998, 4999, 5000])"
      ]
     },
     "execution_count": 40,
     "metadata": {},
     "output_type": "execute_result"
    }
   ],
   "source": [
    "matrix_itemids"
   ]
  },
  {
   "cell_type": "code",
   "execution_count": 39,
   "metadata": {
    "colab": {
     "base_uri": "https://localhost:8080/",
     "height": 470
    },
    "executionInfo": {
     "elapsed": 462,
     "status": "ok",
     "timestamp": 1639303427974,
     "user": {
      "displayName": "Николай -",
      "photoUrl": "https://lh3.googleusercontent.com/a-/AOh14GiCS90olAsBznR3WLZOaJ5ukcv2LPYBRWvHEQUZ-A=s64",
      "userId": "17372739142422056321"
     },
     "user_tz": -180
    },
    "id": "u7IthsWBKsvQ",
    "outputId": "fbdd937f-d5a4-42ae-9d6c-a82789fafb34"
   },
   "outputs": [
    {
     "data": {
      "text/html": [
       "<div>\n",
       "<style scoped>\n",
       "    .dataframe tbody tr th:only-of-type {\n",
       "        vertical-align: middle;\n",
       "    }\n",
       "\n",
       "    .dataframe tbody tr th {\n",
       "        vertical-align: top;\n",
       "    }\n",
       "\n",
       "    .dataframe thead th {\n",
       "        text-align: right;\n",
       "    }\n",
       "</style>\n",
       "<table border=\"1\" class=\"dataframe\">\n",
       "  <thead>\n",
       "    <tr style=\"text-align: right;\">\n",
       "      <th>item_id</th>\n",
       "      <th>202291</th>\n",
       "      <th>397896</th>\n",
       "      <th>420647</th>\n",
       "      <th>480014</th>\n",
       "      <th>545926</th>\n",
       "      <th>707683</th>\n",
       "      <th>731106</th>\n",
       "      <th>818980</th>\n",
       "      <th>819063</th>\n",
       "      <th>819227</th>\n",
       "      <th>...</th>\n",
       "      <th>15778533</th>\n",
       "      <th>15831255</th>\n",
       "      <th>15926712</th>\n",
       "      <th>15926775</th>\n",
       "      <th>15926844</th>\n",
       "      <th>15926886</th>\n",
       "      <th>15927403</th>\n",
       "      <th>15927661</th>\n",
       "      <th>15927850</th>\n",
       "      <th>16809471</th>\n",
       "    </tr>\n",
       "    <tr>\n",
       "      <th>user_id</th>\n",
       "      <th></th>\n",
       "      <th></th>\n",
       "      <th></th>\n",
       "      <th></th>\n",
       "      <th></th>\n",
       "      <th></th>\n",
       "      <th></th>\n",
       "      <th></th>\n",
       "      <th></th>\n",
       "      <th></th>\n",
       "      <th></th>\n",
       "      <th></th>\n",
       "      <th></th>\n",
       "      <th></th>\n",
       "      <th></th>\n",
       "      <th></th>\n",
       "      <th></th>\n",
       "      <th></th>\n",
       "      <th></th>\n",
       "      <th></th>\n",
       "      <th></th>\n",
       "    </tr>\n",
       "  </thead>\n",
       "  <tbody>\n",
       "    <tr>\n",
       "      <th>1</th>\n",
       "      <td>0.0</td>\n",
       "      <td>0.0</td>\n",
       "      <td>0.0</td>\n",
       "      <td>0.0</td>\n",
       "      <td>0.0</td>\n",
       "      <td>0.0</td>\n",
       "      <td>0.0</td>\n",
       "      <td>0.0</td>\n",
       "      <td>0.0</td>\n",
       "      <td>0.0</td>\n",
       "      <td>...</td>\n",
       "      <td>0.0</td>\n",
       "      <td>0.0</td>\n",
       "      <td>0.0</td>\n",
       "      <td>0.0</td>\n",
       "      <td>1.0</td>\n",
       "      <td>0.0</td>\n",
       "      <td>0.0</td>\n",
       "      <td>0.0</td>\n",
       "      <td>0.0</td>\n",
       "      <td>0.0</td>\n",
       "    </tr>\n",
       "    <tr>\n",
       "      <th>2</th>\n",
       "      <td>0.0</td>\n",
       "      <td>0.0</td>\n",
       "      <td>0.0</td>\n",
       "      <td>0.0</td>\n",
       "      <td>0.0</td>\n",
       "      <td>0.0</td>\n",
       "      <td>0.0</td>\n",
       "      <td>0.0</td>\n",
       "      <td>0.0</td>\n",
       "      <td>0.0</td>\n",
       "      <td>...</td>\n",
       "      <td>0.0</td>\n",
       "      <td>0.0</td>\n",
       "      <td>0.0</td>\n",
       "      <td>0.0</td>\n",
       "      <td>0.0</td>\n",
       "      <td>0.0</td>\n",
       "      <td>0.0</td>\n",
       "      <td>0.0</td>\n",
       "      <td>0.0</td>\n",
       "      <td>0.0</td>\n",
       "    </tr>\n",
       "    <tr>\n",
       "      <th>3</th>\n",
       "      <td>0.0</td>\n",
       "      <td>0.0</td>\n",
       "      <td>0.0</td>\n",
       "      <td>0.0</td>\n",
       "      <td>0.0</td>\n",
       "      <td>0.0</td>\n",
       "      <td>0.0</td>\n",
       "      <td>0.0</td>\n",
       "      <td>0.0</td>\n",
       "      <td>0.0</td>\n",
       "      <td>...</td>\n",
       "      <td>0.0</td>\n",
       "      <td>0.0</td>\n",
       "      <td>0.0</td>\n",
       "      <td>0.0</td>\n",
       "      <td>0.0</td>\n",
       "      <td>0.0</td>\n",
       "      <td>0.0</td>\n",
       "      <td>0.0</td>\n",
       "      <td>0.0</td>\n",
       "      <td>0.0</td>\n",
       "    </tr>\n",
       "    <tr>\n",
       "      <th>4</th>\n",
       "      <td>0.0</td>\n",
       "      <td>0.0</td>\n",
       "      <td>0.0</td>\n",
       "      <td>0.0</td>\n",
       "      <td>0.0</td>\n",
       "      <td>0.0</td>\n",
       "      <td>0.0</td>\n",
       "      <td>0.0</td>\n",
       "      <td>0.0</td>\n",
       "      <td>0.0</td>\n",
       "      <td>...</td>\n",
       "      <td>0.0</td>\n",
       "      <td>0.0</td>\n",
       "      <td>0.0</td>\n",
       "      <td>0.0</td>\n",
       "      <td>0.0</td>\n",
       "      <td>0.0</td>\n",
       "      <td>0.0</td>\n",
       "      <td>0.0</td>\n",
       "      <td>0.0</td>\n",
       "      <td>0.0</td>\n",
       "    </tr>\n",
       "    <tr>\n",
       "      <th>5</th>\n",
       "      <td>0.0</td>\n",
       "      <td>0.0</td>\n",
       "      <td>0.0</td>\n",
       "      <td>0.0</td>\n",
       "      <td>0.0</td>\n",
       "      <td>0.0</td>\n",
       "      <td>0.0</td>\n",
       "      <td>0.0</td>\n",
       "      <td>0.0</td>\n",
       "      <td>0.0</td>\n",
       "      <td>...</td>\n",
       "      <td>0.0</td>\n",
       "      <td>0.0</td>\n",
       "      <td>0.0</td>\n",
       "      <td>0.0</td>\n",
       "      <td>0.0</td>\n",
       "      <td>0.0</td>\n",
       "      <td>0.0</td>\n",
       "      <td>0.0</td>\n",
       "      <td>0.0</td>\n",
       "      <td>0.0</td>\n",
       "    </tr>\n",
       "    <tr>\n",
       "      <th>...</th>\n",
       "      <td>...</td>\n",
       "      <td>...</td>\n",
       "      <td>...</td>\n",
       "      <td>...</td>\n",
       "      <td>...</td>\n",
       "      <td>...</td>\n",
       "      <td>...</td>\n",
       "      <td>...</td>\n",
       "      <td>...</td>\n",
       "      <td>...</td>\n",
       "      <td>...</td>\n",
       "      <td>...</td>\n",
       "      <td>...</td>\n",
       "      <td>...</td>\n",
       "      <td>...</td>\n",
       "      <td>...</td>\n",
       "      <td>...</td>\n",
       "      <td>...</td>\n",
       "      <td>...</td>\n",
       "      <td>...</td>\n",
       "      <td>...</td>\n",
       "    </tr>\n",
       "    <tr>\n",
       "      <th>2496</th>\n",
       "      <td>0.0</td>\n",
       "      <td>0.0</td>\n",
       "      <td>0.0</td>\n",
       "      <td>0.0</td>\n",
       "      <td>0.0</td>\n",
       "      <td>0.0</td>\n",
       "      <td>0.0</td>\n",
       "      <td>0.0</td>\n",
       "      <td>0.0</td>\n",
       "      <td>0.0</td>\n",
       "      <td>...</td>\n",
       "      <td>0.0</td>\n",
       "      <td>0.0</td>\n",
       "      <td>0.0</td>\n",
       "      <td>0.0</td>\n",
       "      <td>0.0</td>\n",
       "      <td>0.0</td>\n",
       "      <td>0.0</td>\n",
       "      <td>0.0</td>\n",
       "      <td>0.0</td>\n",
       "      <td>0.0</td>\n",
       "    </tr>\n",
       "    <tr>\n",
       "      <th>2497</th>\n",
       "      <td>0.0</td>\n",
       "      <td>0.0</td>\n",
       "      <td>0.0</td>\n",
       "      <td>0.0</td>\n",
       "      <td>0.0</td>\n",
       "      <td>0.0</td>\n",
       "      <td>0.0</td>\n",
       "      <td>0.0</td>\n",
       "      <td>0.0</td>\n",
       "      <td>0.0</td>\n",
       "      <td>...</td>\n",
       "      <td>0.0</td>\n",
       "      <td>1.0</td>\n",
       "      <td>0.0</td>\n",
       "      <td>0.0</td>\n",
       "      <td>0.0</td>\n",
       "      <td>0.0</td>\n",
       "      <td>0.0</td>\n",
       "      <td>0.0</td>\n",
       "      <td>0.0</td>\n",
       "      <td>0.0</td>\n",
       "    </tr>\n",
       "    <tr>\n",
       "      <th>2498</th>\n",
       "      <td>1.0</td>\n",
       "      <td>0.0</td>\n",
       "      <td>0.0</td>\n",
       "      <td>0.0</td>\n",
       "      <td>0.0</td>\n",
       "      <td>0.0</td>\n",
       "      <td>0.0</td>\n",
       "      <td>0.0</td>\n",
       "      <td>0.0</td>\n",
       "      <td>0.0</td>\n",
       "      <td>...</td>\n",
       "      <td>0.0</td>\n",
       "      <td>0.0</td>\n",
       "      <td>0.0</td>\n",
       "      <td>0.0</td>\n",
       "      <td>0.0</td>\n",
       "      <td>0.0</td>\n",
       "      <td>0.0</td>\n",
       "      <td>0.0</td>\n",
       "      <td>0.0</td>\n",
       "      <td>0.0</td>\n",
       "    </tr>\n",
       "    <tr>\n",
       "      <th>2499</th>\n",
       "      <td>0.0</td>\n",
       "      <td>0.0</td>\n",
       "      <td>0.0</td>\n",
       "      <td>0.0</td>\n",
       "      <td>0.0</td>\n",
       "      <td>0.0</td>\n",
       "      <td>0.0</td>\n",
       "      <td>0.0</td>\n",
       "      <td>0.0</td>\n",
       "      <td>0.0</td>\n",
       "      <td>...</td>\n",
       "      <td>0.0</td>\n",
       "      <td>0.0</td>\n",
       "      <td>0.0</td>\n",
       "      <td>0.0</td>\n",
       "      <td>0.0</td>\n",
       "      <td>0.0</td>\n",
       "      <td>0.0</td>\n",
       "      <td>0.0</td>\n",
       "      <td>0.0</td>\n",
       "      <td>0.0</td>\n",
       "    </tr>\n",
       "    <tr>\n",
       "      <th>2500</th>\n",
       "      <td>0.0</td>\n",
       "      <td>0.0</td>\n",
       "      <td>0.0</td>\n",
       "      <td>0.0</td>\n",
       "      <td>0.0</td>\n",
       "      <td>0.0</td>\n",
       "      <td>0.0</td>\n",
       "      <td>0.0</td>\n",
       "      <td>0.0</td>\n",
       "      <td>0.0</td>\n",
       "      <td>...</td>\n",
       "      <td>0.0</td>\n",
       "      <td>0.0</td>\n",
       "      <td>0.0</td>\n",
       "      <td>0.0</td>\n",
       "      <td>0.0</td>\n",
       "      <td>0.0</td>\n",
       "      <td>0.0</td>\n",
       "      <td>0.0</td>\n",
       "      <td>0.0</td>\n",
       "      <td>0.0</td>\n",
       "    </tr>\n",
       "  </tbody>\n",
       "</table>\n",
       "<p>2499 rows × 5001 columns</p>\n",
       "</div>"
      ],
      "text/plain": [
       "item_id  202291    397896    420647    480014    545926    707683    731106    \\\n",
       "user_id                                                                         \n",
       "1             0.0       0.0       0.0       0.0       0.0       0.0       0.0   \n",
       "2             0.0       0.0       0.0       0.0       0.0       0.0       0.0   \n",
       "3             0.0       0.0       0.0       0.0       0.0       0.0       0.0   \n",
       "4             0.0       0.0       0.0       0.0       0.0       0.0       0.0   \n",
       "5             0.0       0.0       0.0       0.0       0.0       0.0       0.0   \n",
       "...           ...       ...       ...       ...       ...       ...       ...   \n",
       "2496          0.0       0.0       0.0       0.0       0.0       0.0       0.0   \n",
       "2497          0.0       0.0       0.0       0.0       0.0       0.0       0.0   \n",
       "2498          1.0       0.0       0.0       0.0       0.0       0.0       0.0   \n",
       "2499          0.0       0.0       0.0       0.0       0.0       0.0       0.0   \n",
       "2500          0.0       0.0       0.0       0.0       0.0       0.0       0.0   \n",
       "\n",
       "item_id  818980    819063    819227    ...  15778533  15831255  15926712  \\\n",
       "user_id                                ...                                 \n",
       "1             0.0       0.0       0.0  ...       0.0       0.0       0.0   \n",
       "2             0.0       0.0       0.0  ...       0.0       0.0       0.0   \n",
       "3             0.0       0.0       0.0  ...       0.0       0.0       0.0   \n",
       "4             0.0       0.0       0.0  ...       0.0       0.0       0.0   \n",
       "5             0.0       0.0       0.0  ...       0.0       0.0       0.0   \n",
       "...           ...       ...       ...  ...       ...       ...       ...   \n",
       "2496          0.0       0.0       0.0  ...       0.0       0.0       0.0   \n",
       "2497          0.0       0.0       0.0  ...       0.0       1.0       0.0   \n",
       "2498          0.0       0.0       0.0  ...       0.0       0.0       0.0   \n",
       "2499          0.0       0.0       0.0  ...       0.0       0.0       0.0   \n",
       "2500          0.0       0.0       0.0  ...       0.0       0.0       0.0   \n",
       "\n",
       "item_id  15926775  15926844  15926886  15927403  15927661  15927850  16809471  \n",
       "user_id                                                                        \n",
       "1             0.0       1.0       0.0       0.0       0.0       0.0       0.0  \n",
       "2             0.0       0.0       0.0       0.0       0.0       0.0       0.0  \n",
       "3             0.0       0.0       0.0       0.0       0.0       0.0       0.0  \n",
       "4             0.0       0.0       0.0       0.0       0.0       0.0       0.0  \n",
       "5             0.0       0.0       0.0       0.0       0.0       0.0       0.0  \n",
       "...           ...       ...       ...       ...       ...       ...       ...  \n",
       "2496          0.0       0.0       0.0       0.0       0.0       0.0       0.0  \n",
       "2497          0.0       0.0       0.0       0.0       0.0       0.0       0.0  \n",
       "2498          0.0       0.0       0.0       0.0       0.0       0.0       0.0  \n",
       "2499          0.0       0.0       0.0       0.0       0.0       0.0       0.0  \n",
       "2500          0.0       0.0       0.0       0.0       0.0       0.0       0.0  \n",
       "\n",
       "[2499 rows x 5001 columns]"
      ]
     },
     "execution_count": 39,
     "metadata": {},
     "output_type": "execute_result"
    }
   ],
   "source": [
    "user_item_matrix"
   ]
  },
  {
   "cell_type": "code",
   "execution_count": 41,
   "metadata": {
    "colab": {
     "base_uri": "https://localhost:8080/",
     "height": 83,
     "referenced_widgets": [
      "b4ab621b993f4a879c627d4c22447ead",
      "345b6b3525274c62bde7964180349268",
      "e7bd2cb80d2b4379abe45543120cae29",
      "29e272438def4be49be8607110d4c302",
      "43aa43b8855b46e59a849c3e0173bf50",
      "be01f0ee5ed8442a9da833c6e3a609b5",
      "9e54299536b941398446e57f99e04292",
      "b978246119e942c7818b126e9b902b3a",
      "3030024ab2ff42e2bd89420b1b72ae6f",
      "083fdc34807a499f8cad4ba4e195a479",
      "c8efb5bfcee14732bdaeed7c430c235e"
     ]
    },
    "executionInfo": {
     "elapsed": 2023,
     "status": "ok",
     "timestamp": 1639303555133,
     "user": {
      "displayName": "Николай -",
      "photoUrl": "https://lh3.googleusercontent.com/a-/AOh14GiCS90olAsBznR3WLZOaJ5ukcv2LPYBRWvHEQUZ-A=s64",
      "userId": "17372739142422056321"
     },
     "user_tz": -180
    },
    "id": "LI9gAo_m9vZ5",
    "outputId": "bf5f9e29-35a0-4a23-d600-83db9469d03a"
   },
   "outputs": [
    {
     "data": {
      "application/vnd.jupyter.widget-view+json": {
       "model_id": "2920777b4e6f4ef191275acd5b6126bc",
       "version_major": 2,
       "version_minor": 0
      },
      "text/plain": [
       "  0%|          | 0/5001 [00:00<?, ?it/s]"
      ]
     },
     "metadata": {},
     "output_type": "display_data"
    },
    {
     "name": "stdout",
     "output_type": "stream",
     "text": [
      "CPU times: user 847 ms, sys: 27 ms, total: 874 ms\n",
      "Wall time: 1.01 s\n"
     ]
    }
   ],
   "source": [
    "%%time\n",
    "\n",
    "model = ItemItemRecommender(K=5, num_threads=4) # K - кол-во билжайших соседей\n",
    "\n",
    "model.fit(csr_matrix(user_item_matrix).T.tocsr(),  # На вход item-user matrix\n",
    "          show_progress=True)"
   ]
  },
  {
   "cell_type": "code",
   "execution_count": 42,
   "metadata": {
    "colab": {
     "base_uri": "https://localhost:8080/"
    },
    "executionInfo": {
     "elapsed": 261,
     "status": "ok",
     "timestamp": 1639303593834,
     "user": {
      "displayName": "Николай -",
      "photoUrl": "https://lh3.googleusercontent.com/a-/AOh14GiCS90olAsBznR3WLZOaJ5ukcv2LPYBRWvHEQUZ-A=s64",
      "userId": "17372739142422056321"
     },
     "user_tz": -180
    },
    "id": "BfLV5RPXETGD",
    "outputId": "21dcc832-2c02-44c8-8d95-13151204a311"
   },
   "outputs": [
    {
     "data": {
      "text/plain": [
       "count    118314.000000\n",
       "mean       1274.589499\n",
       "std         718.479723\n",
       "min           1.000000\n",
       "25%         679.000000\n",
       "50%        1282.000000\n",
       "75%        1917.000000\n",
       "max        2500.000000\n",
       "Name: user_id, dtype: float64"
      ]
     },
     "execution_count": 42,
     "metadata": {},
     "output_type": "execute_result"
    }
   ],
   "source": [
    "data_test.user_id.describe()"
   ]
  },
  {
   "cell_type": "code",
   "execution_count": 72,
   "metadata": {
    "colab": {
     "base_uri": "https://localhost:8080/"
    },
    "executionInfo": {
     "elapsed": 324,
     "status": "ok",
     "timestamp": 1639303599801,
     "user": {
      "displayName": "Николай -",
      "photoUrl": "https://lh3.googleusercontent.com/a-/AOh14GiCS90olAsBznR3WLZOaJ5ukcv2LPYBRWvHEQUZ-A=s64",
      "userId": "17372739142422056321"
     },
     "user_tz": -180
    },
    "id": "eQM6q_r-EItY",
    "outputId": "d8398c87-fd32-4715-d61e-7c74b6aeec93"
   },
   "outputs": [
    {
     "data": {
      "text/plain": [
       "12"
      ]
     },
     "execution_count": 72,
     "metadata": {},
     "output_type": "execute_result"
    }
   ],
   "source": [
    "userid_to_id[13]"
   ]
  },
  {
   "cell_type": "code",
   "execution_count": 43,
   "metadata": {
    "pycharm": {
     "name": "#%%\n"
    }
   },
   "outputs": [
    {
     "data": {
      "text/plain": [
       "13"
      ]
     },
     "execution_count": 43,
     "metadata": {},
     "output_type": "execute_result"
    }
   ],
   "source": [
    "id_to_userid[12]"
   ]
  },
  {
   "cell_type": "code",
   "execution_count": 44,
   "metadata": {
    "id": "iLuh78DsEBow"
   },
   "outputs": [],
   "source": [
    "recs = model.recommend(userid=userid_to_id[13],  # userid - id от 0 до N\n",
    "                        user_items=csr_matrix(user_item_matrix).tocsr(),   # на вход user-item matrix - нет .T !!!\n",
    "                        N=5, # кол-во рекомендаций \n",
    "                        filter_already_liked_items=False, \n",
    "                        filter_items=None, \n",
    "                        recalculate_user=True)"
   ]
  },
  {
   "cell_type": "code",
   "execution_count": 45,
   "metadata": {
    "colab": {
     "base_uri": "https://localhost:8080/"
    },
    "executionInfo": {
     "elapsed": 373,
     "status": "ok",
     "timestamp": 1639303658994,
     "user": {
      "displayName": "Николай -",
      "photoUrl": "https://lh3.googleusercontent.com/a-/AOh14GiCS90olAsBznR3WLZOaJ5ukcv2LPYBRWvHEQUZ-A=s64",
      "userId": "17372739142422056321"
     },
     "user_tz": -180
    },
    "id": "QrFlptpo9vZ5",
    "outputId": "3300c12f-fae4-4433-8132-9d8cba780f38"
   },
   "outputs": [
    {
     "data": {
      "text/plain": [
       "[(2381, 98195.0),\n",
       " (3408, 90149.0),\n",
       " (2148, 72193.0),\n",
       " (3587, 19332.0),\n",
       " (3947, 19126.0)]"
      ]
     },
     "execution_count": 45,
     "metadata": {},
     "output_type": "execute_result"
    }
   ],
   "source": [
    "recs"
   ]
  },
  {
   "cell_type": "code",
   "execution_count": 48,
   "metadata": {
    "colab": {
     "base_uri": "https://localhost:8080/"
    },
    "executionInfo": {
     "elapsed": 263,
     "status": "ok",
     "timestamp": 1639303714140,
     "user": {
      "displayName": "Николай -",
      "photoUrl": "https://lh3.googleusercontent.com/a-/AOh14GiCS90olAsBznR3WLZOaJ5ukcv2LPYBRWvHEQUZ-A=s64",
      "userId": "17372739142422056321"
     },
     "user_tz": -180
    },
    "id": "EGx2oEo1HU6P",
    "outputId": "bd540048-2a73-4c5d-b8f6-84361927420b"
   },
   "outputs": [
    {
     "data": {
      "text/plain": [
       "1082185"
      ]
     },
     "execution_count": 48,
     "metadata": {},
     "output_type": "execute_result"
    }
   ],
   "source": [
    "id_to_itemid[recs[1][0]]"
   ]
  },
  {
   "cell_type": "code",
   "execution_count": 49,
   "metadata": {
    "colab": {
     "base_uri": "https://localhost:8080/"
    },
    "executionInfo": {
     "elapsed": 272,
     "status": "ok",
     "timestamp": 1639303729087,
     "user": {
      "displayName": "Николай -",
      "photoUrl": "https://lh3.googleusercontent.com/a-/AOh14GiCS90olAsBznR3WLZOaJ5ukcv2LPYBRWvHEQUZ-A=s64",
      "userId": "17372739142422056321"
     },
     "user_tz": -180
    },
    "id": "Ge8XBxJh9vZ5",
    "outputId": "44f2cacb-da4b-4fe6-c629-c265daf7eade"
   },
   "outputs": [
    {
     "data": {
      "text/plain": [
       "[999999, 1082185, 981760, 1098066, 1127831]"
      ]
     },
     "execution_count": 49,
     "metadata": {},
     "output_type": "execute_result"
    }
   ],
   "source": [
    "[id_to_itemid[rec[0]] for rec in recs]"
   ]
  },
  {
   "cell_type": "code",
   "execution_count": 50,
   "metadata": {
    "colab": {
     "base_uri": "https://localhost:8080/"
    },
    "executionInfo": {
     "elapsed": 263,
     "status": "ok",
     "timestamp": 1639303783136,
     "user": {
      "displayName": "Николай -",
      "photoUrl": "https://lh3.googleusercontent.com/a-/AOh14GiCS90olAsBznR3WLZOaJ5ukcv2LPYBRWvHEQUZ-A=s64",
      "userId": "17372739142422056321"
     },
     "user_tz": -180
    },
    "id": "snffzi3CHpyV",
    "outputId": "488223e7-0409-43b5-daf6-ee7f388c5ce6"
   },
   "outputs": [
    {
     "data": {
      "text/plain": [
       "2381"
      ]
     },
     "execution_count": 50,
     "metadata": {},
     "output_type": "execute_result"
    }
   ],
   "source": [
    "itemid_to_id[999999]"
   ]
  },
  {
   "cell_type": "code",
   "execution_count": 52,
   "metadata": {
    "colab": {
     "base_uri": "https://localhost:8080/"
    },
    "executionInfo": {
     "elapsed": 285,
     "status": "ok",
     "timestamp": 1639304040608,
     "user": {
      "displayName": "Николай -",
      "photoUrl": "https://lh3.googleusercontent.com/a-/AOh14GiCS90olAsBznR3WLZOaJ5ukcv2LPYBRWvHEQUZ-A=s64",
      "userId": "17372739142422056321"
     },
     "user_tz": -180
    },
    "id": "2x6k4S0b9vZ5",
    "outputId": "6fb0b913-dc51-4b4b-9996-2df5b926fe31"
   },
   "outputs": [
    {
     "name": "stdout",
     "output_type": "stream",
     "text": [
      "CPU times: user 44.3 ms, sys: 1.97 ms, total: 46.3 ms\n",
      "Wall time: 45.2 ms\n"
     ]
    }
   ],
   "source": [
    "%%time\n",
    "\n",
    "result['itemitem'] = result['user_id'].\\\n",
    "    apply(lambda x: [id_to_itemid[rec[0]] for rec in \n",
    "                    model.recommend(userid=userid_to_id[x], \n",
    "                                    user_items=sparse_user_item,   # на вход user-item matrix\n",
    "                                    N=5, \n",
    "                                    filter_already_liked_items=False, \n",
    "                                    filter_items=[ itemid_to_id[999999] ],\n",
    "                                    recalculate_user=True)\n",
    "                    ])"
   ]
  },
  {
   "cell_type": "code",
   "execution_count": 53,
   "metadata": {
    "colab": {
     "base_uri": "https://localhost:8080/",
     "height": 111
    },
    "executionInfo": {
     "elapsed": 271,
     "status": "ok",
     "timestamp": 1639304045101,
     "user": {
      "displayName": "Николай -",
      "photoUrl": "https://lh3.googleusercontent.com/a-/AOh14GiCS90olAsBznR3WLZOaJ5ukcv2LPYBRWvHEQUZ-A=s64",
      "userId": "17372739142422056321"
     },
     "user_tz": -180
    },
    "id": "ha4xk7bE9vZ6",
    "outputId": "02d22bbc-4307-416a-ea66-80c0176ebe78"
   },
   "outputs": [
    {
     "data": {
      "text/html": [
       "<div>\n",
       "<style scoped>\n",
       "    .dataframe tbody tr th:only-of-type {\n",
       "        vertical-align: middle;\n",
       "    }\n",
       "\n",
       "    .dataframe tbody tr th {\n",
       "        vertical-align: top;\n",
       "    }\n",
       "\n",
       "    .dataframe thead th {\n",
       "        text-align: right;\n",
       "    }\n",
       "</style>\n",
       "<table border=\"1\" class=\"dataframe\">\n",
       "  <thead>\n",
       "    <tr style=\"text-align: right;\">\n",
       "      <th></th>\n",
       "      <th>user_id</th>\n",
       "      <th>actual</th>\n",
       "      <th>random_recommendation</th>\n",
       "      <th>popular_recommendation</th>\n",
       "      <th>itemitem</th>\n",
       "    </tr>\n",
       "  </thead>\n",
       "  <tbody>\n",
       "    <tr>\n",
       "      <th>0</th>\n",
       "      <td>1</td>\n",
       "      <td>[821867, 834484, 856942, 865456, 889248, 90795...</td>\n",
       "      <td>[854348, 981061, 6442651, 105358, 395432]</td>\n",
       "      <td>[6534178, 6533889, 1029743, 6534166, 1082185]</td>\n",
       "      <td>[1082185, 981760, 1127831, 995242, 1098066]</td>\n",
       "    </tr>\n",
       "    <tr>\n",
       "      <th>1</th>\n",
       "      <td>3</td>\n",
       "      <td>[835476, 851057, 872021, 878302, 879948, 90963...</td>\n",
       "      <td>[851260, 1480838, 12351783, 1368695, 9337407]</td>\n",
       "      <td>[6534178, 6533889, 1029743, 6534166, 1082185]</td>\n",
       "      <td>[1082185, 981760, 1098066, 995242, 826249]</td>\n",
       "    </tr>\n",
       "  </tbody>\n",
       "</table>\n",
       "</div>"
      ],
      "text/plain": [
       "   user_id                                             actual  \\\n",
       "0        1  [821867, 834484, 856942, 865456, 889248, 90795...   \n",
       "1        3  [835476, 851057, 872021, 878302, 879948, 90963...   \n",
       "\n",
       "                           random_recommendation  \\\n",
       "0      [854348, 981061, 6442651, 105358, 395432]   \n",
       "1  [851260, 1480838, 12351783, 1368695, 9337407]   \n",
       "\n",
       "                          popular_recommendation  \\\n",
       "0  [6534178, 6533889, 1029743, 6534166, 1082185]   \n",
       "1  [6534178, 6533889, 1029743, 6534166, 1082185]   \n",
       "\n",
       "                                      itemitem  \n",
       "0  [1082185, 981760, 1127831, 995242, 1098066]  \n",
       "1   [1082185, 981760, 1098066, 995242, 826249]  "
      ]
     },
     "execution_count": 53,
     "metadata": {},
     "output_type": "execute_result"
    }
   ],
   "source": [
    "result.head(2)"
   ]
  },
  {
   "cell_type": "markdown",
   "metadata": {
    "id": "mR05hf9n9vZ6"
   },
   "source": [
    "### 4.2 Косинусное сходство и CosineRecommender"
   ]
  },
  {
   "cell_type": "markdown",
   "metadata": {
    "id": "qYxN9E9n9vZ6"
   },
   "source": [
    "[cosine_similarity](https://drive.google.com/file/d/10kFby5sc2x3aObQHRRyF2Nn9KC2URyCS/view?usp=sharing)"
   ]
  },
  {
   "cell_type": "code",
   "execution_count": 54,
   "metadata": {
    "colab": {
     "base_uri": "https://localhost:8080/",
     "height": 83,
     "referenced_widgets": [
      "d53900b28f1a4a2997b8eef5184b7a1d",
      "18b1c5dd9b9c457a813fc62b94014298",
      "f2a07b219cfa49eba992d109e2091445",
      "b11ca4f2601d4f76979d576f5672d6d8",
      "59b2bc20c9524bd89b28c31ceb8b758f",
      "df55c2a2a6f64d89b55fab63b9301949",
      "e53fdcd3aa5b4660aadd6c97373e9b4c",
      "b9946f999c67477f83a09fe351d7e33b",
      "39c1b8c5d7214f4ea8aebbc4e84a3e8b",
      "66749085f4144dad9b4b1b87d396ca88",
      "a0ce05fbf2c14afaace3df10cb13be89"
     ]
    },
    "executionInfo": {
     "elapsed": 2858,
     "status": "ok",
     "timestamp": 1639304409237,
     "user": {
      "displayName": "Николай -",
      "photoUrl": "https://lh3.googleusercontent.com/a-/AOh14GiCS90olAsBznR3WLZOaJ5ukcv2LPYBRWvHEQUZ-A=s64",
      "userId": "17372739142422056321"
     },
     "user_tz": -180
    },
    "id": "fGEj5yjz9vZ6",
    "outputId": "fe54a561-3a0b-40af-ffb4-f01a2b7a5448"
   },
   "outputs": [
    {
     "data": {
      "application/vnd.jupyter.widget-view+json": {
       "model_id": "282b8c52cb504040ad7fe275f0553c1e",
       "version_major": 2,
       "version_minor": 0
      },
      "text/plain": [
       "  0%|          | 0/5001 [00:00<?, ?it/s]"
      ]
     },
     "metadata": {},
     "output_type": "display_data"
    },
    {
     "name": "stdout",
     "output_type": "stream",
     "text": [
      "CPU times: user 912 ms, sys: 18.4 ms, total: 930 ms\n",
      "Wall time: 938 ms\n"
     ]
    }
   ],
   "source": [
    "%%time\n",
    "\n",
    "model = CosineRecommender(K=5, num_threads=4) # K - кол-во билжайших соседей\n",
    "\n",
    "model.fit(csr_matrix(user_item_matrix).T.tocsr(), \n",
    "          show_progress=True)\n",
    "\n",
    "recs = model.recommend(userid=userid_to_id[1], \n",
    "                        user_items=csr_matrix(user_item_matrix).tocsr(),   # на вход user-item matrix\n",
    "                        N=5, \n",
    "                        filter_already_liked_items=False, \n",
    "                        filter_items=None, \n",
    "                        recalculate_user=False)"
   ]
  },
  {
   "cell_type": "code",
   "execution_count": 55,
   "metadata": {
    "colab": {
     "base_uri": "https://localhost:8080/"
    },
    "executionInfo": {
     "elapsed": 18,
     "status": "ok",
     "timestamp": 1639304410160,
     "user": {
      "displayName": "Николай -",
      "photoUrl": "https://lh3.googleusercontent.com/a-/AOh14GiCS90olAsBznR3WLZOaJ5ukcv2LPYBRWvHEQUZ-A=s64",
      "userId": "17372739142422056321"
     },
     "user_tz": -180
    },
    "id": "_ndIJ-qVt8q7",
    "outputId": "0b5b319d-9e30-43e5-c148-377860272861"
   },
   "outputs": [
    {
     "data": {
      "text/plain": [
       "[(3408, 45.02431609428097),\n",
       " (2381, 23.57630378858287),\n",
       " (2148, 22.01182905802241),\n",
       " (3947, 17.7780787439075),\n",
       " (3587, 10.642785799960672)]"
      ]
     },
     "execution_count": 55,
     "metadata": {},
     "output_type": "execute_result"
    }
   ],
   "source": [
    "recs"
   ]
  },
  {
   "cell_type": "code",
   "execution_count": 56,
   "metadata": {
    "colab": {
     "base_uri": "https://localhost:8080/"
    },
    "executionInfo": {
     "elapsed": 6,
     "status": "ok",
     "timestamp": 1639304411886,
     "user": {
      "displayName": "Николай -",
      "photoUrl": "https://lh3.googleusercontent.com/a-/AOh14GiCS90olAsBznR3WLZOaJ5ukcv2LPYBRWvHEQUZ-A=s64",
      "userId": "17372739142422056321"
     },
     "user_tz": -180
    },
    "id": "oOPqc0cw9vZ7",
    "outputId": "f8392b14-88a5-4fda-afaa-20a0cf39ed9e"
   },
   "outputs": [
    {
     "data": {
      "text/plain": [
       "[1082185, 999999, 981760, 1127831, 1098066]"
      ]
     },
     "execution_count": 56,
     "metadata": {},
     "output_type": "execute_result"
    }
   ],
   "source": [
    "[id_to_itemid[rec[0]] for rec in recs]"
   ]
  },
  {
   "cell_type": "code",
   "execution_count": 57,
   "metadata": {
    "colab": {
     "base_uri": "https://localhost:8080/"
    },
    "executionInfo": {
     "elapsed": 1058,
     "status": "ok",
     "timestamp": 1639304417985,
     "user": {
      "displayName": "Николай -",
      "photoUrl": "https://lh3.googleusercontent.com/a-/AOh14GiCS90olAsBznR3WLZOaJ5ukcv2LPYBRWvHEQUZ-A=s64",
      "userId": "17372739142422056321"
     },
     "user_tz": -180
    },
    "id": "Hz-bZN-G9vZ7",
    "outputId": "5864552a-1022-4d9d-b208-8c97cf13c3c9"
   },
   "outputs": [
    {
     "name": "stdout",
     "output_type": "stream",
     "text": [
      "CPU times: user 58.1 ms, sys: 1.73 ms, total: 59.9 ms\n",
      "Wall time: 59 ms\n"
     ]
    }
   ],
   "source": [
    "%%time\n",
    "\n",
    "result['cosine'] = result['user_id'].\\\n",
    "    apply(lambda x: [id_to_itemid[rec[0]] for rec in \n",
    "                    model.recommend(userid=userid_to_id[x], \n",
    "                                    user_items=sparse_user_item,   # на вход user-item matrix\n",
    "                                    N=5, \n",
    "                                    filter_already_liked_items=False, \n",
    "                                    filter_items=[itemid_to_id[999999]], \n",
    "                                    recalculate_user=True)])"
   ]
  },
  {
   "cell_type": "code",
   "execution_count": 58,
   "metadata": {
    "colab": {
     "base_uri": "https://localhost:8080/",
     "height": 111
    },
    "executionInfo": {
     "elapsed": 12,
     "status": "ok",
     "timestamp": 1639304419709,
     "user": {
      "displayName": "Николай -",
      "photoUrl": "https://lh3.googleusercontent.com/a-/AOh14GiCS90olAsBznR3WLZOaJ5ukcv2LPYBRWvHEQUZ-A=s64",
      "userId": "17372739142422056321"
     },
     "user_tz": -180
    },
    "id": "gZmYX8GD9vZ8",
    "outputId": "9ed8ffc0-99eb-4245-b2ea-2c9562b1fff5"
   },
   "outputs": [
    {
     "data": {
      "text/html": [
       "<div>\n",
       "<style scoped>\n",
       "    .dataframe tbody tr th:only-of-type {\n",
       "        vertical-align: middle;\n",
       "    }\n",
       "\n",
       "    .dataframe tbody tr th {\n",
       "        vertical-align: top;\n",
       "    }\n",
       "\n",
       "    .dataframe thead th {\n",
       "        text-align: right;\n",
       "    }\n",
       "</style>\n",
       "<table border=\"1\" class=\"dataframe\">\n",
       "  <thead>\n",
       "    <tr style=\"text-align: right;\">\n",
       "      <th></th>\n",
       "      <th>user_id</th>\n",
       "      <th>actual</th>\n",
       "      <th>random_recommendation</th>\n",
       "      <th>popular_recommendation</th>\n",
       "      <th>itemitem</th>\n",
       "      <th>cosine</th>\n",
       "    </tr>\n",
       "  </thead>\n",
       "  <tbody>\n",
       "    <tr>\n",
       "      <th>0</th>\n",
       "      <td>1</td>\n",
       "      <td>[821867, 834484, 856942, 865456, 889248, 90795...</td>\n",
       "      <td>[854348, 981061, 6442651, 105358, 395432]</td>\n",
       "      <td>[6534178, 6533889, 1029743, 6534166, 1082185]</td>\n",
       "      <td>[1082185, 981760, 1127831, 995242, 1098066]</td>\n",
       "      <td>[1082185, 981760, 1127831, 1098066, 961554]</td>\n",
       "    </tr>\n",
       "    <tr>\n",
       "      <th>1</th>\n",
       "      <td>3</td>\n",
       "      <td>[835476, 851057, 872021, 878302, 879948, 90963...</td>\n",
       "      <td>[851260, 1480838, 12351783, 1368695, 9337407]</td>\n",
       "      <td>[6534178, 6533889, 1029743, 6534166, 1082185]</td>\n",
       "      <td>[1082185, 981760, 1098066, 995242, 826249]</td>\n",
       "      <td>[1082185, 1098066, 981760, 826249, 883404]</td>\n",
       "    </tr>\n",
       "  </tbody>\n",
       "</table>\n",
       "</div>"
      ],
      "text/plain": [
       "   user_id                                             actual  \\\n",
       "0        1  [821867, 834484, 856942, 865456, 889248, 90795...   \n",
       "1        3  [835476, 851057, 872021, 878302, 879948, 90963...   \n",
       "\n",
       "                           random_recommendation  \\\n",
       "0      [854348, 981061, 6442651, 105358, 395432]   \n",
       "1  [851260, 1480838, 12351783, 1368695, 9337407]   \n",
       "\n",
       "                          popular_recommendation  \\\n",
       "0  [6534178, 6533889, 1029743, 6534166, 1082185]   \n",
       "1  [6534178, 6533889, 1029743, 6534166, 1082185]   \n",
       "\n",
       "                                      itemitem  \\\n",
       "0  [1082185, 981760, 1127831, 995242, 1098066]   \n",
       "1   [1082185, 981760, 1098066, 995242, 826249]   \n",
       "\n",
       "                                        cosine  \n",
       "0  [1082185, 981760, 1127831, 1098066, 961554]  \n",
       "1   [1082185, 1098066, 981760, 826249, 883404]  "
      ]
     },
     "execution_count": 58,
     "metadata": {},
     "output_type": "execute_result"
    }
   ],
   "source": [
    "result.head(2)"
   ]
  },
  {
   "cell_type": "markdown",
   "metadata": {
    "id": "Vj7U9ZRc9vZ8"
   },
   "source": [
    "### 4.3 TF-IDF взвешивание и TFIDFRecommender"
   ]
  },
  {
   "cell_type": "markdown",
   "metadata": {
    "id": "eCmuksMp9vZ8"
   },
   "source": [
    "[tf_idf](https://drive.google.com/file/d/1jEGMzgOCn-dB6F1DqYRZ0RWU0Dcr6h5Q/view?usp=sharing)"
   ]
  },
  {
   "cell_type": "markdown",
   "metadata": {
    "id": "RpOFFJYd9vZ8"
   },
   "source": [
    "Если 2 юзера оба купили очень популярный товар, то это еще не значит,что они похожи   \n",
    "Если 2 юзера оба купили редкий товар, то они похожи\n",
    "\n",
    "Занижаем вес популярных товаров при расчете расстояний между пользователями"
   ]
  },
  {
   "cell_type": "code",
   "execution_count": 59,
   "metadata": {
    "colab": {
     "base_uri": "https://localhost:8080/",
     "height": 83,
     "referenced_widgets": [
      "cfec0af668844031ae87448b88ad70af",
      "294d039f558846a7a1fccb2b940ad4aa",
      "c7f30dce2f4f492ba382726159859b90",
      "134c5404c529448f842917125a277e0d",
      "64f50a70a9594ce889cc645643063dd3",
      "e9e77d4cef364d38a192c58817577d66",
      "bac0443395d842d89c5cacf38f998c02",
      "7831a21d238a4a1da14d102580ebdf78",
      "abf7361c73a44563bd2e30141668af2e",
      "4fe62e1e21fd4d64b32050632eeb0d59",
      "0993f1cd4f0c4a928b2b8d1a3a160dba"
     ]
    },
    "executionInfo": {
     "elapsed": 2362,
     "status": "ok",
     "timestamp": 1639304680446,
     "user": {
      "displayName": "Николай -",
      "photoUrl": "https://lh3.googleusercontent.com/a-/AOh14GiCS90olAsBznR3WLZOaJ5ukcv2LPYBRWvHEQUZ-A=s64",
      "userId": "17372739142422056321"
     },
     "user_tz": -180
    },
    "id": "aRaqTtIz9vZ8",
    "outputId": "1e6cf249-1225-4bdb-a9b2-a9cf68c2b77b"
   },
   "outputs": [
    {
     "data": {
      "application/vnd.jupyter.widget-view+json": {
       "model_id": "772acd1ba2f04346a39f71fd7903afed",
       "version_major": 2,
       "version_minor": 0
      },
      "text/plain": [
       "  0%|          | 0/5001 [00:00<?, ?it/s]"
      ]
     },
     "metadata": {},
     "output_type": "display_data"
    },
    {
     "name": "stdout",
     "output_type": "stream",
     "text": [
      "CPU times: user 1.09 s, sys: 27.7 ms, total: 1.12 s\n",
      "Wall time: 1.33 s\n"
     ]
    }
   ],
   "source": [
    "%%time\n",
    "\n",
    "model = TFIDFRecommender(K=5, num_threads=4) # K - кол-во билжайших соседей\n",
    "\n",
    "model.fit(csr_matrix(user_item_matrix).T.tocsr(), \n",
    "          show_progress=True)\n",
    "\n",
    "recs = model.recommend(userid=userid_to_id[1], \n",
    "                        user_items=csr_matrix(user_item_matrix).tocsr(),   # на вход user-item matrix\n",
    "                        N=5, \n",
    "                        filter_already_liked_items=False, \n",
    "                        filter_items=None, \n",
    "                        recalculate_user=False)"
   ]
  },
  {
   "cell_type": "code",
   "execution_count": 60,
   "metadata": {
    "colab": {
     "base_uri": "https://localhost:8080/"
    },
    "executionInfo": {
     "elapsed": 5,
     "status": "ok",
     "timestamp": 1639304681657,
     "user": {
      "displayName": "Николай -",
      "photoUrl": "https://lh3.googleusercontent.com/a-/AOh14GiCS90olAsBznR3WLZOaJ5ukcv2LPYBRWvHEQUZ-A=s64",
      "userId": "17372739142422056321"
     },
     "user_tz": -180
    },
    "id": "49JPWsvu9vZ9",
    "outputId": "94c6ec55-b7a1-4c4b-969f-47a4632bb683"
   },
   "outputs": [
    {
     "data": {
      "text/plain": [
       "[1082185, 981760, 1127831, 999999, 1098066]"
      ]
     },
     "execution_count": 60,
     "metadata": {},
     "output_type": "execute_result"
    }
   ],
   "source": [
    "[id_to_itemid[rec[0]] for rec in recs]"
   ]
  },
  {
   "cell_type": "code",
   "execution_count": 61,
   "metadata": {
    "colab": {
     "base_uri": "https://localhost:8080/"
    },
    "executionInfo": {
     "elapsed": 3,
     "status": "ok",
     "timestamp": 1639304684209,
     "user": {
      "displayName": "Николай -",
      "photoUrl": "https://lh3.googleusercontent.com/a-/AOh14GiCS90olAsBznR3WLZOaJ5ukcv2LPYBRWvHEQUZ-A=s64",
      "userId": "17372739142422056321"
     },
     "user_tz": -180
    },
    "id": "cVvo21F99vZ9",
    "outputId": "0eb4831b-2940-4f4e-a924-0c555ad3623d"
   },
   "outputs": [
    {
     "name": "stdout",
     "output_type": "stream",
     "text": [
      "CPU times: user 56.8 ms, sys: 1.79 ms, total: 58.6 ms\n",
      "Wall time: 57.6 ms\n"
     ]
    }
   ],
   "source": [
    "%%time\n",
    "\n",
    "result['tfidf'] = result['user_id'].\\\n",
    "    apply(lambda x: [id_to_itemid[rec[0]] for rec in \n",
    "                    model.recommend(userid=userid_to_id[x], \n",
    "                                    user_items=sparse_user_item,   # на вход user-item matrix\n",
    "                                    N=5, \n",
    "                                    filter_already_liked_items=False, \n",
    "                                    filter_items=[itemid_to_id[999999]], \n",
    "                                    recalculate_user=False)])"
   ]
  },
  {
   "cell_type": "code",
   "execution_count": 62,
   "metadata": {
    "colab": {
     "base_uri": "https://localhost:8080/",
     "height": 145
    },
    "executionInfo": {
     "elapsed": 272,
     "status": "ok",
     "timestamp": 1639304689399,
     "user": {
      "displayName": "Николай -",
      "photoUrl": "https://lh3.googleusercontent.com/a-/AOh14GiCS90olAsBznR3WLZOaJ5ukcv2LPYBRWvHEQUZ-A=s64",
      "userId": "17372739142422056321"
     },
     "user_tz": -180
    },
    "id": "YghutiG29vZ9",
    "outputId": "2d4fd5f7-0def-4e49-9969-d277aaf6c5f3"
   },
   "outputs": [
    {
     "data": {
      "text/html": [
       "<div>\n",
       "<style scoped>\n",
       "    .dataframe tbody tr th:only-of-type {\n",
       "        vertical-align: middle;\n",
       "    }\n",
       "\n",
       "    .dataframe tbody tr th {\n",
       "        vertical-align: top;\n",
       "    }\n",
       "\n",
       "    .dataframe thead th {\n",
       "        text-align: right;\n",
       "    }\n",
       "</style>\n",
       "<table border=\"1\" class=\"dataframe\">\n",
       "  <thead>\n",
       "    <tr style=\"text-align: right;\">\n",
       "      <th></th>\n",
       "      <th>user_id</th>\n",
       "      <th>actual</th>\n",
       "      <th>random_recommendation</th>\n",
       "      <th>popular_recommendation</th>\n",
       "      <th>itemitem</th>\n",
       "      <th>cosine</th>\n",
       "      <th>tfidf</th>\n",
       "    </tr>\n",
       "  </thead>\n",
       "  <tbody>\n",
       "    <tr>\n",
       "      <th>0</th>\n",
       "      <td>1</td>\n",
       "      <td>[821867, 834484, 856942, 865456, 889248, 90795...</td>\n",
       "      <td>[854348, 981061, 6442651, 105358, 395432]</td>\n",
       "      <td>[6534178, 6533889, 1029743, 6534166, 1082185]</td>\n",
       "      <td>[1082185, 981760, 1127831, 995242, 1098066]</td>\n",
       "      <td>[1082185, 981760, 1127831, 1098066, 961554]</td>\n",
       "      <td>[1082185, 981760, 1127831, 1098066, 961554]</td>\n",
       "    </tr>\n",
       "    <tr>\n",
       "      <th>1</th>\n",
       "      <td>3</td>\n",
       "      <td>[835476, 851057, 872021, 878302, 879948, 90963...</td>\n",
       "      <td>[851260, 1480838, 12351783, 1368695, 9337407]</td>\n",
       "      <td>[6534178, 6533889, 1029743, 6534166, 1082185]</td>\n",
       "      <td>[1082185, 981760, 1098066, 995242, 826249]</td>\n",
       "      <td>[1082185, 1098066, 981760, 826249, 883404]</td>\n",
       "      <td>[1082185, 981760, 1098066, 826249, 883404]</td>\n",
       "    </tr>\n",
       "  </tbody>\n",
       "</table>\n",
       "</div>"
      ],
      "text/plain": [
       "   user_id                                             actual  \\\n",
       "0        1  [821867, 834484, 856942, 865456, 889248, 90795...   \n",
       "1        3  [835476, 851057, 872021, 878302, 879948, 90963...   \n",
       "\n",
       "                           random_recommendation  \\\n",
       "0      [854348, 981061, 6442651, 105358, 395432]   \n",
       "1  [851260, 1480838, 12351783, 1368695, 9337407]   \n",
       "\n",
       "                          popular_recommendation  \\\n",
       "0  [6534178, 6533889, 1029743, 6534166, 1082185]   \n",
       "1  [6534178, 6533889, 1029743, 6534166, 1082185]   \n",
       "\n",
       "                                      itemitem  \\\n",
       "0  [1082185, 981760, 1127831, 995242, 1098066]   \n",
       "1   [1082185, 981760, 1098066, 995242, 826249]   \n",
       "\n",
       "                                        cosine  \\\n",
       "0  [1082185, 981760, 1127831, 1098066, 961554]   \n",
       "1   [1082185, 1098066, 981760, 826249, 883404]   \n",
       "\n",
       "                                         tfidf  \n",
       "0  [1082185, 981760, 1127831, 1098066, 961554]  \n",
       "1   [1082185, 981760, 1098066, 826249, 883404]  "
      ]
     },
     "execution_count": 62,
     "metadata": {},
     "output_type": "execute_result"
    }
   ],
   "source": [
    "result.head(2)"
   ]
  },
  {
   "cell_type": "markdown",
   "metadata": {
    "id": "zDCrQwaC9vZ-"
   },
   "source": [
    "### 4.4 Трюк - по истории конкретного пользователя (K=1)"
   ]
  },
  {
   "cell_type": "code",
   "execution_count": 63,
   "metadata": {
    "colab": {
     "base_uri": "https://localhost:8080/",
     "height": 83,
     "referenced_widgets": [
      "5407098d4c374521b004ca4102d75b66",
      "558a140c59c449d0abecdb4a5867b11c",
      "843fa3533d444b2c837bf1868a1b9725",
      "594242898371447090d5374bbe1cfeea",
      "f9e7bbfb196a42e9b97626a339cea9e3",
      "ce1ada80ecb6427a857c8f0a1076c029",
      "8040d429311d49b99ba387f22916de18",
      "84a1798b354141ca8ad9c6f08733a686",
      "9a4183ed53364b81a8c7de94bba0c3f2",
      "5ed3fc64abf345a59b8348da0de36fbc",
      "0f0be173e5ad4caba3f5b3e72e994a57"
     ]
    },
    "executionInfo": {
     "elapsed": 2271,
     "status": "ok",
     "timestamp": 1639304753107,
     "user": {
      "displayName": "Николай -",
      "photoUrl": "https://lh3.googleusercontent.com/a-/AOh14GiCS90olAsBznR3WLZOaJ5ukcv2LPYBRWvHEQUZ-A=s64",
      "userId": "17372739142422056321"
     },
     "user_tz": -180
    },
    "id": "xGVGPqPt9vZ-",
    "outputId": "3e17b467-22d9-419d-a983-2d7398f3a727"
   },
   "outputs": [
    {
     "data": {
      "application/vnd.jupyter.widget-view+json": {
       "model_id": "9136f5a3a0374a10acb7e69ba309aefc",
       "version_major": 2,
       "version_minor": 0
      },
      "text/plain": [
       "  0%|          | 0/5001 [00:00<?, ?it/s]"
      ]
     },
     "metadata": {},
     "output_type": "display_data"
    },
    {
     "name": "stdout",
     "output_type": "stream",
     "text": [
      "CPU times: user 907 ms, sys: 13.2 ms, total: 921 ms\n",
      "Wall time: 960 ms\n"
     ]
    }
   ],
   "source": [
    "%%time\n",
    "\n",
    "model = ItemItemRecommender(K=1, num_threads=4) # K - кол-во билжайших соседей\n",
    "\n",
    "model.fit(csr_matrix(user_item_matrix).T.tocsr(), \n",
    "          show_progress=True)\n",
    "\n",
    "recs = model.recommend(userid=userid_to_id[1], \n",
    "                        user_items=csr_matrix(user_item_matrix).tocsr(),   # на вход user-item matrix\n",
    "                        N=5, \n",
    "                        filter_already_liked_items=False, \n",
    "                        filter_items=None, \n",
    "                        recalculate_user=False)"
   ]
  },
  {
   "cell_type": "code",
   "execution_count": 64,
   "metadata": {
    "colab": {
     "base_uri": "https://localhost:8080/"
    },
    "executionInfo": {
     "elapsed": 8,
     "status": "ok",
     "timestamp": 1639304754484,
     "user": {
      "displayName": "Николай -",
      "photoUrl": "https://lh3.googleusercontent.com/a-/AOh14GiCS90olAsBznR3WLZOaJ5ukcv2LPYBRWvHEQUZ-A=s64",
      "userId": "17372739142422056321"
     },
     "user_tz": -180
    },
    "id": "We6GGKG19vZ-",
    "outputId": "089751bc-053b-4339-db7a-02c293be9191"
   },
   "outputs": [
    {
     "data": {
      "text/plain": [
       "[999999, 1082185, 1029743, 995785, 1004906]"
      ]
     },
     "execution_count": 64,
     "metadata": {},
     "output_type": "execute_result"
    }
   ],
   "source": [
    "[id_to_itemid[rec[0]] for rec in recs]"
   ]
  },
  {
   "cell_type": "code",
   "execution_count": 65,
   "metadata": {
    "colab": {
     "base_uri": "https://localhost:8080/"
    },
    "executionInfo": {
     "elapsed": 277,
     "status": "ok",
     "timestamp": 1639304757635,
     "user": {
      "displayName": "Николай -",
      "photoUrl": "https://lh3.googleusercontent.com/a-/AOh14GiCS90olAsBznR3WLZOaJ5ukcv2LPYBRWvHEQUZ-A=s64",
      "userId": "17372739142422056321"
     },
     "user_tz": -180
    },
    "id": "2pfQuXZ99vZ-",
    "outputId": "8577ab20-609a-458f-851c-721f0fcc1780"
   },
   "outputs": [
    {
     "name": "stdout",
     "output_type": "stream",
     "text": [
      "CPU times: user 33.4 ms, sys: 1.8 ms, total: 35.2 ms\n",
      "Wall time: 33.9 ms\n"
     ]
    }
   ],
   "source": [
    "%%time\n",
    "\n",
    "result['own_purchases'] = result['user_id'].\\\n",
    "    apply(lambda x: [id_to_itemid[rec[0]] for rec in \n",
    "                    model.recommend(userid=userid_to_id[x], \n",
    "                                    user_items=sparse_user_item,   # на вход user-item matrix\n",
    "                                    N=5, \n",
    "                                    filter_already_liked_items=False, \n",
    "                                    filter_items=[itemid_to_id[999999]], \n",
    "                                    recalculate_user=False)])"
   ]
  },
  {
   "cell_type": "markdown",
   "metadata": {
    "id": "LTQY0VSq9vZ_"
   },
   "source": [
    "### 4.5 Измерим качество по precision@5"
   ]
  },
  {
   "cell_type": "code",
   "execution_count": 66,
   "metadata": {
    "colab": {
     "base_uri": "https://localhost:8080/",
     "height": 145
    },
    "executionInfo": {
     "elapsed": 250,
     "status": "ok",
     "timestamp": 1639304782820,
     "user": {
      "displayName": "Николай -",
      "photoUrl": "https://lh3.googleusercontent.com/a-/AOh14GiCS90olAsBznR3WLZOaJ5ukcv2LPYBRWvHEQUZ-A=s64",
      "userId": "17372739142422056321"
     },
     "user_tz": -180
    },
    "id": "nkv9dWQX9vZ_",
    "outputId": "b1dd7b9b-2a98-4b71-cf79-5c972a2db532"
   },
   "outputs": [
    {
     "data": {
      "text/html": [
       "<div>\n",
       "<style scoped>\n",
       "    .dataframe tbody tr th:only-of-type {\n",
       "        vertical-align: middle;\n",
       "    }\n",
       "\n",
       "    .dataframe tbody tr th {\n",
       "        vertical-align: top;\n",
       "    }\n",
       "\n",
       "    .dataframe thead th {\n",
       "        text-align: right;\n",
       "    }\n",
       "</style>\n",
       "<table border=\"1\" class=\"dataframe\">\n",
       "  <thead>\n",
       "    <tr style=\"text-align: right;\">\n",
       "      <th></th>\n",
       "      <th>user_id</th>\n",
       "      <th>actual</th>\n",
       "      <th>random_recommendation</th>\n",
       "      <th>popular_recommendation</th>\n",
       "      <th>itemitem</th>\n",
       "      <th>cosine</th>\n",
       "      <th>tfidf</th>\n",
       "      <th>own_purchases</th>\n",
       "    </tr>\n",
       "  </thead>\n",
       "  <tbody>\n",
       "    <tr>\n",
       "      <th>0</th>\n",
       "      <td>1</td>\n",
       "      <td>[821867, 834484, 856942, 865456, 889248, 90795...</td>\n",
       "      <td>[854348, 981061, 6442651, 105358, 395432]</td>\n",
       "      <td>[6534178, 6533889, 1029743, 6534166, 1082185]</td>\n",
       "      <td>[1082185, 981760, 1127831, 995242, 1098066]</td>\n",
       "      <td>[1082185, 981760, 1127831, 1098066, 961554]</td>\n",
       "      <td>[1082185, 981760, 1127831, 1098066, 961554]</td>\n",
       "      <td>[1082185, 1029743, 995785, 1004906, 1081177]</td>\n",
       "    </tr>\n",
       "    <tr>\n",
       "      <th>1</th>\n",
       "      <td>3</td>\n",
       "      <td>[835476, 851057, 872021, 878302, 879948, 90963...</td>\n",
       "      <td>[851260, 1480838, 12351783, 1368695, 9337407]</td>\n",
       "      <td>[6534178, 6533889, 1029743, 6534166, 1082185]</td>\n",
       "      <td>[1082185, 981760, 1098066, 995242, 826249]</td>\n",
       "      <td>[1082185, 1098066, 981760, 826249, 883404]</td>\n",
       "      <td>[1082185, 981760, 1098066, 826249, 883404]</td>\n",
       "      <td>[1082185, 1098066, 6534178, 1127831, 1068719]</td>\n",
       "    </tr>\n",
       "  </tbody>\n",
       "</table>\n",
       "</div>"
      ],
      "text/plain": [
       "   user_id                                             actual  \\\n",
       "0        1  [821867, 834484, 856942, 865456, 889248, 90795...   \n",
       "1        3  [835476, 851057, 872021, 878302, 879948, 90963...   \n",
       "\n",
       "                           random_recommendation  \\\n",
       "0      [854348, 981061, 6442651, 105358, 395432]   \n",
       "1  [851260, 1480838, 12351783, 1368695, 9337407]   \n",
       "\n",
       "                          popular_recommendation  \\\n",
       "0  [6534178, 6533889, 1029743, 6534166, 1082185]   \n",
       "1  [6534178, 6533889, 1029743, 6534166, 1082185]   \n",
       "\n",
       "                                      itemitem  \\\n",
       "0  [1082185, 981760, 1127831, 995242, 1098066]   \n",
       "1   [1082185, 981760, 1098066, 995242, 826249]   \n",
       "\n",
       "                                        cosine  \\\n",
       "0  [1082185, 981760, 1127831, 1098066, 961554]   \n",
       "1   [1082185, 1098066, 981760, 826249, 883404]   \n",
       "\n",
       "                                         tfidf  \\\n",
       "0  [1082185, 981760, 1127831, 1098066, 961554]   \n",
       "1   [1082185, 981760, 1098066, 826249, 883404]   \n",
       "\n",
       "                                   own_purchases  \n",
       "0   [1082185, 1029743, 995785, 1004906, 1081177]  \n",
       "1  [1082185, 1098066, 6534178, 1127831, 1068719]  "
      ]
     },
     "execution_count": 66,
     "metadata": {},
     "output_type": "execute_result"
    }
   ],
   "source": [
    "result.head(2)"
   ]
  },
  {
   "cell_type": "code",
   "execution_count": 93,
   "metadata": {
    "id": "_BEMmvlL9vZ_"
   },
   "outputs": [],
   "source": [
    "result.to_csv('predictions_basic.csv', index=False)"
   ]
  },
  {
   "cell_type": "markdown",
   "metadata": {
    "id": "rdLw85cs9vZ_"
   },
   "source": [
    "Можно ли улучшить бейзлайны, если считать их на топ-5000 товарах?"
   ]
  },
  {
   "cell_type": "code",
   "execution_count": 94,
   "metadata": {
    "id": "OOF_PWnk9vaA"
   },
   "outputs": [],
   "source": [
    "# your_code"
   ]
  },
  {
   "cell_type": "code",
   "execution_count": 67,
   "metadata": {
    "id": "0tg9NFc79vaA"
   },
   "outputs": [],
   "source": [
    "# Функции из 1-ого вебинара\n",
    "import os, sys\n",
    "\n",
    "module_path = os.path.abspath(os.path.join(os.pardir))\n",
    "if module_path not in sys.path:\n",
    "    sys.path.append(module_path)\n",
    "    \n",
    "#from src.metrics import precision_at_k, recall_at_k"
   ]
  },
  {
   "cell_type": "code",
   "execution_count": 68,
   "metadata": {
    "id": "HJltW-oPzCwG"
   },
   "outputs": [],
   "source": [
    "def precision_at_k(recommended_list, bought_list, k=5):\n",
    "    \n",
    "    bought_list = np.array(bought_list)\n",
    "    recommended_list = np.array(recommended_list)\n",
    "    \n",
    "    bought_list = bought_list  # Тут нет [:k] !!\n",
    "    recommended_list = recommended_list[:k]\n",
    "    \n",
    "    flags = np.isin(bought_list, recommended_list)\n",
    "    \n",
    "    precision = flags.sum() / len(recommended_list)\n",
    "    \n",
    "    \n",
    "    return precision"
   ]
  },
  {
   "cell_type": "code",
   "execution_count": 69,
   "metadata": {
    "colab": {
     "base_uri": "https://localhost:8080/"
    },
    "executionInfo": {
     "elapsed": 381,
     "status": "ok",
     "timestamp": 1639304824137,
     "user": {
      "displayName": "Николай -",
      "photoUrl": "https://lh3.googleusercontent.com/a-/AOh14GiCS90olAsBznR3WLZOaJ5ukcv2LPYBRWvHEQUZ-A=s64",
      "userId": "17372739142422056321"
     },
     "user_tz": -180
    },
    "id": "dBik--NC9vaA",
    "outputId": "973082aa-e3b9-411b-b49c-5b5ddd264b67"
   },
   "outputs": [
    {
     "data": {
      "text/plain": [
       "0.0004897159647404506"
      ]
     },
     "execution_count": 69,
     "metadata": {},
     "output_type": "execute_result"
    }
   ],
   "source": [
    "result.apply(lambda row: precision_at_k(row['random_recommendation'], row['actual']), axis=1).mean()"
   ]
  },
  {
   "cell_type": "code",
   "execution_count": 70,
   "metadata": {
    "colab": {
     "base_uri": "https://localhost:8080/"
    },
    "executionInfo": {
     "elapsed": 14,
     "status": "ok",
     "timestamp": 1639304824519,
     "user": {
      "displayName": "Николай -",
      "photoUrl": "https://lh3.googleusercontent.com/a-/AOh14GiCS90olAsBznR3WLZOaJ5ukcv2LPYBRWvHEQUZ-A=s64",
      "userId": "17372739142422056321"
     },
     "user_tz": -180
    },
    "id": "dvPItQ0C9vaA",
    "outputId": "0b8f68ed-17a0-4235-893b-8cfcac0e6d6b"
   },
   "outputs": [
    {
     "data": {
      "text/plain": [
       "0.15523996082272282"
      ]
     },
     "execution_count": 70,
     "metadata": {},
     "output_type": "execute_result"
    }
   ],
   "source": [
    "result.apply(lambda row: precision_at_k(row['popular_recommendation'], row['actual']), axis=1).mean()"
   ]
  },
  {
   "cell_type": "code",
   "execution_count": 71,
   "metadata": {
    "colab": {
     "base_uri": "https://localhost:8080/"
    },
    "executionInfo": {
     "elapsed": 468,
     "status": "ok",
     "timestamp": 1639304826006,
     "user": {
      "displayName": "Николай -",
      "photoUrl": "https://lh3.googleusercontent.com/a-/AOh14GiCS90olAsBznR3WLZOaJ5ukcv2LPYBRWvHEQUZ-A=s64",
      "userId": "17372739142422056321"
     },
     "user_tz": -180
    },
    "id": "lLs_cCQq9vaA",
    "outputId": "4d3f8dd0-8cff-42b9-a7e8-55b8d60cec05"
   },
   "outputs": [
    {
     "data": {
      "text/plain": [
       "0.15122428991185113"
      ]
     },
     "execution_count": 71,
     "metadata": {},
     "output_type": "execute_result"
    }
   ],
   "source": [
    "result.apply(lambda row: precision_at_k(row['itemitem'], row['actual']), axis=1).mean()"
   ]
  },
  {
   "cell_type": "code",
   "execution_count": 72,
   "metadata": {
    "colab": {
     "base_uri": "https://localhost:8080/"
    },
    "executionInfo": {
     "elapsed": 357,
     "status": "ok",
     "timestamp": 1639304826359,
     "user": {
      "displayName": "Николай -",
      "photoUrl": "https://lh3.googleusercontent.com/a-/AOh14GiCS90olAsBznR3WLZOaJ5ukcv2LPYBRWvHEQUZ-A=s64",
      "userId": "17372739142422056321"
     },
     "user_tz": -180
    },
    "id": "tbm0Jo2S9vaB",
    "outputId": "533ff857-2f1c-4895-ddfd-ddf90e94f608"
   },
   "outputs": [
    {
     "data": {
      "text/plain": [
       "0.1551420176297747"
      ]
     },
     "execution_count": 72,
     "metadata": {},
     "output_type": "execute_result"
    }
   ],
   "source": [
    "result.apply(lambda row: precision_at_k(row['cosine'], row['actual']), axis=1).mean()"
   ]
  },
  {
   "cell_type": "code",
   "execution_count": 73,
   "metadata": {
    "colab": {
     "base_uri": "https://localhost:8080/"
    },
    "executionInfo": {
     "elapsed": 14,
     "status": "ok",
     "timestamp": 1639304826638,
     "user": {
      "displayName": "Николай -",
      "photoUrl": "https://lh3.googleusercontent.com/a-/AOh14GiCS90olAsBznR3WLZOaJ5ukcv2LPYBRWvHEQUZ-A=s64",
      "userId": "17372739142422056321"
     },
     "user_tz": -180
    },
    "id": "9ZOhF4RH9vaB",
    "outputId": "074f3aed-3036-47e7-8771-9a8dc63e9513"
   },
   "outputs": [
    {
     "data": {
      "text/plain": [
       "0.16092066601371205"
      ]
     },
     "execution_count": 73,
     "metadata": {},
     "output_type": "execute_result"
    }
   ],
   "source": [
    "result.apply(lambda row: precision_at_k(row['tfidf'], row['actual']), axis=1).mean()"
   ]
  },
  {
   "cell_type": "code",
   "execution_count": 74,
   "metadata": {
    "colab": {
     "base_uri": "https://localhost:8080/"
    },
    "executionInfo": {
     "elapsed": 378,
     "status": "ok",
     "timestamp": 1639304837000,
     "user": {
      "displayName": "Николай -",
      "photoUrl": "https://lh3.googleusercontent.com/a-/AOh14GiCS90olAsBznR3WLZOaJ5ukcv2LPYBRWvHEQUZ-A=s64",
      "userId": "17372739142422056321"
     },
     "user_tz": -180
    },
    "id": "oAguFGDfzQYo",
    "outputId": "67ffa80e-cd20-4763-89ce-c58423b2807e"
   },
   "outputs": [
    {
     "name": "stderr",
     "output_type": "stream",
     "text": [
      "/var/folders/qs/6xk5mdt9617cpq2wf0p2xkyc0000gn/T/ipykernel_37361/1284911335.py:11: RuntimeWarning: invalid value encountered in long_scalars\n",
      "  precision = flags.sum() / len(recommended_list)\n"
     ]
    },
    {
     "data": {
      "text/plain": [
       "0.20191740412979353"
      ]
     },
     "execution_count": 74,
     "metadata": {},
     "output_type": "execute_result"
    }
   ],
   "source": [
    "result.apply(lambda row: precision_at_k(row['own_purchases'], row['actual']), axis=1).mean()"
   ]
  },
  {
   "cell_type": "code",
   "execution_count": null,
   "metadata": {
    "id": "YY4AE20SLrQ6"
   },
   "outputs": [],
   "source": []
  }
 ],
 "metadata": {
  "accelerator": "GPU",
  "colab": {
   "collapsed_sections": [
    "aLDGc1Nn9vZ0"
   ],
   "name": "webinar_2_new.ipynb",
   "provenance": [
    {
     "file_id": "16Ow5QdtueS-lH2MAj7d8AXVJIMofWEfF",
     "timestamp": 1633278282973
    }
   ]
  },
  "kernelspec": {
   "display_name": "Python 3",
   "language": "python",
   "name": "python3"
  },
  "language_info": {
   "codemirror_mode": {
    "name": "ipython",
    "version": 3
   },
   "file_extension": ".py",
   "mimetype": "text/x-python",
   "name": "python",
   "nbconvert_exporter": "python",
   "pygments_lexer": "ipython3",
   "version": "3.8.5"
  },
  "widgets": {
   "application/vnd.jupyter.widget-state+json": {
    "083fdc34807a499f8cad4ba4e195a479": {
     "model_module": "@jupyter-widgets/controls",
     "model_module_version": "1.5.0",
     "model_name": "DescriptionStyleModel",
     "state": {
      "_model_module": "@jupyter-widgets/controls",
      "_model_module_version": "1.5.0",
      "_model_name": "DescriptionStyleModel",
      "_view_count": null,
      "_view_module": "@jupyter-widgets/base",
      "_view_module_version": "1.2.0",
      "_view_name": "StyleView",
      "description_width": ""
     }
    },
    "0993f1cd4f0c4a928b2b8d1a3a160dba": {
     "model_module": "@jupyter-widgets/base",
     "model_module_version": "1.2.0",
     "model_name": "LayoutModel",
     "state": {
      "_model_module": "@jupyter-widgets/base",
      "_model_module_version": "1.2.0",
      "_model_name": "LayoutModel",
      "_view_count": null,
      "_view_module": "@jupyter-widgets/base",
      "_view_module_version": "1.2.0",
      "_view_name": "LayoutView",
      "align_content": null,
      "align_items": null,
      "align_self": null,
      "border": null,
      "bottom": null,
      "display": null,
      "flex": null,
      "flex_flow": null,
      "grid_area": null,
      "grid_auto_columns": null,
      "grid_auto_flow": null,
      "grid_auto_rows": null,
      "grid_column": null,
      "grid_gap": null,
      "grid_row": null,
      "grid_template_areas": null,
      "grid_template_columns": null,
      "grid_template_rows": null,
      "height": null,
      "justify_content": null,
      "justify_items": null,
      "left": null,
      "margin": null,
      "max_height": null,
      "max_width": null,
      "min_height": null,
      "min_width": null,
      "object_fit": null,
      "object_position": null,
      "order": null,
      "overflow": null,
      "overflow_x": null,
      "overflow_y": null,
      "padding": null,
      "right": null,
      "top": null,
      "visibility": null,
      "width": null
     }
    },
    "0f0be173e5ad4caba3f5b3e72e994a57": {
     "model_module": "@jupyter-widgets/base",
     "model_module_version": "1.2.0",
     "model_name": "LayoutModel",
     "state": {
      "_model_module": "@jupyter-widgets/base",
      "_model_module_version": "1.2.0",
      "_model_name": "LayoutModel",
      "_view_count": null,
      "_view_module": "@jupyter-widgets/base",
      "_view_module_version": "1.2.0",
      "_view_name": "LayoutView",
      "align_content": null,
      "align_items": null,
      "align_self": null,
      "border": null,
      "bottom": null,
      "display": null,
      "flex": null,
      "flex_flow": null,
      "grid_area": null,
      "grid_auto_columns": null,
      "grid_auto_flow": null,
      "grid_auto_rows": null,
      "grid_column": null,
      "grid_gap": null,
      "grid_row": null,
      "grid_template_areas": null,
      "grid_template_columns": null,
      "grid_template_rows": null,
      "height": null,
      "justify_content": null,
      "justify_items": null,
      "left": null,
      "margin": null,
      "max_height": null,
      "max_width": null,
      "min_height": null,
      "min_width": null,
      "object_fit": null,
      "object_position": null,
      "order": null,
      "overflow": null,
      "overflow_x": null,
      "overflow_y": null,
      "padding": null,
      "right": null,
      "top": null,
      "visibility": null,
      "width": null
     }
    },
    "134c5404c529448f842917125a277e0d": {
     "model_module": "@jupyter-widgets/controls",
     "model_module_version": "1.5.0",
     "model_name": "FloatProgressModel",
     "state": {
      "_dom_classes": [],
      "_model_module": "@jupyter-widgets/controls",
      "_model_module_version": "1.5.0",
      "_model_name": "FloatProgressModel",
      "_view_count": null,
      "_view_module": "@jupyter-widgets/controls",
      "_view_module_version": "1.5.0",
      "_view_name": "ProgressView",
      "bar_style": "success",
      "description": "",
      "description_tooltip": null,
      "layout": "IPY_MODEL_abf7361c73a44563bd2e30141668af2e",
      "max": 5001,
      "min": 0,
      "orientation": "horizontal",
      "style": "IPY_MODEL_7831a21d238a4a1da14d102580ebdf78",
      "value": 5001
     }
    },
    "18b1c5dd9b9c457a813fc62b94014298": {
     "model_module": "@jupyter-widgets/base",
     "model_module_version": "1.2.0",
     "model_name": "LayoutModel",
     "state": {
      "_model_module": "@jupyter-widgets/base",
      "_model_module_version": "1.2.0",
      "_model_name": "LayoutModel",
      "_view_count": null,
      "_view_module": "@jupyter-widgets/base",
      "_view_module_version": "1.2.0",
      "_view_name": "LayoutView",
      "align_content": null,
      "align_items": null,
      "align_self": null,
      "border": null,
      "bottom": null,
      "display": null,
      "flex": null,
      "flex_flow": null,
      "grid_area": null,
      "grid_auto_columns": null,
      "grid_auto_flow": null,
      "grid_auto_rows": null,
      "grid_column": null,
      "grid_gap": null,
      "grid_row": null,
      "grid_template_areas": null,
      "grid_template_columns": null,
      "grid_template_rows": null,
      "height": null,
      "justify_content": null,
      "justify_items": null,
      "left": null,
      "margin": null,
      "max_height": null,
      "max_width": null,
      "min_height": null,
      "min_width": null,
      "object_fit": null,
      "object_position": null,
      "order": null,
      "overflow": null,
      "overflow_x": null,
      "overflow_y": null,
      "padding": null,
      "right": null,
      "top": null,
      "visibility": null,
      "width": null
     }
    },
    "294d039f558846a7a1fccb2b940ad4aa": {
     "model_module": "@jupyter-widgets/base",
     "model_module_version": "1.2.0",
     "model_name": "LayoutModel",
     "state": {
      "_model_module": "@jupyter-widgets/base",
      "_model_module_version": "1.2.0",
      "_model_name": "LayoutModel",
      "_view_count": null,
      "_view_module": "@jupyter-widgets/base",
      "_view_module_version": "1.2.0",
      "_view_name": "LayoutView",
      "align_content": null,
      "align_items": null,
      "align_self": null,
      "border": null,
      "bottom": null,
      "display": null,
      "flex": null,
      "flex_flow": null,
      "grid_area": null,
      "grid_auto_columns": null,
      "grid_auto_flow": null,
      "grid_auto_rows": null,
      "grid_column": null,
      "grid_gap": null,
      "grid_row": null,
      "grid_template_areas": null,
      "grid_template_columns": null,
      "grid_template_rows": null,
      "height": null,
      "justify_content": null,
      "justify_items": null,
      "left": null,
      "margin": null,
      "max_height": null,
      "max_width": null,
      "min_height": null,
      "min_width": null,
      "object_fit": null,
      "object_position": null,
      "order": null,
      "overflow": null,
      "overflow_x": null,
      "overflow_y": null,
      "padding": null,
      "right": null,
      "top": null,
      "visibility": null,
      "width": null
     }
    },
    "29e272438def4be49be8607110d4c302": {
     "model_module": "@jupyter-widgets/controls",
     "model_module_version": "1.5.0",
     "model_name": "FloatProgressModel",
     "state": {
      "_dom_classes": [],
      "_model_module": "@jupyter-widgets/controls",
      "_model_module_version": "1.5.0",
      "_model_name": "FloatProgressModel",
      "_view_count": null,
      "_view_module": "@jupyter-widgets/controls",
      "_view_module_version": "1.5.0",
      "_view_name": "ProgressView",
      "bar_style": "success",
      "description": "",
      "description_tooltip": null,
      "layout": "IPY_MODEL_3030024ab2ff42e2bd89420b1b72ae6f",
      "max": 5001,
      "min": 0,
      "orientation": "horizontal",
      "style": "IPY_MODEL_b978246119e942c7818b126e9b902b3a",
      "value": 5001
     }
    },
    "3030024ab2ff42e2bd89420b1b72ae6f": {
     "model_module": "@jupyter-widgets/base",
     "model_module_version": "1.2.0",
     "model_name": "LayoutModel",
     "state": {
      "_model_module": "@jupyter-widgets/base",
      "_model_module_version": "1.2.0",
      "_model_name": "LayoutModel",
      "_view_count": null,
      "_view_module": "@jupyter-widgets/base",
      "_view_module_version": "1.2.0",
      "_view_name": "LayoutView",
      "align_content": null,
      "align_items": null,
      "align_self": null,
      "border": null,
      "bottom": null,
      "display": null,
      "flex": null,
      "flex_flow": null,
      "grid_area": null,
      "grid_auto_columns": null,
      "grid_auto_flow": null,
      "grid_auto_rows": null,
      "grid_column": null,
      "grid_gap": null,
      "grid_row": null,
      "grid_template_areas": null,
      "grid_template_columns": null,
      "grid_template_rows": null,
      "height": null,
      "justify_content": null,
      "justify_items": null,
      "left": null,
      "margin": null,
      "max_height": null,
      "max_width": null,
      "min_height": null,
      "min_width": null,
      "object_fit": null,
      "object_position": null,
      "order": null,
      "overflow": null,
      "overflow_x": null,
      "overflow_y": null,
      "padding": null,
      "right": null,
      "top": null,
      "visibility": null,
      "width": null
     }
    },
    "345b6b3525274c62bde7964180349268": {
     "model_module": "@jupyter-widgets/base",
     "model_module_version": "1.2.0",
     "model_name": "LayoutModel",
     "state": {
      "_model_module": "@jupyter-widgets/base",
      "_model_module_version": "1.2.0",
      "_model_name": "LayoutModel",
      "_view_count": null,
      "_view_module": "@jupyter-widgets/base",
      "_view_module_version": "1.2.0",
      "_view_name": "LayoutView",
      "align_content": null,
      "align_items": null,
      "align_self": null,
      "border": null,
      "bottom": null,
      "display": null,
      "flex": null,
      "flex_flow": null,
      "grid_area": null,
      "grid_auto_columns": null,
      "grid_auto_flow": null,
      "grid_auto_rows": null,
      "grid_column": null,
      "grid_gap": null,
      "grid_row": null,
      "grid_template_areas": null,
      "grid_template_columns": null,
      "grid_template_rows": null,
      "height": null,
      "justify_content": null,
      "justify_items": null,
      "left": null,
      "margin": null,
      "max_height": null,
      "max_width": null,
      "min_height": null,
      "min_width": null,
      "object_fit": null,
      "object_position": null,
      "order": null,
      "overflow": null,
      "overflow_x": null,
      "overflow_y": null,
      "padding": null,
      "right": null,
      "top": null,
      "visibility": null,
      "width": null
     }
    },
    "39c1b8c5d7214f4ea8aebbc4e84a3e8b": {
     "model_module": "@jupyter-widgets/base",
     "model_module_version": "1.2.0",
     "model_name": "LayoutModel",
     "state": {
      "_model_module": "@jupyter-widgets/base",
      "_model_module_version": "1.2.0",
      "_model_name": "LayoutModel",
      "_view_count": null,
      "_view_module": "@jupyter-widgets/base",
      "_view_module_version": "1.2.0",
      "_view_name": "LayoutView",
      "align_content": null,
      "align_items": null,
      "align_self": null,
      "border": null,
      "bottom": null,
      "display": null,
      "flex": null,
      "flex_flow": null,
      "grid_area": null,
      "grid_auto_columns": null,
      "grid_auto_flow": null,
      "grid_auto_rows": null,
      "grid_column": null,
      "grid_gap": null,
      "grid_row": null,
      "grid_template_areas": null,
      "grid_template_columns": null,
      "grid_template_rows": null,
      "height": null,
      "justify_content": null,
      "justify_items": null,
      "left": null,
      "margin": null,
      "max_height": null,
      "max_width": null,
      "min_height": null,
      "min_width": null,
      "object_fit": null,
      "object_position": null,
      "order": null,
      "overflow": null,
      "overflow_x": null,
      "overflow_y": null,
      "padding": null,
      "right": null,
      "top": null,
      "visibility": null,
      "width": null
     }
    },
    "43aa43b8855b46e59a849c3e0173bf50": {
     "model_module": "@jupyter-widgets/controls",
     "model_module_version": "1.5.0",
     "model_name": "HTMLModel",
     "state": {
      "_dom_classes": [],
      "_model_module": "@jupyter-widgets/controls",
      "_model_module_version": "1.5.0",
      "_model_name": "HTMLModel",
      "_view_count": null,
      "_view_module": "@jupyter-widgets/controls",
      "_view_module_version": "1.5.0",
      "_view_name": "HTMLView",
      "description": "",
      "description_tooltip": null,
      "layout": "IPY_MODEL_c8efb5bfcee14732bdaeed7c430c235e",
      "placeholder": "​",
      "style": "IPY_MODEL_083fdc34807a499f8cad4ba4e195a479",
      "value": " 5001/5001 [00:01&lt;00:00, 3312.49it/s]"
     }
    },
    "4fe62e1e21fd4d64b32050632eeb0d59": {
     "model_module": "@jupyter-widgets/controls",
     "model_module_version": "1.5.0",
     "model_name": "DescriptionStyleModel",
     "state": {
      "_model_module": "@jupyter-widgets/controls",
      "_model_module_version": "1.5.0",
      "_model_name": "DescriptionStyleModel",
      "_view_count": null,
      "_view_module": "@jupyter-widgets/base",
      "_view_module_version": "1.2.0",
      "_view_name": "StyleView",
      "description_width": ""
     }
    },
    "5407098d4c374521b004ca4102d75b66": {
     "model_module": "@jupyter-widgets/controls",
     "model_module_version": "1.5.0",
     "model_name": "HBoxModel",
     "state": {
      "_dom_classes": [],
      "_model_module": "@jupyter-widgets/controls",
      "_model_module_version": "1.5.0",
      "_model_name": "HBoxModel",
      "_view_count": null,
      "_view_module": "@jupyter-widgets/controls",
      "_view_module_version": "1.5.0",
      "_view_name": "HBoxView",
      "box_style": "",
      "children": [
       "IPY_MODEL_843fa3533d444b2c837bf1868a1b9725",
       "IPY_MODEL_594242898371447090d5374bbe1cfeea",
       "IPY_MODEL_f9e7bbfb196a42e9b97626a339cea9e3"
      ],
      "layout": "IPY_MODEL_558a140c59c449d0abecdb4a5867b11c"
     }
    },
    "558a140c59c449d0abecdb4a5867b11c": {
     "model_module": "@jupyter-widgets/base",
     "model_module_version": "1.2.0",
     "model_name": "LayoutModel",
     "state": {
      "_model_module": "@jupyter-widgets/base",
      "_model_module_version": "1.2.0",
      "_model_name": "LayoutModel",
      "_view_count": null,
      "_view_module": "@jupyter-widgets/base",
      "_view_module_version": "1.2.0",
      "_view_name": "LayoutView",
      "align_content": null,
      "align_items": null,
      "align_self": null,
      "border": null,
      "bottom": null,
      "display": null,
      "flex": null,
      "flex_flow": null,
      "grid_area": null,
      "grid_auto_columns": null,
      "grid_auto_flow": null,
      "grid_auto_rows": null,
      "grid_column": null,
      "grid_gap": null,
      "grid_row": null,
      "grid_template_areas": null,
      "grid_template_columns": null,
      "grid_template_rows": null,
      "height": null,
      "justify_content": null,
      "justify_items": null,
      "left": null,
      "margin": null,
      "max_height": null,
      "max_width": null,
      "min_height": null,
      "min_width": null,
      "object_fit": null,
      "object_position": null,
      "order": null,
      "overflow": null,
      "overflow_x": null,
      "overflow_y": null,
      "padding": null,
      "right": null,
      "top": null,
      "visibility": null,
      "width": null
     }
    },
    "594242898371447090d5374bbe1cfeea": {
     "model_module": "@jupyter-widgets/controls",
     "model_module_version": "1.5.0",
     "model_name": "FloatProgressModel",
     "state": {
      "_dom_classes": [],
      "_model_module": "@jupyter-widgets/controls",
      "_model_module_version": "1.5.0",
      "_model_name": "FloatProgressModel",
      "_view_count": null,
      "_view_module": "@jupyter-widgets/controls",
      "_view_module_version": "1.5.0",
      "_view_name": "ProgressView",
      "bar_style": "success",
      "description": "",
      "description_tooltip": null,
      "layout": "IPY_MODEL_9a4183ed53364b81a8c7de94bba0c3f2",
      "max": 5001,
      "min": 0,
      "orientation": "horizontal",
      "style": "IPY_MODEL_84a1798b354141ca8ad9c6f08733a686",
      "value": 5001
     }
    },
    "59b2bc20c9524bd89b28c31ceb8b758f": {
     "model_module": "@jupyter-widgets/controls",
     "model_module_version": "1.5.0",
     "model_name": "HTMLModel",
     "state": {
      "_dom_classes": [],
      "_model_module": "@jupyter-widgets/controls",
      "_model_module_version": "1.5.0",
      "_model_name": "HTMLModel",
      "_view_count": null,
      "_view_module": "@jupyter-widgets/controls",
      "_view_module_version": "1.5.0",
      "_view_name": "HTMLView",
      "description": "",
      "description_tooltip": null,
      "layout": "IPY_MODEL_a0ce05fbf2c14afaace3df10cb13be89",
      "placeholder": "​",
      "style": "IPY_MODEL_66749085f4144dad9b4b1b87d396ca88",
      "value": " 5001/5001 [00:01&lt;00:00, 2887.74it/s]"
     }
    },
    "5ed3fc64abf345a59b8348da0de36fbc": {
     "model_module": "@jupyter-widgets/controls",
     "model_module_version": "1.5.0",
     "model_name": "DescriptionStyleModel",
     "state": {
      "_model_module": "@jupyter-widgets/controls",
      "_model_module_version": "1.5.0",
      "_model_name": "DescriptionStyleModel",
      "_view_count": null,
      "_view_module": "@jupyter-widgets/base",
      "_view_module_version": "1.2.0",
      "_view_name": "StyleView",
      "description_width": ""
     }
    },
    "64f50a70a9594ce889cc645643063dd3": {
     "model_module": "@jupyter-widgets/controls",
     "model_module_version": "1.5.0",
     "model_name": "HTMLModel",
     "state": {
      "_dom_classes": [],
      "_model_module": "@jupyter-widgets/controls",
      "_model_module_version": "1.5.0",
      "_model_name": "HTMLModel",
      "_view_count": null,
      "_view_module": "@jupyter-widgets/controls",
      "_view_module_version": "1.5.0",
      "_view_name": "HTMLView",
      "description": "",
      "description_tooltip": null,
      "layout": "IPY_MODEL_0993f1cd4f0c4a928b2b8d1a3a160dba",
      "placeholder": "​",
      "style": "IPY_MODEL_4fe62e1e21fd4d64b32050632eeb0d59",
      "value": " 5001/5001 [00:01&lt;00:00, 3589.33it/s]"
     }
    },
    "66749085f4144dad9b4b1b87d396ca88": {
     "model_module": "@jupyter-widgets/controls",
     "model_module_version": "1.5.0",
     "model_name": "DescriptionStyleModel",
     "state": {
      "_model_module": "@jupyter-widgets/controls",
      "_model_module_version": "1.5.0",
      "_model_name": "DescriptionStyleModel",
      "_view_count": null,
      "_view_module": "@jupyter-widgets/base",
      "_view_module_version": "1.2.0",
      "_view_name": "StyleView",
      "description_width": ""
     }
    },
    "7831a21d238a4a1da14d102580ebdf78": {
     "model_module": "@jupyter-widgets/controls",
     "model_module_version": "1.5.0",
     "model_name": "ProgressStyleModel",
     "state": {
      "_model_module": "@jupyter-widgets/controls",
      "_model_module_version": "1.5.0",
      "_model_name": "ProgressStyleModel",
      "_view_count": null,
      "_view_module": "@jupyter-widgets/base",
      "_view_module_version": "1.2.0",
      "_view_name": "StyleView",
      "bar_color": null,
      "description_width": ""
     }
    },
    "8040d429311d49b99ba387f22916de18": {
     "model_module": "@jupyter-widgets/base",
     "model_module_version": "1.2.0",
     "model_name": "LayoutModel",
     "state": {
      "_model_module": "@jupyter-widgets/base",
      "_model_module_version": "1.2.0",
      "_model_name": "LayoutModel",
      "_view_count": null,
      "_view_module": "@jupyter-widgets/base",
      "_view_module_version": "1.2.0",
      "_view_name": "LayoutView",
      "align_content": null,
      "align_items": null,
      "align_self": null,
      "border": null,
      "bottom": null,
      "display": null,
      "flex": null,
      "flex_flow": null,
      "grid_area": null,
      "grid_auto_columns": null,
      "grid_auto_flow": null,
      "grid_auto_rows": null,
      "grid_column": null,
      "grid_gap": null,
      "grid_row": null,
      "grid_template_areas": null,
      "grid_template_columns": null,
      "grid_template_rows": null,
      "height": null,
      "justify_content": null,
      "justify_items": null,
      "left": null,
      "margin": null,
      "max_height": null,
      "max_width": null,
      "min_height": null,
      "min_width": null,
      "object_fit": null,
      "object_position": null,
      "order": null,
      "overflow": null,
      "overflow_x": null,
      "overflow_y": null,
      "padding": null,
      "right": null,
      "top": null,
      "visibility": null,
      "width": null
     }
    },
    "843fa3533d444b2c837bf1868a1b9725": {
     "model_module": "@jupyter-widgets/controls",
     "model_module_version": "1.5.0",
     "model_name": "HTMLModel",
     "state": {
      "_dom_classes": [],
      "_model_module": "@jupyter-widgets/controls",
      "_model_module_version": "1.5.0",
      "_model_name": "HTMLModel",
      "_view_count": null,
      "_view_module": "@jupyter-widgets/controls",
      "_view_module_version": "1.5.0",
      "_view_name": "HTMLView",
      "description": "",
      "description_tooltip": null,
      "layout": "IPY_MODEL_8040d429311d49b99ba387f22916de18",
      "placeholder": "​",
      "style": "IPY_MODEL_ce1ada80ecb6427a857c8f0a1076c029",
      "value": "100%"
     }
    },
    "84a1798b354141ca8ad9c6f08733a686": {
     "model_module": "@jupyter-widgets/controls",
     "model_module_version": "1.5.0",
     "model_name": "ProgressStyleModel",
     "state": {
      "_model_module": "@jupyter-widgets/controls",
      "_model_module_version": "1.5.0",
      "_model_name": "ProgressStyleModel",
      "_view_count": null,
      "_view_module": "@jupyter-widgets/base",
      "_view_module_version": "1.2.0",
      "_view_name": "StyleView",
      "bar_color": null,
      "description_width": ""
     }
    },
    "9a4183ed53364b81a8c7de94bba0c3f2": {
     "model_module": "@jupyter-widgets/base",
     "model_module_version": "1.2.0",
     "model_name": "LayoutModel",
     "state": {
      "_model_module": "@jupyter-widgets/base",
      "_model_module_version": "1.2.0",
      "_model_name": "LayoutModel",
      "_view_count": null,
      "_view_module": "@jupyter-widgets/base",
      "_view_module_version": "1.2.0",
      "_view_name": "LayoutView",
      "align_content": null,
      "align_items": null,
      "align_self": null,
      "border": null,
      "bottom": null,
      "display": null,
      "flex": null,
      "flex_flow": null,
      "grid_area": null,
      "grid_auto_columns": null,
      "grid_auto_flow": null,
      "grid_auto_rows": null,
      "grid_column": null,
      "grid_gap": null,
      "grid_row": null,
      "grid_template_areas": null,
      "grid_template_columns": null,
      "grid_template_rows": null,
      "height": null,
      "justify_content": null,
      "justify_items": null,
      "left": null,
      "margin": null,
      "max_height": null,
      "max_width": null,
      "min_height": null,
      "min_width": null,
      "object_fit": null,
      "object_position": null,
      "order": null,
      "overflow": null,
      "overflow_x": null,
      "overflow_y": null,
      "padding": null,
      "right": null,
      "top": null,
      "visibility": null,
      "width": null
     }
    },
    "9e54299536b941398446e57f99e04292": {
     "model_module": "@jupyter-widgets/base",
     "model_module_version": "1.2.0",
     "model_name": "LayoutModel",
     "state": {
      "_model_module": "@jupyter-widgets/base",
      "_model_module_version": "1.2.0",
      "_model_name": "LayoutModel",
      "_view_count": null,
      "_view_module": "@jupyter-widgets/base",
      "_view_module_version": "1.2.0",
      "_view_name": "LayoutView",
      "align_content": null,
      "align_items": null,
      "align_self": null,
      "border": null,
      "bottom": null,
      "display": null,
      "flex": null,
      "flex_flow": null,
      "grid_area": null,
      "grid_auto_columns": null,
      "grid_auto_flow": null,
      "grid_auto_rows": null,
      "grid_column": null,
      "grid_gap": null,
      "grid_row": null,
      "grid_template_areas": null,
      "grid_template_columns": null,
      "grid_template_rows": null,
      "height": null,
      "justify_content": null,
      "justify_items": null,
      "left": null,
      "margin": null,
      "max_height": null,
      "max_width": null,
      "min_height": null,
      "min_width": null,
      "object_fit": null,
      "object_position": null,
      "order": null,
      "overflow": null,
      "overflow_x": null,
      "overflow_y": null,
      "padding": null,
      "right": null,
      "top": null,
      "visibility": null,
      "width": null
     }
    },
    "a0ce05fbf2c14afaace3df10cb13be89": {
     "model_module": "@jupyter-widgets/base",
     "model_module_version": "1.2.0",
     "model_name": "LayoutModel",
     "state": {
      "_model_module": "@jupyter-widgets/base",
      "_model_module_version": "1.2.0",
      "_model_name": "LayoutModel",
      "_view_count": null,
      "_view_module": "@jupyter-widgets/base",
      "_view_module_version": "1.2.0",
      "_view_name": "LayoutView",
      "align_content": null,
      "align_items": null,
      "align_self": null,
      "border": null,
      "bottom": null,
      "display": null,
      "flex": null,
      "flex_flow": null,
      "grid_area": null,
      "grid_auto_columns": null,
      "grid_auto_flow": null,
      "grid_auto_rows": null,
      "grid_column": null,
      "grid_gap": null,
      "grid_row": null,
      "grid_template_areas": null,
      "grid_template_columns": null,
      "grid_template_rows": null,
      "height": null,
      "justify_content": null,
      "justify_items": null,
      "left": null,
      "margin": null,
      "max_height": null,
      "max_width": null,
      "min_height": null,
      "min_width": null,
      "object_fit": null,
      "object_position": null,
      "order": null,
      "overflow": null,
      "overflow_x": null,
      "overflow_y": null,
      "padding": null,
      "right": null,
      "top": null,
      "visibility": null,
      "width": null
     }
    },
    "abf7361c73a44563bd2e30141668af2e": {
     "model_module": "@jupyter-widgets/base",
     "model_module_version": "1.2.0",
     "model_name": "LayoutModel",
     "state": {
      "_model_module": "@jupyter-widgets/base",
      "_model_module_version": "1.2.0",
      "_model_name": "LayoutModel",
      "_view_count": null,
      "_view_module": "@jupyter-widgets/base",
      "_view_module_version": "1.2.0",
      "_view_name": "LayoutView",
      "align_content": null,
      "align_items": null,
      "align_self": null,
      "border": null,
      "bottom": null,
      "display": null,
      "flex": null,
      "flex_flow": null,
      "grid_area": null,
      "grid_auto_columns": null,
      "grid_auto_flow": null,
      "grid_auto_rows": null,
      "grid_column": null,
      "grid_gap": null,
      "grid_row": null,
      "grid_template_areas": null,
      "grid_template_columns": null,
      "grid_template_rows": null,
      "height": null,
      "justify_content": null,
      "justify_items": null,
      "left": null,
      "margin": null,
      "max_height": null,
      "max_width": null,
      "min_height": null,
      "min_width": null,
      "object_fit": null,
      "object_position": null,
      "order": null,
      "overflow": null,
      "overflow_x": null,
      "overflow_y": null,
      "padding": null,
      "right": null,
      "top": null,
      "visibility": null,
      "width": null
     }
    },
    "b11ca4f2601d4f76979d576f5672d6d8": {
     "model_module": "@jupyter-widgets/controls",
     "model_module_version": "1.5.0",
     "model_name": "FloatProgressModel",
     "state": {
      "_dom_classes": [],
      "_model_module": "@jupyter-widgets/controls",
      "_model_module_version": "1.5.0",
      "_model_name": "FloatProgressModel",
      "_view_count": null,
      "_view_module": "@jupyter-widgets/controls",
      "_view_module_version": "1.5.0",
      "_view_name": "ProgressView",
      "bar_style": "success",
      "description": "",
      "description_tooltip": null,
      "layout": "IPY_MODEL_39c1b8c5d7214f4ea8aebbc4e84a3e8b",
      "max": 5001,
      "min": 0,
      "orientation": "horizontal",
      "style": "IPY_MODEL_b9946f999c67477f83a09fe351d7e33b",
      "value": 5001
     }
    },
    "b4ab621b993f4a879c627d4c22447ead": {
     "model_module": "@jupyter-widgets/controls",
     "model_module_version": "1.5.0",
     "model_name": "HBoxModel",
     "state": {
      "_dom_classes": [],
      "_model_module": "@jupyter-widgets/controls",
      "_model_module_version": "1.5.0",
      "_model_name": "HBoxModel",
      "_view_count": null,
      "_view_module": "@jupyter-widgets/controls",
      "_view_module_version": "1.5.0",
      "_view_name": "HBoxView",
      "box_style": "",
      "children": [
       "IPY_MODEL_e7bd2cb80d2b4379abe45543120cae29",
       "IPY_MODEL_29e272438def4be49be8607110d4c302",
       "IPY_MODEL_43aa43b8855b46e59a849c3e0173bf50"
      ],
      "layout": "IPY_MODEL_345b6b3525274c62bde7964180349268"
     }
    },
    "b978246119e942c7818b126e9b902b3a": {
     "model_module": "@jupyter-widgets/controls",
     "model_module_version": "1.5.0",
     "model_name": "ProgressStyleModel",
     "state": {
      "_model_module": "@jupyter-widgets/controls",
      "_model_module_version": "1.5.0",
      "_model_name": "ProgressStyleModel",
      "_view_count": null,
      "_view_module": "@jupyter-widgets/base",
      "_view_module_version": "1.2.0",
      "_view_name": "StyleView",
      "bar_color": null,
      "description_width": ""
     }
    },
    "b9946f999c67477f83a09fe351d7e33b": {
     "model_module": "@jupyter-widgets/controls",
     "model_module_version": "1.5.0",
     "model_name": "ProgressStyleModel",
     "state": {
      "_model_module": "@jupyter-widgets/controls",
      "_model_module_version": "1.5.0",
      "_model_name": "ProgressStyleModel",
      "_view_count": null,
      "_view_module": "@jupyter-widgets/base",
      "_view_module_version": "1.2.0",
      "_view_name": "StyleView",
      "bar_color": null,
      "description_width": ""
     }
    },
    "bac0443395d842d89c5cacf38f998c02": {
     "model_module": "@jupyter-widgets/base",
     "model_module_version": "1.2.0",
     "model_name": "LayoutModel",
     "state": {
      "_model_module": "@jupyter-widgets/base",
      "_model_module_version": "1.2.0",
      "_model_name": "LayoutModel",
      "_view_count": null,
      "_view_module": "@jupyter-widgets/base",
      "_view_module_version": "1.2.0",
      "_view_name": "LayoutView",
      "align_content": null,
      "align_items": null,
      "align_self": null,
      "border": null,
      "bottom": null,
      "display": null,
      "flex": null,
      "flex_flow": null,
      "grid_area": null,
      "grid_auto_columns": null,
      "grid_auto_flow": null,
      "grid_auto_rows": null,
      "grid_column": null,
      "grid_gap": null,
      "grid_row": null,
      "grid_template_areas": null,
      "grid_template_columns": null,
      "grid_template_rows": null,
      "height": null,
      "justify_content": null,
      "justify_items": null,
      "left": null,
      "margin": null,
      "max_height": null,
      "max_width": null,
      "min_height": null,
      "min_width": null,
      "object_fit": null,
      "object_position": null,
      "order": null,
      "overflow": null,
      "overflow_x": null,
      "overflow_y": null,
      "padding": null,
      "right": null,
      "top": null,
      "visibility": null,
      "width": null
     }
    },
    "be01f0ee5ed8442a9da833c6e3a609b5": {
     "model_module": "@jupyter-widgets/controls",
     "model_module_version": "1.5.0",
     "model_name": "DescriptionStyleModel",
     "state": {
      "_model_module": "@jupyter-widgets/controls",
      "_model_module_version": "1.5.0",
      "_model_name": "DescriptionStyleModel",
      "_view_count": null,
      "_view_module": "@jupyter-widgets/base",
      "_view_module_version": "1.2.0",
      "_view_name": "StyleView",
      "description_width": ""
     }
    },
    "c7f30dce2f4f492ba382726159859b90": {
     "model_module": "@jupyter-widgets/controls",
     "model_module_version": "1.5.0",
     "model_name": "HTMLModel",
     "state": {
      "_dom_classes": [],
      "_model_module": "@jupyter-widgets/controls",
      "_model_module_version": "1.5.0",
      "_model_name": "HTMLModel",
      "_view_count": null,
      "_view_module": "@jupyter-widgets/controls",
      "_view_module_version": "1.5.0",
      "_view_name": "HTMLView",
      "description": "",
      "description_tooltip": null,
      "layout": "IPY_MODEL_bac0443395d842d89c5cacf38f998c02",
      "placeholder": "​",
      "style": "IPY_MODEL_e9e77d4cef364d38a192c58817577d66",
      "value": "100%"
     }
    },
    "c8efb5bfcee14732bdaeed7c430c235e": {
     "model_module": "@jupyter-widgets/base",
     "model_module_version": "1.2.0",
     "model_name": "LayoutModel",
     "state": {
      "_model_module": "@jupyter-widgets/base",
      "_model_module_version": "1.2.0",
      "_model_name": "LayoutModel",
      "_view_count": null,
      "_view_module": "@jupyter-widgets/base",
      "_view_module_version": "1.2.0",
      "_view_name": "LayoutView",
      "align_content": null,
      "align_items": null,
      "align_self": null,
      "border": null,
      "bottom": null,
      "display": null,
      "flex": null,
      "flex_flow": null,
      "grid_area": null,
      "grid_auto_columns": null,
      "grid_auto_flow": null,
      "grid_auto_rows": null,
      "grid_column": null,
      "grid_gap": null,
      "grid_row": null,
      "grid_template_areas": null,
      "grid_template_columns": null,
      "grid_template_rows": null,
      "height": null,
      "justify_content": null,
      "justify_items": null,
      "left": null,
      "margin": null,
      "max_height": null,
      "max_width": null,
      "min_height": null,
      "min_width": null,
      "object_fit": null,
      "object_position": null,
      "order": null,
      "overflow": null,
      "overflow_x": null,
      "overflow_y": null,
      "padding": null,
      "right": null,
      "top": null,
      "visibility": null,
      "width": null
     }
    },
    "ce1ada80ecb6427a857c8f0a1076c029": {
     "model_module": "@jupyter-widgets/controls",
     "model_module_version": "1.5.0",
     "model_name": "DescriptionStyleModel",
     "state": {
      "_model_module": "@jupyter-widgets/controls",
      "_model_module_version": "1.5.0",
      "_model_name": "DescriptionStyleModel",
      "_view_count": null,
      "_view_module": "@jupyter-widgets/base",
      "_view_module_version": "1.2.0",
      "_view_name": "StyleView",
      "description_width": ""
     }
    },
    "cfec0af668844031ae87448b88ad70af": {
     "model_module": "@jupyter-widgets/controls",
     "model_module_version": "1.5.0",
     "model_name": "HBoxModel",
     "state": {
      "_dom_classes": [],
      "_model_module": "@jupyter-widgets/controls",
      "_model_module_version": "1.5.0",
      "_model_name": "HBoxModel",
      "_view_count": null,
      "_view_module": "@jupyter-widgets/controls",
      "_view_module_version": "1.5.0",
      "_view_name": "HBoxView",
      "box_style": "",
      "children": [
       "IPY_MODEL_c7f30dce2f4f492ba382726159859b90",
       "IPY_MODEL_134c5404c529448f842917125a277e0d",
       "IPY_MODEL_64f50a70a9594ce889cc645643063dd3"
      ],
      "layout": "IPY_MODEL_294d039f558846a7a1fccb2b940ad4aa"
     }
    },
    "d53900b28f1a4a2997b8eef5184b7a1d": {
     "model_module": "@jupyter-widgets/controls",
     "model_module_version": "1.5.0",
     "model_name": "HBoxModel",
     "state": {
      "_dom_classes": [],
      "_model_module": "@jupyter-widgets/controls",
      "_model_module_version": "1.5.0",
      "_model_name": "HBoxModel",
      "_view_count": null,
      "_view_module": "@jupyter-widgets/controls",
      "_view_module_version": "1.5.0",
      "_view_name": "HBoxView",
      "box_style": "",
      "children": [
       "IPY_MODEL_f2a07b219cfa49eba992d109e2091445",
       "IPY_MODEL_b11ca4f2601d4f76979d576f5672d6d8",
       "IPY_MODEL_59b2bc20c9524bd89b28c31ceb8b758f"
      ],
      "layout": "IPY_MODEL_18b1c5dd9b9c457a813fc62b94014298"
     }
    },
    "df55c2a2a6f64d89b55fab63b9301949": {
     "model_module": "@jupyter-widgets/controls",
     "model_module_version": "1.5.0",
     "model_name": "DescriptionStyleModel",
     "state": {
      "_model_module": "@jupyter-widgets/controls",
      "_model_module_version": "1.5.0",
      "_model_name": "DescriptionStyleModel",
      "_view_count": null,
      "_view_module": "@jupyter-widgets/base",
      "_view_module_version": "1.2.0",
      "_view_name": "StyleView",
      "description_width": ""
     }
    },
    "e53fdcd3aa5b4660aadd6c97373e9b4c": {
     "model_module": "@jupyter-widgets/base",
     "model_module_version": "1.2.0",
     "model_name": "LayoutModel",
     "state": {
      "_model_module": "@jupyter-widgets/base",
      "_model_module_version": "1.2.0",
      "_model_name": "LayoutModel",
      "_view_count": null,
      "_view_module": "@jupyter-widgets/base",
      "_view_module_version": "1.2.0",
      "_view_name": "LayoutView",
      "align_content": null,
      "align_items": null,
      "align_self": null,
      "border": null,
      "bottom": null,
      "display": null,
      "flex": null,
      "flex_flow": null,
      "grid_area": null,
      "grid_auto_columns": null,
      "grid_auto_flow": null,
      "grid_auto_rows": null,
      "grid_column": null,
      "grid_gap": null,
      "grid_row": null,
      "grid_template_areas": null,
      "grid_template_columns": null,
      "grid_template_rows": null,
      "height": null,
      "justify_content": null,
      "justify_items": null,
      "left": null,
      "margin": null,
      "max_height": null,
      "max_width": null,
      "min_height": null,
      "min_width": null,
      "object_fit": null,
      "object_position": null,
      "order": null,
      "overflow": null,
      "overflow_x": null,
      "overflow_y": null,
      "padding": null,
      "right": null,
      "top": null,
      "visibility": null,
      "width": null
     }
    },
    "e7bd2cb80d2b4379abe45543120cae29": {
     "model_module": "@jupyter-widgets/controls",
     "model_module_version": "1.5.0",
     "model_name": "HTMLModel",
     "state": {
      "_dom_classes": [],
      "_model_module": "@jupyter-widgets/controls",
      "_model_module_version": "1.5.0",
      "_model_name": "HTMLModel",
      "_view_count": null,
      "_view_module": "@jupyter-widgets/controls",
      "_view_module_version": "1.5.0",
      "_view_name": "HTMLView",
      "description": "",
      "description_tooltip": null,
      "layout": "IPY_MODEL_9e54299536b941398446e57f99e04292",
      "placeholder": "​",
      "style": "IPY_MODEL_be01f0ee5ed8442a9da833c6e3a609b5",
      "value": "100%"
     }
    },
    "e9e77d4cef364d38a192c58817577d66": {
     "model_module": "@jupyter-widgets/controls",
     "model_module_version": "1.5.0",
     "model_name": "DescriptionStyleModel",
     "state": {
      "_model_module": "@jupyter-widgets/controls",
      "_model_module_version": "1.5.0",
      "_model_name": "DescriptionStyleModel",
      "_view_count": null,
      "_view_module": "@jupyter-widgets/base",
      "_view_module_version": "1.2.0",
      "_view_name": "StyleView",
      "description_width": ""
     }
    },
    "f2a07b219cfa49eba992d109e2091445": {
     "model_module": "@jupyter-widgets/controls",
     "model_module_version": "1.5.0",
     "model_name": "HTMLModel",
     "state": {
      "_dom_classes": [],
      "_model_module": "@jupyter-widgets/controls",
      "_model_module_version": "1.5.0",
      "_model_name": "HTMLModel",
      "_view_count": null,
      "_view_module": "@jupyter-widgets/controls",
      "_view_module_version": "1.5.0",
      "_view_name": "HTMLView",
      "description": "",
      "description_tooltip": null,
      "layout": "IPY_MODEL_e53fdcd3aa5b4660aadd6c97373e9b4c",
      "placeholder": "​",
      "style": "IPY_MODEL_df55c2a2a6f64d89b55fab63b9301949",
      "value": "100%"
     }
    },
    "f9e7bbfb196a42e9b97626a339cea9e3": {
     "model_module": "@jupyter-widgets/controls",
     "model_module_version": "1.5.0",
     "model_name": "HTMLModel",
     "state": {
      "_dom_classes": [],
      "_model_module": "@jupyter-widgets/controls",
      "_model_module_version": "1.5.0",
      "_model_name": "HTMLModel",
      "_view_count": null,
      "_view_module": "@jupyter-widgets/controls",
      "_view_module_version": "1.5.0",
      "_view_name": "HTMLView",
      "description": "",
      "description_tooltip": null,
      "layout": "IPY_MODEL_0f0be173e5ad4caba3f5b3e72e994a57",
      "placeholder": "​",
      "style": "IPY_MODEL_5ed3fc64abf345a59b8348da0de36fbc",
      "value": " 5001/5001 [00:01&lt;00:00, 3487.63it/s]"
     }
    }
   }
  }
 },
 "nbformat": 4,
 "nbformat_minor": 1
}
